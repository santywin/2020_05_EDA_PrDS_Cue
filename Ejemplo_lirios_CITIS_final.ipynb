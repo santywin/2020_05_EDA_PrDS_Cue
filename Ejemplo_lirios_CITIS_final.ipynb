{
  "nbformat": 4,
  "nbformat_minor": 0,
  "metadata": {
    "kernelspec": {
      "display_name": "Python 3",
      "language": "python",
      "name": "python3"
    },
    "language_info": {
      "codemirror_mode": {
        "name": "ipython",
        "version": 3
      },
      "file_extension": ".py",
      "mimetype": "text/x-python",
      "name": "python",
      "nbconvert_exporter": "python",
      "pygments_lexer": "ipython3",
      "version": "3.7.4"
    },
    "colab": {
      "name": "Ejemplo_lirios_CITIS_final.ipynb",
      "provenance": [],
      "toc_visible": true,
      "include_colab_link": true
    }
  },
  "cells": [
    {
      "cell_type": "markdown",
      "metadata": {
        "id": "view-in-github",
        "colab_type": "text"
      },
      "source": [
        "<a href=\"https://colab.research.google.com/github/santywin/2020_05_EDA_PrDS_Cue/blob/master/Ejemplo_lirios_CITIS_final.ipynb\" target=\"_parent\"><img src=\"https://colab.research.google.com/assets/colab-badge.svg\" alt=\"Open In Colab\"/></a>"
      ]
    },
    {
      "cell_type": "code",
      "metadata": {
        "id": "5I8u2nYfNRtJ"
      },
      "source": [
        "\n",
        "#Importar funciones\n",
        "import pandas as pd\n",
        "import numpy as np\n",
        "import seaborn as sns\n",
        "%config IPCompleter.greedy=True"
      ],
      "execution_count": null,
      "outputs": []
    },
    {
      "cell_type": "code",
      "metadata": {
        "colab": {
          "resources": {
            "http://localhost:8080/nbextensions/google.colab/files.js": {
              "data": "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",
              "ok": true,
              "headers": [
                [
                  "content-type",
                  "application/javascript"
                ]
              ],
              "status": 200,
              "status_text": ""
            }
          },
          "base_uri": "https://localhost:8080/",
          "height": 72
        },
        "id": "GZH36R0jQ5tA",
        "outputId": "27d68bc5-fdc0-436b-d338-fac545bf4583"
      },
      "source": [
        "from google.colab import files\n",
        "uploaded = files.upload()"
      ],
      "execution_count": null,
      "outputs": [
        {
          "output_type": "display_data",
          "data": {
            "text/html": [
              "\n",
              "     <input type=\"file\" id=\"files-a8a4dade-edc4-4cea-a284-27c0ad928150\" name=\"files[]\" multiple disabled\n",
              "        style=\"border:none\" />\n",
              "     <output id=\"result-a8a4dade-edc4-4cea-a284-27c0ad928150\">\n",
              "      Upload widget is only available when the cell has been executed in the\n",
              "      current browser session. Please rerun this cell to enable.\n",
              "      </output>\n",
              "      <script src=\"/nbextensions/google.colab/files.js\"></script> "
            ],
            "text/plain": [
              "<IPython.core.display.HTML object>"
            ]
          },
          "metadata": {
            "tags": []
          }
        },
        {
          "output_type": "stream",
          "text": [
            "Saving iris.csv to iris (2).csv\n"
          ],
          "name": "stdout"
        }
      ]
    },
    {
      "cell_type": "code",
      "metadata": {
        "id": "vTnCvaYrNRtM"
      },
      "source": [
        "data=pd.read_csv(\"iris.csv\")"
      ],
      "execution_count": null,
      "outputs": []
    },
    {
      "cell_type": "code",
      "metadata": {
        "colab": {
          "base_uri": "https://localhost:8080/",
          "height": 197
        },
        "id": "ftzdbf34NRtN",
        "outputId": "b8535611-5511-4f1b-cdc4-11af61cbcc03"
      },
      "source": [
        "data.head()"
      ],
      "execution_count": null,
      "outputs": [
        {
          "output_type": "execute_result",
          "data": {
            "text/html": [
              "<div>\n",
              "<style scoped>\n",
              "    .dataframe tbody tr th:only-of-type {\n",
              "        vertical-align: middle;\n",
              "    }\n",
              "\n",
              "    .dataframe tbody tr th {\n",
              "        vertical-align: top;\n",
              "    }\n",
              "\n",
              "    .dataframe thead th {\n",
              "        text-align: right;\n",
              "    }\n",
              "</style>\n",
              "<table border=\"1\" class=\"dataframe\">\n",
              "  <thead>\n",
              "    <tr style=\"text-align: right;\">\n",
              "      <th></th>\n",
              "      <th>Sepal.Length</th>\n",
              "      <th>Sepal.Width</th>\n",
              "      <th>Petal.Length</th>\n",
              "      <th>Petal.Width</th>\n",
              "      <th>Species</th>\n",
              "    </tr>\n",
              "  </thead>\n",
              "  <tbody>\n",
              "    <tr>\n",
              "      <th>0</th>\n",
              "      <td>5.1</td>\n",
              "      <td>3.5</td>\n",
              "      <td>1.4</td>\n",
              "      <td>0.2</td>\n",
              "      <td>setosa</td>\n",
              "    </tr>\n",
              "    <tr>\n",
              "      <th>1</th>\n",
              "      <td>4.9</td>\n",
              "      <td>3.0</td>\n",
              "      <td>1.4</td>\n",
              "      <td>0.2</td>\n",
              "      <td>setosa</td>\n",
              "    </tr>\n",
              "    <tr>\n",
              "      <th>2</th>\n",
              "      <td>4.7</td>\n",
              "      <td>3.2</td>\n",
              "      <td>1.3</td>\n",
              "      <td>0.2</td>\n",
              "      <td>setosa</td>\n",
              "    </tr>\n",
              "    <tr>\n",
              "      <th>3</th>\n",
              "      <td>4.6</td>\n",
              "      <td>3.1</td>\n",
              "      <td>1.5</td>\n",
              "      <td>0.2</td>\n",
              "      <td>setosa</td>\n",
              "    </tr>\n",
              "    <tr>\n",
              "      <th>4</th>\n",
              "      <td>5.0</td>\n",
              "      <td>3.6</td>\n",
              "      <td>1.4</td>\n",
              "      <td>0.2</td>\n",
              "      <td>setosa</td>\n",
              "    </tr>\n",
              "  </tbody>\n",
              "</table>\n",
              "</div>"
            ],
            "text/plain": [
              "   Sepal.Length  Sepal.Width  Petal.Length  Petal.Width Species\n",
              "0           5.1          3.5           1.4          0.2  setosa\n",
              "1           4.9          3.0           1.4          0.2  setosa\n",
              "2           4.7          3.2           1.3          0.2  setosa\n",
              "3           4.6          3.1           1.5          0.2  setosa\n",
              "4           5.0          3.6           1.4          0.2  setosa"
            ]
          },
          "metadata": {
            "tags": []
          },
          "execution_count": 4
        }
      ]
    },
    {
      "cell_type": "code",
      "metadata": {
        "colab": {
          "base_uri": "https://localhost:8080/"
        },
        "id": "WbZXmQGpNRtO",
        "outputId": "8df81518-437f-4509-9cae-9dccc2d20607"
      },
      "source": [
        "data.shape"
      ],
      "execution_count": null,
      "outputs": [
        {
          "output_type": "execute_result",
          "data": {
            "text/plain": [
              "(150, 5)"
            ]
          },
          "metadata": {
            "tags": []
          },
          "execution_count": 5
        }
      ]
    },
    {
      "cell_type": "code",
      "metadata": {
        "colab": {
          "base_uri": "https://localhost:8080/"
        },
        "id": "59syRc-YNRtP",
        "outputId": "448db392-5b7f-40fe-cc5f-a54e806dd5a1"
      },
      "source": [
        "data.columns.values"
      ],
      "execution_count": null,
      "outputs": [
        {
          "output_type": "execute_result",
          "data": {
            "text/plain": [
              "array(['Sepal.Length', 'Sepal.Width', 'Petal.Length', 'Petal.Width',\n",
              "       'Species'], dtype=object)"
            ]
          },
          "metadata": {
            "tags": []
          },
          "execution_count": 6
        }
      ]
    },
    {
      "cell_type": "code",
      "metadata": {
        "colab": {
          "base_uri": "https://localhost:8080/",
          "height": 287
        },
        "id": "aXt-L1EnNRtR",
        "outputId": "6a58dec9-66ad-4e14-b5c0-8153cc7c7006"
      },
      "source": [
        "data.describe()"
      ],
      "execution_count": null,
      "outputs": [
        {
          "output_type": "execute_result",
          "data": {
            "text/html": [
              "<div>\n",
              "<style scoped>\n",
              "    .dataframe tbody tr th:only-of-type {\n",
              "        vertical-align: middle;\n",
              "    }\n",
              "\n",
              "    .dataframe tbody tr th {\n",
              "        vertical-align: top;\n",
              "    }\n",
              "\n",
              "    .dataframe thead th {\n",
              "        text-align: right;\n",
              "    }\n",
              "</style>\n",
              "<table border=\"1\" class=\"dataframe\">\n",
              "  <thead>\n",
              "    <tr style=\"text-align: right;\">\n",
              "      <th></th>\n",
              "      <th>Sepal.Length</th>\n",
              "      <th>Sepal.Width</th>\n",
              "      <th>Petal.Length</th>\n",
              "      <th>Petal.Width</th>\n",
              "    </tr>\n",
              "  </thead>\n",
              "  <tbody>\n",
              "    <tr>\n",
              "      <th>count</th>\n",
              "      <td>150.000000</td>\n",
              "      <td>150.000000</td>\n",
              "      <td>150.000000</td>\n",
              "      <td>150.000000</td>\n",
              "    </tr>\n",
              "    <tr>\n",
              "      <th>mean</th>\n",
              "      <td>5.843333</td>\n",
              "      <td>3.057333</td>\n",
              "      <td>3.758000</td>\n",
              "      <td>1.199333</td>\n",
              "    </tr>\n",
              "    <tr>\n",
              "      <th>std</th>\n",
              "      <td>0.828066</td>\n",
              "      <td>0.435866</td>\n",
              "      <td>1.765298</td>\n",
              "      <td>0.762238</td>\n",
              "    </tr>\n",
              "    <tr>\n",
              "      <th>min</th>\n",
              "      <td>4.300000</td>\n",
              "      <td>2.000000</td>\n",
              "      <td>1.000000</td>\n",
              "      <td>0.100000</td>\n",
              "    </tr>\n",
              "    <tr>\n",
              "      <th>25%</th>\n",
              "      <td>5.100000</td>\n",
              "      <td>2.800000</td>\n",
              "      <td>1.600000</td>\n",
              "      <td>0.300000</td>\n",
              "    </tr>\n",
              "    <tr>\n",
              "      <th>50%</th>\n",
              "      <td>5.800000</td>\n",
              "      <td>3.000000</td>\n",
              "      <td>4.350000</td>\n",
              "      <td>1.300000</td>\n",
              "    </tr>\n",
              "    <tr>\n",
              "      <th>75%</th>\n",
              "      <td>6.400000</td>\n",
              "      <td>3.300000</td>\n",
              "      <td>5.100000</td>\n",
              "      <td>1.800000</td>\n",
              "    </tr>\n",
              "    <tr>\n",
              "      <th>max</th>\n",
              "      <td>7.900000</td>\n",
              "      <td>4.400000</td>\n",
              "      <td>6.900000</td>\n",
              "      <td>2.500000</td>\n",
              "    </tr>\n",
              "  </tbody>\n",
              "</table>\n",
              "</div>"
            ],
            "text/plain": [
              "       Sepal.Length  Sepal.Width  Petal.Length  Petal.Width\n",
              "count    150.000000   150.000000    150.000000   150.000000\n",
              "mean       5.843333     3.057333      3.758000     1.199333\n",
              "std        0.828066     0.435866      1.765298     0.762238\n",
              "min        4.300000     2.000000      1.000000     0.100000\n",
              "25%        5.100000     2.800000      1.600000     0.300000\n",
              "50%        5.800000     3.000000      4.350000     1.300000\n",
              "75%        6.400000     3.300000      5.100000     1.800000\n",
              "max        7.900000     4.400000      6.900000     2.500000"
            ]
          },
          "metadata": {
            "tags": []
          },
          "execution_count": 7
        }
      ]
    },
    {
      "cell_type": "code",
      "metadata": {
        "id": "kcc5s3-qNRtS"
      },
      "source": [
        "import matplotlib.pyplot as plt\n",
        "%matplotlib inline"
      ],
      "execution_count": null,
      "outputs": []
    },
    {
      "cell_type": "code",
      "metadata": {
        "colab": {
          "base_uri": "https://localhost:8080/",
          "height": 298
        },
        "id": "GMmXfCXQNRtS",
        "outputId": "1744c833-3e74-4542-d702-b4e045879ffb"
      },
      "source": [
        "#grafico sencillo Scatter plot\n",
        "data.plot(kind=\"scatter\", x=\"Sepal.Length\", y=\"Sepal.Width\")"
      ],
      "execution_count": null,
      "outputs": [
        {
          "output_type": "execute_result",
          "data": {
            "text/plain": [
              "<matplotlib.axes._subplots.AxesSubplot at 0x7f023dadc910>"
            ]
          },
          "metadata": {
            "tags": []
          },
          "execution_count": 9
        },
        {
          "output_type": "display_data",
          "data": {
            "image/png": "[encoded data removed]",
            "text/plain": [
              "<Figure size 432x288 with 1 Axes>"
            ]
          },
          "metadata": {
            "tags": [],
            "needs_background": "light"
          }
        }
      ]
    },
    {
      "cell_type": "code",
      "metadata": {
        "colab": {
          "base_uri": "https://localhost:8080/",
          "height": 305
        },
        "id": "ImMmg2IcnXN6",
        "outputId": "7394eeaa-3fb4-49c8-ab06-628e7b5942db"
      },
      "source": [
        "figure, axs=plt.subplots(4,4,sharey=True, sharex=True)\n",
        "data.plot(kind=\"scatter\", x=\"Sepal.Length\", y=\"Sepal.Length\",ax=axs[0][0])\n",
        "data.plot(kind=\"scatter\", x=\"Sepal.Width\", y=\"Sepal.Length\",ax=axs[0][1])\n",
        "data.plot(kind=\"scatter\", x=\"Petal.Length\", y=\"Sepal.Length\",ax=axs[0][2])\n",
        "data.plot(kind=\"scatter\", x=\"Petal.Width\", y=\"Sepal.Length\",ax=axs[0][3])\n",
        "\n",
        "data.plot(kind=\"scatter\", x=\"Sepal.Length\", y=\"Sepal.Width\",ax=axs[1][0])\n",
        "data.plot(kind=\"scatter\", x=\"Sepal.Width\", y=\"Sepal.Width\",ax=axs[1][1])\n",
        "data.plot(kind=\"scatter\", x=\"Petal.Length\", y=\"Sepal.Width\",ax=axs[1][2])\n",
        "data.plot(kind=\"scatter\", x=\"Petal.Width\", y=\"Sepal.Width\",ax=axs[1][3])\n",
        "\n",
        "data.plot(kind=\"scatter\", x=\"Sepal.Length\", y=\"Petal.Length\",ax=axs[2][0])\n",
        "data.plot(kind=\"scatter\", x=\"Sepal.Width\", y=\"Petal.Length\",ax=axs[2][1])\n",
        "data.plot(kind=\"scatter\", x=\"Petal.Length\", y=\"Petal.Length\",ax=axs[2][2])\n",
        "data.plot(kind=\"scatter\", x=\"Petal.Width\", y=\"Petal.Length\",ax=axs[2][3])\n",
        "\n",
        "data.plot(kind=\"scatter\", x=\"Sepal.Length\", y=\"Petal.Width\",ax=axs[3][0])\n",
        "data.plot(kind=\"scatter\", x=\"Sepal.Width\", y=\"Petal.Width\",ax=axs[3][1])\n",
        "data.plot(kind=\"scatter\", x=\"Petal.Length\", y=\"Petal.Width\",ax=axs[3][2])\n",
        "data.plot(kind=\"scatter\", x=\"Petal.Width\", y=\"Petal.Width\",ax=axs[3][3])"
      ],
      "execution_count": null,
      "outputs": [
        {
          "output_type": "execute_result",
          "data": {
            "text/plain": [
              "<matplotlib.axes._subplots.AxesSubplot at 0x7f023d1f6550>"
            ]
          },
          "metadata": {
            "tags": []
          },
          "execution_count": 10
        },
        {
          "output_type": "display_data",
          "data": {
            "image/png": "[encoded data removed]",
            "text/plain": [
              "<Figure size 432x288 with 16 Axes>"
            ]
          },
          "metadata": {
            "tags": [],
            "needs_background": "light"
          }
        }
      ]
    },
    {
      "cell_type": "code",
      "metadata": {
        "colab": {
          "base_uri": "https://localhost:8080/",
          "height": 312
        },
        "id": "ymcKQJsaNRtU",
        "outputId": "8669aeb0-09cc-466b-c68e-ec12fbfed096"
      },
      "source": [
        "#regla de sturges bins= 1+log2(M)\n",
        "k=np.ceil(1+np.log2(data.shape[0]))\n",
        "plt.hist(data[\"Sepal.Length\"], bins=np.int(k))\n",
        "#bins indica el numero de divisiones\n",
        "#otra opcion bins=[0,30,60,90,120,150,180]\n",
        "plt.xlabel(\"Sepal.Length\")\n",
        "plt.ylabel(\"Frecuencia\")\n",
        "plt.title(\"Histograma asociado a la Sepal.Length\")"
      ],
      "execution_count": null,
      "outputs": [
        {
          "output_type": "execute_result",
          "data": {
            "text/plain": [
              "Text(0.5, 1.0, 'Histograma asociado a la Sepal.Length')"
            ]
          },
          "metadata": {
            "tags": []
          },
          "execution_count": 11
        },
        {
          "output_type": "display_data",
          "data": {
            "image/png": "[encoded data removed]",
            "text/plain": [
              "<Figure size 432x288 with 1 Axes>"
            ]
          },
          "metadata": {
            "tags": [],
            "needs_background": "light"
          }
        }
      ]
    },
    {
      "cell_type": "code",
      "metadata": {
        "colab": {
          "base_uri": "https://localhost:8080/",
          "height": 297
        },
        "id": "YuyPI0htNRtV",
        "outputId": "61392c76-ee43-479d-c080-f2c89ca52221"
      },
      "source": [
        "plt.boxplot(data[\"Sepal.Length\"])\n",
        "plt.ylabel(\"Sepal.Length\")\n",
        "plt.title(\"Boxplot de la Sepal.Length\")"
      ],
      "execution_count": null,
      "outputs": [
        {
          "output_type": "execute_result",
          "data": {
            "text/plain": [
              "Text(0.5, 1.0, 'Boxplot de la Sepal.Length')"
            ]
          },
          "metadata": {
            "tags": []
          },
          "execution_count": 12
        },
        {
          "output_type": "display_data",
          "data": {
            "image/png": "[encoded data removed]",
            "text/plain": [
              "<Figure size 432x288 with 1 Axes>"
            ]
          },
          "metadata": {
            "tags": [],
            "needs_background": "light"
          }
        }
      ]
    },
    {
      "cell_type": "code",
      "metadata": {
        "colab": {
          "base_uri": "https://localhost:8080/",
          "height": 312
        },
        "id": "_7a9CTmpNRtW",
        "outputId": "9ec290b4-4165-42ca-a5ae-4fa29d162906"
      },
      "source": [
        "k=np.ceil(1+np.log2(data.shape[0]))\n",
        "plt.hist(data[\"Sepal.Width\"], bins=np.int(k))\n",
        "plt.xlabel(\"Sepal.Width\")\n",
        "plt.ylabel(\"Frecuencia\")\n",
        "plt.title(\"Histograma asociado a la Sepal.Width\")"
      ],
      "execution_count": null,
      "outputs": [
        {
          "output_type": "execute_result",
          "data": {
            "text/plain": [
              "Text(0.5, 1.0, 'Histograma asociado a la Sepal.Width')"
            ]
          },
          "metadata": {
            "tags": []
          },
          "execution_count": 13
        },
        {
          "output_type": "display_data",
          "data": {
            "image/png": "[encoded data removed]",
            "text/plain": [
              "<Figure size 432x288 with 1 Axes>"
            ]
          },
          "metadata": {
            "tags": [],
            "needs_background": "light"
          }
        }
      ]
    },
    {
      "cell_type": "code",
      "metadata": {
        "colab": {
          "base_uri": "https://localhost:8080/",
          "height": 297
        },
        "id": "Hs68YZcRNRtX",
        "outputId": "c0b0d8ae-5971-4778-a261-d8a32d7306c0"
      },
      "source": [
        "plt.boxplot(data[\"Sepal.Width\"])\n",
        "plt.ylabel(\"Sepal.Width\")\n",
        "plt.title(\"Boxplot de la Sepal.Width\")"
      ],
      "execution_count": null,
      "outputs": [
        {
          "output_type": "execute_result",
          "data": {
            "text/plain": [
              "Text(0.5, 1.0, 'Boxplot de la Sepal.Width')"
            ]
          },
          "metadata": {
            "tags": []
          },
          "execution_count": 14
        },
        {
          "output_type": "display_data",
          "data": {
            "image/png": "[encoded data removed]",
            "text/plain": [
              "<Figure size 432x288 with 1 Axes>"
            ]
          },
          "metadata": {
            "tags": [],
            "needs_background": "light"
          }
        }
      ]
    },
    {
      "cell_type": "code",
      "metadata": {
        "colab": {
          "base_uri": "https://localhost:8080/",
          "height": 312
        },
        "id": "cHTuETrENRtX",
        "outputId": "2e0fd633-097b-428a-eebb-a153ac5a2e71"
      },
      "source": [
        "k=np.ceil(1+np.log2(data.shape[0]))\n",
        "plt.hist(data[\"Petal.Length\"], bins=np.int(k))\n",
        "plt.xlabel(\"Petal.Length\")\n",
        "plt.ylabel(\"Frecuencia\")\n",
        "plt.title(\"Histograma asociado a la Petal.Length\")"
      ],
      "execution_count": null,
      "outputs": [
        {
          "output_type": "execute_result",
          "data": {
            "text/plain": [
              "Text(0.5, 1.0, 'Histograma asociado a la Petal.Length')"
            ]
          },
          "metadata": {
            "tags": []
          },
          "execution_count": 15
        },
        {
          "output_type": "display_data",
          "data": {
            "image/png": "[encoded data removed]",
            "text/plain": [
              "<Figure size 432x288 with 1 Axes>"
            ]
          },
          "metadata": {
            "tags": [],
            "needs_background": "light"
          }
        }
      ]
    },
    {
      "cell_type": "code",
      "metadata": {
        "colab": {
          "base_uri": "https://localhost:8080/",
          "height": 297
        },
        "id": "S2Tr2IvuNRtY",
        "outputId": "05b6f8e1-7bed-4623-dfb2-5d5bc5b379ed"
      },
      "source": [
        "plt.boxplot(data[\"Petal.Length\"])\n",
        "plt.ylabel(\"Petal.Length\")\n",
        "plt.title(\"Boxplot de la Petal.Length\")"
      ],
      "execution_count": null,
      "outputs": [
        {
          "output_type": "execute_result",
          "data": {
            "text/plain": [
              "Text(0.5, 1.0, 'Boxplot de la Petal.Length')"
            ]
          },
          "metadata": {
            "tags": []
          },
          "execution_count": 16
        },
        {
          "output_type": "display_data",
          "data": {
            "image/png": "[encoded data removed]",
            "text/plain": [
              "<Figure size 432x288 with 1 Axes>"
            ]
          },
          "metadata": {
            "tags": [],
            "needs_background": "light"
          }
        }
      ]
    },
    {
      "cell_type": "code",
      "metadata": {
        "colab": {
          "base_uri": "https://localhost:8080/",
          "height": 312
        },
        "id": "Kakqvn6tNRtZ",
        "outputId": "e8e35220-fa3a-40a8-cc18-c527eaff9c77"
      },
      "source": [
        "k=np.ceil(1+np.log2(data.shape[0]))\n",
        "plt.hist(data[\"Petal.Width\"], bins=np.int(k))\n",
        "plt.xlabel(\"Petal.Width\")\n",
        "plt.ylabel(\"Frecuencia\")\n",
        "plt.title(\"Histograma asociado a la Petal.Width\")"
      ],
      "execution_count": null,
      "outputs": [
        {
          "output_type": "execute_result",
          "data": {
            "text/plain": [
              "Text(0.5, 1.0, 'Histograma asociado a la Petal.Width')"
            ]
          },
          "metadata": {
            "tags": []
          },
          "execution_count": 17
        },
        {
          "output_type": "display_data",
          "data": {
            "image/png": "[encoded data removed]",
            "text/plain": [
              "<Figure size 432x288 with 1 Axes>"
            ]
          },
          "metadata": {
            "tags": [],
            "needs_background": "light"
          }
        }
      ]
    },
    {
      "cell_type": "code",
      "metadata": {
        "colab": {
          "base_uri": "https://localhost:8080/",
          "height": 297
        },
        "id": "yc5QlbsMNRtZ",
        "outputId": "81a386e7-becc-42d0-dbd3-120b5d628da2"
      },
      "source": [
        "plt.boxplot(data[\"Petal.Width\"])\n",
        "plt.ylabel(\"Petal.Width\")\n",
        "plt.title(\"Boxplot de la Petal.Width\")"
      ],
      "execution_count": null,
      "outputs": [
        {
          "output_type": "execute_result",
          "data": {
            "text/plain": [
              "Text(0.5, 1.0, 'Boxplot de la Petal.Width')"
            ]
          },
          "metadata": {
            "tags": []
          },
          "execution_count": 18
        },
        {
          "output_type": "display_data",
          "data": {
            "image/png": "[encoded data removed]",
            "text/plain": [
              "<Figure size 432x288 with 1 Axes>"
            ]
          },
          "metadata": {
            "tags": [],
            "needs_background": "light"
          }
        }
      ]
    },
    {
      "cell_type": "code",
      "metadata": {
        "id": "I9DFP1d0NRta"
      },
      "source": [
        "##ejemplo de crear varios grupos de datos según la clase de lirio \n",
        "data1=data[data[\"Species\"]==\"setosa\"]\n",
        "data2=data[data[\"Species\"]==\"versicolor\"]\n",
        "data3=data[data[\"Species\"]==\"virginica\"]"
      ],
      "execution_count": null,
      "outputs": []
    },
    {
      "cell_type": "code",
      "metadata": {
        "id": "bxad2-9NNRta"
      },
      "source": [
        "data1n=data1.drop([\"Species\"], axis=1)\n",
        "data2n=data2.drop([\"Species\"], axis=1)\n",
        "data3n=data3.drop([\"Species\"], axis=1)"
      ],
      "execution_count": null,
      "outputs": []
    },
    {
      "cell_type": "code",
      "metadata": {
        "colab": {
          "base_uri": "https://localhost:8080/",
          "height": 197
        },
        "id": "LI_z5BqsNRta",
        "outputId": "ea7c700d-e7b4-497b-e664-c62ca6e4b5a7"
      },
      "source": [
        "data2n.head()"
      ],
      "execution_count": null,
      "outputs": [
        {
          "output_type": "execute_result",
          "data": {
            "text/html": [
              "<div>\n",
              "<style scoped>\n",
              "    .dataframe tbody tr th:only-of-type {\n",
              "        vertical-align: middle;\n",
              "    }\n",
              "\n",
              "    .dataframe tbody tr th {\n",
              "        vertical-align: top;\n",
              "    }\n",
              "\n",
              "    .dataframe thead th {\n",
              "        text-align: right;\n",
              "    }\n",
              "</style>\n",
              "<table border=\"1\" class=\"dataframe\">\n",
              "  <thead>\n",
              "    <tr style=\"text-align: right;\">\n",
              "      <th></th>\n",
              "      <th>Sepal.Length</th>\n",
              "      <th>Sepal.Width</th>\n",
              "      <th>Petal.Length</th>\n",
              "      <th>Petal.Width</th>\n",
              "    </tr>\n",
              "  </thead>\n",
              "  <tbody>\n",
              "    <tr>\n",
              "      <th>50</th>\n",
              "      <td>7.0</td>\n",
              "      <td>3.2</td>\n",
              "      <td>4.7</td>\n",
              "      <td>1.4</td>\n",
              "    </tr>\n",
              "    <tr>\n",
              "      <th>51</th>\n",
              "      <td>6.4</td>\n",
              "      <td>3.2</td>\n",
              "      <td>4.5</td>\n",
              "      <td>1.5</td>\n",
              "    </tr>\n",
              "    <tr>\n",
              "      <th>52</th>\n",
              "      <td>6.9</td>\n",
              "      <td>3.1</td>\n",
              "      <td>4.9</td>\n",
              "      <td>1.5</td>\n",
              "    </tr>\n",
              "    <tr>\n",
              "      <th>53</th>\n",
              "      <td>5.5</td>\n",
              "      <td>2.3</td>\n",
              "      <td>4.0</td>\n",
              "      <td>1.3</td>\n",
              "    </tr>\n",
              "    <tr>\n",
              "      <th>54</th>\n",
              "      <td>6.5</td>\n",
              "      <td>2.8</td>\n",
              "      <td>4.6</td>\n",
              "      <td>1.5</td>\n",
              "    </tr>\n",
              "  </tbody>\n",
              "</table>\n",
              "</div>"
            ],
            "text/plain": [
              "    Sepal.Length  Sepal.Width  Petal.Length  Petal.Width\n",
              "50           7.0          3.2           4.7          1.4\n",
              "51           6.4          3.2           4.5          1.5\n",
              "52           6.9          3.1           4.9          1.5\n",
              "53           5.5          2.3           4.0          1.3\n",
              "54           6.5          2.8           4.6          1.5"
            ]
          },
          "metadata": {
            "tags": []
          },
          "execution_count": 21
        }
      ]
    },
    {
      "cell_type": "code",
      "metadata": {
        "id": "SCGEJ33pNRtb"
      },
      "source": [
        "zscore= lambda x : (x-x.mean())/x.std()\n",
        "# para normalizar los datos completos del dataframe"
      ],
      "execution_count": null,
      "outputs": []
    },
    {
      "cell_type": "code",
      "metadata": {
        "id": "OeQDNbHwNRtb"
      },
      "source": [
        "data1n=data1n.transform(zscore)\n",
        "data2n=data2n.transform(zscore)\n",
        "data3n=data3n.transform(zscore)"
      ],
      "execution_count": null,
      "outputs": []
    },
    {
      "cell_type": "code",
      "metadata": {
        "colab": {
          "base_uri": "https://localhost:8080/",
          "height": 197
        },
        "id": "1XdXCJOzNRtb",
        "outputId": "d0080a37-6e49-4863-b217-c01145fc18c0"
      },
      "source": [
        "data1n.head()"
      ],
      "execution_count": null,
      "outputs": [
        {
          "output_type": "execute_result",
          "data": {
            "text/html": [
              "<div>\n",
              "<style scoped>\n",
              "    .dataframe tbody tr th:only-of-type {\n",
              "        vertical-align: middle;\n",
              "    }\n",
              "\n",
              "    .dataframe tbody tr th {\n",
              "        vertical-align: top;\n",
              "    }\n",
              "\n",
              "    .dataframe thead th {\n",
              "        text-align: right;\n",
              "    }\n",
              "</style>\n",
              "<table border=\"1\" class=\"dataframe\">\n",
              "  <thead>\n",
              "    <tr style=\"text-align: right;\">\n",
              "      <th></th>\n",
              "      <th>Sepal.Length</th>\n",
              "      <th>Sepal.Width</th>\n",
              "      <th>Petal.Length</th>\n",
              "      <th>Petal.Width</th>\n",
              "    </tr>\n",
              "  </thead>\n",
              "  <tbody>\n",
              "    <tr>\n",
              "      <th>0</th>\n",
              "      <td>0.266674</td>\n",
              "      <td>0.189941</td>\n",
              "      <td>-0.357011</td>\n",
              "      <td>-0.436492</td>\n",
              "    </tr>\n",
              "    <tr>\n",
              "      <th>1</th>\n",
              "      <td>-0.300718</td>\n",
              "      <td>-1.129096</td>\n",
              "      <td>-0.357011</td>\n",
              "      <td>-0.436492</td>\n",
              "    </tr>\n",
              "    <tr>\n",
              "      <th>2</th>\n",
              "      <td>-0.868111</td>\n",
              "      <td>-0.601481</td>\n",
              "      <td>-0.932836</td>\n",
              "      <td>-0.436492</td>\n",
              "    </tr>\n",
              "    <tr>\n",
              "      <th>3</th>\n",
              "      <td>-1.151807</td>\n",
              "      <td>-0.865288</td>\n",
              "      <td>0.218813</td>\n",
              "      <td>-0.436492</td>\n",
              "    </tr>\n",
              "    <tr>\n",
              "      <th>4</th>\n",
              "      <td>-0.017022</td>\n",
              "      <td>0.453749</td>\n",
              "      <td>-0.357011</td>\n",
              "      <td>-0.436492</td>\n",
              "    </tr>\n",
              "  </tbody>\n",
              "</table>\n",
              "</div>"
            ],
            "text/plain": [
              "   Sepal.Length  Sepal.Width  Petal.Length  Petal.Width\n",
              "0      0.266674     0.189941     -0.357011    -0.436492\n",
              "1     -0.300718    -1.129096     -0.357011    -0.436492\n",
              "2     -0.868111    -0.601481     -0.932836    -0.436492\n",
              "3     -1.151807    -0.865288      0.218813    -0.436492\n",
              "4     -0.017022     0.453749     -0.357011    -0.436492"
            ]
          },
          "metadata": {
            "tags": []
          },
          "execution_count": 24
        }
      ]
    },
    {
      "cell_type": "code",
      "metadata": {
        "colab": {
          "base_uri": "https://localhost:8080/",
          "height": 312
        },
        "id": "PQXBG6dUNRtc",
        "outputId": "86f08649-a0d2-420b-bed0-4b182267ba0e"
      },
      "source": [
        "k=np.ceil(1+np.log2(data1n.shape[0]))\n",
        "plt.hist(data1n[\"Petal.Length\"], bins=np.int(k))\n",
        "plt.xlabel(\"Petal.Length\")\n",
        "plt.ylabel(\"Frecuencia\")\n",
        "plt.title(\"Histograma asociado a la Petal.Length\")"
      ],
      "execution_count": null,
      "outputs": [
        {
          "output_type": "execute_result",
          "data": {
            "text/plain": [
              "Text(0.5, 1.0, 'Histograma asociado a la Petal.Length')"
            ]
          },
          "metadata": {
            "tags": []
          },
          "execution_count": 25
        },
        {
          "output_type": "display_data",
          "data": {
            "image/png": "[encoded data removed]",
            "text/plain": [
              "<Figure size 432x288 with 1 Axes>"
            ]
          },
          "metadata": {
            "tags": [],
            "needs_background": "light"
          }
        }
      ]
    },
    {
      "cell_type": "code",
      "metadata": {
        "colab": {
          "base_uri": "https://localhost:8080/",
          "height": 295
        },
        "id": "VKAes-tINRtc",
        "outputId": "5ee1792d-36b8-402e-b937-cb2585890bf1"
      },
      "source": [
        "import seaborn as sns\n",
        "ax = sns.boxplot(x='Species', y='Sepal.Length', data=data, color='#99c2a2')\n",
        "ax = sns.swarmplot(x=\"Species\", y=\"Sepal.Length\", data=data, color='#7d0013')\n",
        "plt.title(\"Boxplot asociado a la Sepal.Length\")\n",
        "plt.show()"
      ],
      "execution_count": null,
      "outputs": [
        {
          "output_type": "display_data",
          "data": {
            "image/png": "[encoded data removed]",
            "text/plain": [
              "<Figure size 432x288 with 1 Axes>"
            ]
          },
          "metadata": {
            "tags": [],
            "needs_background": "light"
          }
        }
      ]
    },
    {
      "cell_type": "code",
      "metadata": {
        "colab": {
          "base_uri": "https://localhost:8080/",
          "height": 295
        },
        "id": "gN2oqQirNRtd",
        "outputId": "e8c49323-f66a-43c4-8de3-2527f272118b"
      },
      "source": [
        "import seaborn as sns\n",
        "ax = sns.boxplot(x='Species', y='Sepal.Width', data=data, color='#99c2a2')\n",
        "ax = sns.swarmplot(x=\"Species\", y=\"Sepal.Width\", data=data, color='#7d0013')\n",
        "plt.title(\"Boxplot asociado a la Sepal.Width\")\n",
        "plt.show()"
      ],
      "execution_count": null,
      "outputs": [
        {
          "output_type": "display_data",
          "data": {
            "image/png": "[encoded data removed]",
            "text/plain": [
              "<Figure size 432x288 with 1 Axes>"
            ]
          },
          "metadata": {
            "tags": [],
            "needs_background": "light"
          }
        }
      ]
    },
    {
      "cell_type": "code",
      "metadata": {
        "colab": {
          "base_uri": "https://localhost:8080/",
          "height": 348
        },
        "id": "BshitIoUNRtd",
        "outputId": "b6fbe9c3-32fa-4544-d832-8ae24a1e88bc"
      },
      "source": [
        "import seaborn as sns\n",
        "ax = sns.boxplot(x='Species', y='Petal.Length', data=data, color='#99c2a2')\n",
        "ax = sns.swarmplot(x=\"Species\", y=\"Petal.Length\", data=data, color='#7d0013')\n",
        "plt.title(\"Boxplot asociado a la Petal.Length\")\n",
        "plt.show()"
      ],
      "execution_count": null,
      "outputs": [
        {
          "output_type": "stream",
          "text": [
            "/usr/local/lib/python3.7/dist-packages/seaborn/categorical.py:1296: UserWarning: 14.0% of the points cannot be placed; you may want to decrease the size of the markers or use stripplot.\n",
            "  warnings.warn(msg, UserWarning)\n"
          ],
          "name": "stderr"
        },
        {
          "output_type": "display_data",
          "data": {
            "image/png": "[encoded data removed]",
            "text/plain": [
              "<Figure size 432x288 with 1 Axes>"
            ]
          },
          "metadata": {
            "tags": [],
            "needs_background": "light"
          }
        }
      ]
    },
    {
      "cell_type": "code",
      "metadata": {
        "colab": {
          "base_uri": "https://localhost:8080/",
          "height": 348
        },
        "id": "a1B6Oo5PNRte",
        "outputId": "a2244463-289c-4337-d3d9-eb4d5db3832a"
      },
      "source": [
        "import seaborn as sns\n",
        "ax = sns.boxplot(x='Species', y='Petal.Width', data=data, color='#99c2a2')\n",
        "ax = sns.swarmplot(x=\"Species\", y=\"Petal.Width\", data=data, color='#7d0013')\n",
        "plt.title(\"Boxplot asociado a la Petal.Width\")\n",
        "plt.show()"
      ],
      "execution_count": null,
      "outputs": [
        {
          "output_type": "stream",
          "text": [
            "/usr/local/lib/python3.7/dist-packages/seaborn/categorical.py:1296: UserWarning: 24.0% of the points cannot be placed; you may want to decrease the size of the markers or use stripplot.\n",
            "  warnings.warn(msg, UserWarning)\n"
          ],
          "name": "stderr"
        },
        {
          "output_type": "display_data",
          "data": {
            "image/png": "[encoded data removed]",
            "text/plain": [
              "<Figure size 432x288 with 1 Axes>"
            ]
          },
          "metadata": {
            "tags": [],
            "needs_background": "light"
          }
        }
      ]
    },
    {
      "cell_type": "code",
      "metadata": {
        "id": "AOuq83NrNRte"
      },
      "source": [
        "data1nc=pd.concat([data1n, data1[\"Species\"]], axis=1)\n",
        "data2nc=pd.concat([data2n, data2[\"Species\"]], axis=1)\n",
        "data3nc=pd.concat([data3n, data3[\"Species\"]], axis=1)"
      ],
      "execution_count": null,
      "outputs": []
    },
    {
      "cell_type": "code",
      "metadata": {
        "colab": {
          "base_uri": "https://localhost:8080/",
          "height": 197
        },
        "id": "fRnuCVFINRte",
        "outputId": "5aa49455-49a3-475c-8709-804616e3b05d"
      },
      "source": [
        "data3nc.head()"
      ],
      "execution_count": null,
      "outputs": [
        {
          "output_type": "execute_result",
          "data": {
            "text/html": [
              "<div>\n",
              "<style scoped>\n",
              "    .dataframe tbody tr th:only-of-type {\n",
              "        vertical-align: middle;\n",
              "    }\n",
              "\n",
              "    .dataframe tbody tr th {\n",
              "        vertical-align: top;\n",
              "    }\n",
              "\n",
              "    .dataframe thead th {\n",
              "        text-align: right;\n",
              "    }\n",
              "</style>\n",
              "<table border=\"1\" class=\"dataframe\">\n",
              "  <thead>\n",
              "    <tr style=\"text-align: right;\">\n",
              "      <th></th>\n",
              "      <th>Sepal.Length</th>\n",
              "      <th>Sepal.Width</th>\n",
              "      <th>Petal.Length</th>\n",
              "      <th>Petal.Width</th>\n",
              "      <th>Species</th>\n",
              "    </tr>\n",
              "  </thead>\n",
              "  <tbody>\n",
              "    <tr>\n",
              "      <th>100</th>\n",
              "      <td>-0.452916</td>\n",
              "      <td>1.010863</td>\n",
              "      <td>0.811749</td>\n",
              "      <td>1.725833</td>\n",
              "      <td>virginica</td>\n",
              "    </tr>\n",
              "    <tr>\n",
              "      <th>101</th>\n",
              "      <td>-1.239228</td>\n",
              "      <td>-0.849621</td>\n",
              "      <td>-0.818997</td>\n",
              "      <td>-0.458766</td>\n",
              "      <td>virginica</td>\n",
              "    </tr>\n",
              "    <tr>\n",
              "      <th>102</th>\n",
              "      <td>0.805184</td>\n",
              "      <td>0.080621</td>\n",
              "      <td>0.630555</td>\n",
              "      <td>0.269434</td>\n",
              "      <td>virginica</td>\n",
              "    </tr>\n",
              "    <tr>\n",
              "      <th>103</th>\n",
              "      <td>-0.452916</td>\n",
              "      <td>-0.229460</td>\n",
              "      <td>0.086973</td>\n",
              "      <td>-0.822865</td>\n",
              "      <td>virginica</td>\n",
              "    </tr>\n",
              "    <tr>\n",
              "      <th>104</th>\n",
              "      <td>-0.138391</td>\n",
              "      <td>0.080621</td>\n",
              "      <td>0.449361</td>\n",
              "      <td>0.633533</td>\n",
              "      <td>virginica</td>\n",
              "    </tr>\n",
              "  </tbody>\n",
              "</table>\n",
              "</div>"
            ],
            "text/plain": [
              "     Sepal.Length  Sepal.Width  Petal.Length  Petal.Width    Species\n",
              "100     -0.452916     1.010863      0.811749     1.725833  virginica\n",
              "101     -1.239228    -0.849621     -0.818997    -0.458766  virginica\n",
              "102      0.805184     0.080621      0.630555     0.269434  virginica\n",
              "103     -0.452916    -0.229460      0.086973    -0.822865  virginica\n",
              "104     -0.138391     0.080621      0.449361     0.633533  virginica"
            ]
          },
          "metadata": {
            "tags": []
          },
          "execution_count": 31
        }
      ]
    },
    {
      "cell_type": "code",
      "metadata": {
        "colab": {
          "base_uri": "https://localhost:8080/"
        },
        "id": "HMjyNxm7NRtf",
        "outputId": "2ce6ac6d-a8b7-4dcf-8637-0ff9a2036596"
      },
      "source": [
        "import scipy.stats as stats\n",
        "# stats f_oneway functions takes the groups as input and returns ANOVA F and p value\n",
        "fvalue, pvalue = stats.f_oneway(data1n['Sepal.Length'], data1n['Sepal.Width'], data1n['Petal.Length'], data1n['Petal.Width'])\n",
        "print(fvalue, pvalue)"
      ],
      "execution_count": null,
      "outputs": [
        {
          "output_type": "stream",
          "text": [
            "1.7349920821056568e-28 1.0\n"
          ],
          "name": "stdout"
        }
      ]
    },
    {
      "cell_type": "code",
      "metadata": {
        "colab": {
          "base_uri": "https://localhost:8080/",
          "height": 167
        },
        "id": "ZzdOoQ4xNRtf",
        "outputId": "c85e08d7-8839-4792-a7ef-5c03f77ff8d5"
      },
      "source": [
        "#calculo de la correlacion de los datos originales\n",
        "data.corr()"
      ],
      "execution_count": null,
      "outputs": [
        {
          "output_type": "execute_result",
          "data": {
            "text/html": [
              "<div>\n",
              "<style scoped>\n",
              "    .dataframe tbody tr th:only-of-type {\n",
              "        vertical-align: middle;\n",
              "    }\n",
              "\n",
              "    .dataframe tbody tr th {\n",
              "        vertical-align: top;\n",
              "    }\n",
              "\n",
              "    .dataframe thead th {\n",
              "        text-align: right;\n",
              "    }\n",
              "</style>\n",
              "<table border=\"1\" class=\"dataframe\">\n",
              "  <thead>\n",
              "    <tr style=\"text-align: right;\">\n",
              "      <th></th>\n",
              "      <th>Sepal.Length</th>\n",
              "      <th>Sepal.Width</th>\n",
              "      <th>Petal.Length</th>\n",
              "      <th>Petal.Width</th>\n",
              "    </tr>\n",
              "  </thead>\n",
              "  <tbody>\n",
              "    <tr>\n",
              "      <th>Sepal.Length</th>\n",
              "      <td>1.000000</td>\n",
              "      <td>-0.117570</td>\n",
              "      <td>0.871754</td>\n",
              "      <td>0.817941</td>\n",
              "    </tr>\n",
              "    <tr>\n",
              "      <th>Sepal.Width</th>\n",
              "      <td>-0.117570</td>\n",
              "      <td>1.000000</td>\n",
              "      <td>-0.428440</td>\n",
              "      <td>-0.366126</td>\n",
              "    </tr>\n",
              "    <tr>\n",
              "      <th>Petal.Length</th>\n",
              "      <td>0.871754</td>\n",
              "      <td>-0.428440</td>\n",
              "      <td>1.000000</td>\n",
              "      <td>0.962865</td>\n",
              "    </tr>\n",
              "    <tr>\n",
              "      <th>Petal.Width</th>\n",
              "      <td>0.817941</td>\n",
              "      <td>-0.366126</td>\n",
              "      <td>0.962865</td>\n",
              "      <td>1.000000</td>\n",
              "    </tr>\n",
              "  </tbody>\n",
              "</table>\n",
              "</div>"
            ],
            "text/plain": [
              "              Sepal.Length  Sepal.Width  Petal.Length  Petal.Width\n",
              "Sepal.Length      1.000000    -0.117570      0.871754     0.817941\n",
              "Sepal.Width      -0.117570     1.000000     -0.428440    -0.366126\n",
              "Petal.Length      0.871754    -0.428440      1.000000     0.962865\n",
              "Petal.Width       0.817941    -0.366126      0.962865     1.000000"
            ]
          },
          "metadata": {
            "tags": []
          },
          "execution_count": 33
        }
      ]
    },
    {
      "cell_type": "code",
      "metadata": {
        "colab": {
          "base_uri": "https://localhost:8080/",
          "height": 292
        },
        "id": "2JtaPmUWNRtf",
        "outputId": "bb9f7689-cc47-4fa6-b892-b71a1192c264"
      },
      "source": [
        "plt.matshow(data.corr())"
      ],
      "execution_count": null,
      "outputs": [
        {
          "output_type": "execute_result",
          "data": {
            "text/plain": [
              "<matplotlib.image.AxesImage at 0x7f0233e5d810>"
            ]
          },
          "metadata": {
            "tags": []
          },
          "execution_count": 34
        },
        {
          "output_type": "display_data",
          "data": {
            "image/png": "[encoded data removed]",
            "text/plain": [
              "<Figure size 288x288 with 1 Axes>"
            ]
          },
          "metadata": {
            "tags": [],
            "needs_background": "light"
          }
        }
      ]
    },
    {
      "cell_type": "code",
      "metadata": {
        "colab": {
          "base_uri": "https://localhost:8080/",
          "height": 167
        },
        "id": "DeqorQlaNRtg",
        "outputId": "43811bb5-d4e3-4dde-d965-db02097355b0"
      },
      "source": [
        "#calculo de la correlacion de los datos para clase 1\n",
        "data1.corr()"
      ],
      "execution_count": null,
      "outputs": [
        {
          "output_type": "execute_result",
          "data": {
            "text/html": [
              "<div>\n",
              "<style scoped>\n",
              "    .dataframe tbody tr th:only-of-type {\n",
              "        vertical-align: middle;\n",
              "    }\n",
              "\n",
              "    .dataframe tbody tr th {\n",
              "        vertical-align: top;\n",
              "    }\n",
              "\n",
              "    .dataframe thead th {\n",
              "        text-align: right;\n",
              "    }\n",
              "</style>\n",
              "<table border=\"1\" class=\"dataframe\">\n",
              "  <thead>\n",
              "    <tr style=\"text-align: right;\">\n",
              "      <th></th>\n",
              "      <th>Sepal.Length</th>\n",
              "      <th>Sepal.Width</th>\n",
              "      <th>Petal.Length</th>\n",
              "      <th>Petal.Width</th>\n",
              "    </tr>\n",
              "  </thead>\n",
              "  <tbody>\n",
              "    <tr>\n",
              "      <th>Sepal.Length</th>\n",
              "      <td>1.000000</td>\n",
              "      <td>0.742547</td>\n",
              "      <td>0.267176</td>\n",
              "      <td>0.278098</td>\n",
              "    </tr>\n",
              "    <tr>\n",
              "      <th>Sepal.Width</th>\n",
              "      <td>0.742547</td>\n",
              "      <td>1.000000</td>\n",
              "      <td>0.177700</td>\n",
              "      <td>0.232752</td>\n",
              "    </tr>\n",
              "    <tr>\n",
              "      <th>Petal.Length</th>\n",
              "      <td>0.267176</td>\n",
              "      <td>0.177700</td>\n",
              "      <td>1.000000</td>\n",
              "      <td>0.331630</td>\n",
              "    </tr>\n",
              "    <tr>\n",
              "      <th>Petal.Width</th>\n",
              "      <td>0.278098</td>\n",
              "      <td>0.232752</td>\n",
              "      <td>0.331630</td>\n",
              "      <td>1.000000</td>\n",
              "    </tr>\n",
              "  </tbody>\n",
              "</table>\n",
              "</div>"
            ],
            "text/plain": [
              "              Sepal.Length  Sepal.Width  Petal.Length  Petal.Width\n",
              "Sepal.Length      1.000000     0.742547      0.267176     0.278098\n",
              "Sepal.Width       0.742547     1.000000      0.177700     0.232752\n",
              "Petal.Length      0.267176     0.177700      1.000000     0.331630\n",
              "Petal.Width       0.278098     0.232752      0.331630     1.000000"
            ]
          },
          "metadata": {
            "tags": []
          },
          "execution_count": 35
        }
      ]
    },
    {
      "cell_type": "code",
      "metadata": {
        "colab": {
          "base_uri": "https://localhost:8080/",
          "height": 167
        },
        "id": "M2eLJY8SNRtg",
        "outputId": "102ede31-03c6-444f-f8af-3d093929882c"
      },
      "source": [
        "#calculo de la correlacion de los datos para clase 1\n",
        "data2.corr()"
      ],
      "execution_count": null,
      "outputs": [
        {
          "output_type": "execute_result",
          "data": {
            "text/html": [
              "<div>\n",
              "<style scoped>\n",
              "    .dataframe tbody tr th:only-of-type {\n",
              "        vertical-align: middle;\n",
              "    }\n",
              "\n",
              "    .dataframe tbody tr th {\n",
              "        vertical-align: top;\n",
              "    }\n",
              "\n",
              "    .dataframe thead th {\n",
              "        text-align: right;\n",
              "    }\n",
              "</style>\n",
              "<table border=\"1\" class=\"dataframe\">\n",
              "  <thead>\n",
              "    <tr style=\"text-align: right;\">\n",
              "      <th></th>\n",
              "      <th>Sepal.Length</th>\n",
              "      <th>Sepal.Width</th>\n",
              "      <th>Petal.Length</th>\n",
              "      <th>Petal.Width</th>\n",
              "    </tr>\n",
              "  </thead>\n",
              "  <tbody>\n",
              "    <tr>\n",
              "      <th>Sepal.Length</th>\n",
              "      <td>1.000000</td>\n",
              "      <td>0.525911</td>\n",
              "      <td>0.754049</td>\n",
              "      <td>0.546461</td>\n",
              "    </tr>\n",
              "    <tr>\n",
              "      <th>Sepal.Width</th>\n",
              "      <td>0.525911</td>\n",
              "      <td>1.000000</td>\n",
              "      <td>0.560522</td>\n",
              "      <td>0.663999</td>\n",
              "    </tr>\n",
              "    <tr>\n",
              "      <th>Petal.Length</th>\n",
              "      <td>0.754049</td>\n",
              "      <td>0.560522</td>\n",
              "      <td>1.000000</td>\n",
              "      <td>0.786668</td>\n",
              "    </tr>\n",
              "    <tr>\n",
              "      <th>Petal.Width</th>\n",
              "      <td>0.546461</td>\n",
              "      <td>0.663999</td>\n",
              "      <td>0.786668</td>\n",
              "      <td>1.000000</td>\n",
              "    </tr>\n",
              "  </tbody>\n",
              "</table>\n",
              "</div>"
            ],
            "text/plain": [
              "              Sepal.Length  Sepal.Width  Petal.Length  Petal.Width\n",
              "Sepal.Length      1.000000     0.525911      0.754049     0.546461\n",
              "Sepal.Width       0.525911     1.000000      0.560522     0.663999\n",
              "Petal.Length      0.754049     0.560522      1.000000     0.786668\n",
              "Petal.Width       0.546461     0.663999      0.786668     1.000000"
            ]
          },
          "metadata": {
            "tags": []
          },
          "execution_count": 36
        }
      ]
    },
    {
      "cell_type": "code",
      "metadata": {
        "colab": {
          "base_uri": "https://localhost:8080/",
          "height": 167
        },
        "id": "iISWfMxFNRtg",
        "outputId": "fb1943f6-61f2-42e6-8b58-d2b6cb58ab12"
      },
      "source": [
        "#calculo de la correlacion de los datos para clase 1\n",
        "data3.corr()"
      ],
      "execution_count": null,
      "outputs": [
        {
          "output_type": "execute_result",
          "data": {
            "text/html": [
              "<div>\n",
              "<style scoped>\n",
              "    .dataframe tbody tr th:only-of-type {\n",
              "        vertical-align: middle;\n",
              "    }\n",
              "\n",
              "    .dataframe tbody tr th {\n",
              "        vertical-align: top;\n",
              "    }\n",
              "\n",
              "    .dataframe thead th {\n",
              "        text-align: right;\n",
              "    }\n",
              "</style>\n",
              "<table border=\"1\" class=\"dataframe\">\n",
              "  <thead>\n",
              "    <tr style=\"text-align: right;\">\n",
              "      <th></th>\n",
              "      <th>Sepal.Length</th>\n",
              "      <th>Sepal.Width</th>\n",
              "      <th>Petal.Length</th>\n",
              "      <th>Petal.Width</th>\n",
              "    </tr>\n",
              "  </thead>\n",
              "  <tbody>\n",
              "    <tr>\n",
              "      <th>Sepal.Length</th>\n",
              "      <td>1.000000</td>\n",
              "      <td>0.457228</td>\n",
              "      <td>0.864225</td>\n",
              "      <td>0.281108</td>\n",
              "    </tr>\n",
              "    <tr>\n",
              "      <th>Sepal.Width</th>\n",
              "      <td>0.457228</td>\n",
              "      <td>1.000000</td>\n",
              "      <td>0.401045</td>\n",
              "      <td>0.537728</td>\n",
              "    </tr>\n",
              "    <tr>\n",
              "      <th>Petal.Length</th>\n",
              "      <td>0.864225</td>\n",
              "      <td>0.401045</td>\n",
              "      <td>1.000000</td>\n",
              "      <td>0.322108</td>\n",
              "    </tr>\n",
              "    <tr>\n",
              "      <th>Petal.Width</th>\n",
              "      <td>0.281108</td>\n",
              "      <td>0.537728</td>\n",
              "      <td>0.322108</td>\n",
              "      <td>1.000000</td>\n",
              "    </tr>\n",
              "  </tbody>\n",
              "</table>\n",
              "</div>"
            ],
            "text/plain": [
              "              Sepal.Length  Sepal.Width  Petal.Length  Petal.Width\n",
              "Sepal.Length      1.000000     0.457228      0.864225     0.281108\n",
              "Sepal.Width       0.457228     1.000000      0.401045     0.537728\n",
              "Petal.Length      0.864225     0.401045      1.000000     0.322108\n",
              "Petal.Width       0.281108     0.537728      0.322108     1.000000"
            ]
          },
          "metadata": {
            "tags": []
          },
          "execution_count": 37
        }
      ]
    },
    {
      "cell_type": "code",
      "metadata": {
        "id": "MED_9C_NNRth"
      },
      "source": [
        "datak=data\n",
        "datak[\"SepalL\"]=data[\"Sepal.Length\"]\n",
        "datak[\"SepalW\"]=data[\"Sepal.Width\"]\n",
        "datak[\"PetalL\"]=data[\"Petal.Length\"]\n",
        "datak[\"PetalW\"]=data[\"Petal.Width\"]"
      ],
      "execution_count": null,
      "outputs": []
    },
    {
      "cell_type": "code",
      "metadata": {
        "id": "U1V4rp1kNRth"
      },
      "source": [
        "datak=datak.drop([\"Sepal.Length\"], axis=1)\n",
        "datak=datak.drop([\"Sepal.Width\"], axis=1)\n",
        "datak=datak.drop([\"Petal.Length\"], axis=1)\n",
        "datak=datak.drop([\"Petal.Width\"], axis=1)\n"
      ],
      "execution_count": null,
      "outputs": []
    },
    {
      "cell_type": "code",
      "metadata": {
        "colab": {
          "base_uri": "https://localhost:8080/",
          "height": 197
        },
        "id": "ythj9m2-NRth",
        "outputId": "e398cb55-0eec-4157-dbdb-2386c6a8e6ba"
      },
      "source": [
        "datak.head()"
      ],
      "execution_count": null,
      "outputs": [
        {
          "output_type": "execute_result",
          "data": {
            "text/html": [
              "<div>\n",
              "<style scoped>\n",
              "    .dataframe tbody tr th:only-of-type {\n",
              "        vertical-align: middle;\n",
              "    }\n",
              "\n",
              "    .dataframe tbody tr th {\n",
              "        vertical-align: top;\n",
              "    }\n",
              "\n",
              "    .dataframe thead th {\n",
              "        text-align: right;\n",
              "    }\n",
              "</style>\n",
              "<table border=\"1\" class=\"dataframe\">\n",
              "  <thead>\n",
              "    <tr style=\"text-align: right;\">\n",
              "      <th></th>\n",
              "      <th>Species</th>\n",
              "      <th>SepalL</th>\n",
              "      <th>SepalW</th>\n",
              "      <th>PetalL</th>\n",
              "      <th>PetalW</th>\n",
              "    </tr>\n",
              "  </thead>\n",
              "  <tbody>\n",
              "    <tr>\n",
              "      <th>0</th>\n",
              "      <td>setosa</td>\n",
              "      <td>5.1</td>\n",
              "      <td>3.5</td>\n",
              "      <td>1.4</td>\n",
              "      <td>0.2</td>\n",
              "    </tr>\n",
              "    <tr>\n",
              "      <th>1</th>\n",
              "      <td>setosa</td>\n",
              "      <td>4.9</td>\n",
              "      <td>3.0</td>\n",
              "      <td>1.4</td>\n",
              "      <td>0.2</td>\n",
              "    </tr>\n",
              "    <tr>\n",
              "      <th>2</th>\n",
              "      <td>setosa</td>\n",
              "      <td>4.7</td>\n",
              "      <td>3.2</td>\n",
              "      <td>1.3</td>\n",
              "      <td>0.2</td>\n",
              "    </tr>\n",
              "    <tr>\n",
              "      <th>3</th>\n",
              "      <td>setosa</td>\n",
              "      <td>4.6</td>\n",
              "      <td>3.1</td>\n",
              "      <td>1.5</td>\n",
              "      <td>0.2</td>\n",
              "    </tr>\n",
              "    <tr>\n",
              "      <th>4</th>\n",
              "      <td>setosa</td>\n",
              "      <td>5.0</td>\n",
              "      <td>3.6</td>\n",
              "      <td>1.4</td>\n",
              "      <td>0.2</td>\n",
              "    </tr>\n",
              "  </tbody>\n",
              "</table>\n",
              "</div>"
            ],
            "text/plain": [
              "  Species  SepalL  SepalW  PetalL  PetalW\n",
              "0  setosa     5.1     3.5     1.4     0.2\n",
              "1  setosa     4.9     3.0     1.4     0.2\n",
              "2  setosa     4.7     3.2     1.3     0.2\n",
              "3  setosa     4.6     3.1     1.5     0.2\n",
              "4  setosa     5.0     3.6     1.4     0.2"
            ]
          },
          "metadata": {
            "tags": []
          },
          "execution_count": 40
        }
      ]
    },
    {
      "cell_type": "code",
      "metadata": {
        "colab": {
          "base_uri": "https://localhost:8080/"
        },
        "id": "TdKDQjccNRti",
        "outputId": "3edb6bc1-fd33-4967-997b-c046656ba9c2"
      },
      "source": [
        "import statsmodels.api as sm\n",
        "from statsmodels.formula.api import ols\n"
      ],
      "execution_count": null,
      "outputs": [
        {
          "output_type": "stream",
          "text": [
            "/usr/local/lib/python3.7/dist-packages/statsmodels/tools/_testing.py:19: FutureWarning: pandas.util.testing is deprecated. Use the functions in the public API at pandas.testing instead.\n",
            "  import pandas.util.testing as tm\n"
          ],
          "name": "stderr"
        }
      ]
    },
    {
      "cell_type": "code",
      "metadata": {
        "colab": {
          "base_uri": "https://localhost:8080/"
        },
        "id": "NU6D8F3PNRti",
        "outputId": "03cf442e-cfc3-4f7f-81f9-a42b5de95536"
      },
      "source": [
        "model = ols(\"SepalL ~ C(Species)\", data = datak).fit() #Oridnary least square method\n",
        "result_anova = sm.stats.anova_lm(model) # ANOVA Test\n",
        "print(result_anova)"
      ],
      "execution_count": null,
      "outputs": [
        {
          "output_type": "stream",
          "text": [
            "               df     sum_sq    mean_sq           F        PR(>F)\n",
            "C(Species)    2.0  63.212133  31.606067  119.264502  1.669669e-31\n",
            "Residual    147.0  38.956200   0.265008         NaN           NaN\n"
          ],
          "name": "stdout"
        }
      ]
    },
    {
      "cell_type": "code",
      "metadata": {
        "colab": {
          "base_uri": "https://localhost:8080/"
        },
        "id": "gp5TunW0NRti",
        "outputId": "7966e95f-5b1d-4f9c-eb01-62c91b2cf262"
      },
      "source": [
        "model = ols(\"SepalW ~ C(Species)\", data = datak).fit() #Oridnary least square method\n",
        "result_anova = sm.stats.anova_lm(model) # ANOVA Test\n",
        "print(result_anova)"
      ],
      "execution_count": null,
      "outputs": [
        {
          "output_type": "stream",
          "text": [
            "               df     sum_sq   mean_sq         F        PR(>F)\n",
            "C(Species)    2.0  11.344933  5.672467  49.16004  4.492017e-17\n",
            "Residual    147.0  16.962000  0.115388       NaN           NaN\n"
          ],
          "name": "stdout"
        }
      ]
    },
    {
      "cell_type": "code",
      "metadata": {
        "colab": {
          "base_uri": "https://localhost:8080/"
        },
        "id": "B6wIutnrNRtj",
        "outputId": "dc2addc4-b7c6-4583-cc16-16732c263981"
      },
      "source": [
        "model = ols(\"PetalL ~ C(Species)\", data = datak).fit() #Oridnary least square method\n",
        "result_anova = sm.stats.anova_lm(model) # ANOVA Test\n",
        "print(result_anova)"
      ],
      "execution_count": null,
      "outputs": [
        {
          "output_type": "stream",
          "text": [
            "               df    sum_sq     mean_sq            F        PR(>F)\n",
            "C(Species)    2.0  437.1028  218.551400  1180.161182  2.856777e-91\n",
            "Residual    147.0   27.2226    0.185188          NaN           NaN\n"
          ],
          "name": "stdout"
        }
      ]
    },
    {
      "cell_type": "code",
      "metadata": {
        "colab": {
          "base_uri": "https://localhost:8080/"
        },
        "id": "WJvri0iiNRtj",
        "outputId": "bef943a0-2344-46da-b8e6-ab50748c7eaf"
      },
      "source": [
        "model = ols(\"PetalW ~ C(Species)\", data = datak).fit() #Oridnary least square method\n",
        "result_anova = sm.stats.anova_lm(model) # ANOVA Test\n",
        "print(result_anova)"
      ],
      "execution_count": null,
      "outputs": [
        {
          "output_type": "stream",
          "text": [
            "               df     sum_sq    mean_sq           F        PR(>F)\n",
            "C(Species)    2.0  80.413333  40.206667  960.007147  4.169446e-85\n",
            "Residual    147.0   6.156600   0.041882         NaN           NaN\n"
          ],
          "name": "stdout"
        }
      ]
    },
    {
      "cell_type": "markdown",
      "metadata": {
        "id": "HxOGaAmnNRtj"
      },
      "source": [
        "## se seleccionan todas las variables"
      ]
    },
    {
      "cell_type": "code",
      "metadata": {
        "id": "VBcLy6_SNRtk"
      },
      "source": [
        "datan=data\n",
        "datan=datan.drop([\"Species\"], axis=1)\n",
        "datan=datan.drop([\"Sepal.Length\"], axis=1)\n",
        "datan=datan.drop([\"Sepal.Width\"], axis=1)\n",
        "datan=datan.drop([\"Petal.Length\"], axis=1)\n",
        "datan=datan.drop([\"Petal.Width\"], axis=1)"
      ],
      "execution_count": null,
      "outputs": []
    },
    {
      "cell_type": "code",
      "metadata": {
        "colab": {
          "base_uri": "https://localhost:8080/",
          "height": 197
        },
        "id": "9n4xU3q6NRtk",
        "outputId": "b4547724-f92e-4435-a7e5-a1b326997522"
      },
      "source": [
        "datan.head()"
      ],
      "execution_count": null,
      "outputs": [
        {
          "output_type": "execute_result",
          "data": {
            "text/html": [
              "<div>\n",
              "<style scoped>\n",
              "    .dataframe tbody tr th:only-of-type {\n",
              "        vertical-align: middle;\n",
              "    }\n",
              "\n",
              "    .dataframe tbody tr th {\n",
              "        vertical-align: top;\n",
              "    }\n",
              "\n",
              "    .dataframe thead th {\n",
              "        text-align: right;\n",
              "    }\n",
              "</style>\n",
              "<table border=\"1\" class=\"dataframe\">\n",
              "  <thead>\n",
              "    <tr style=\"text-align: right;\">\n",
              "      <th></th>\n",
              "      <th>SepalL</th>\n",
              "      <th>SepalW</th>\n",
              "      <th>PetalL</th>\n",
              "      <th>PetalW</th>\n",
              "    </tr>\n",
              "  </thead>\n",
              "  <tbody>\n",
              "    <tr>\n",
              "      <th>0</th>\n",
              "      <td>5.1</td>\n",
              "      <td>3.5</td>\n",
              "      <td>1.4</td>\n",
              "      <td>0.2</td>\n",
              "    </tr>\n",
              "    <tr>\n",
              "      <th>1</th>\n",
              "      <td>4.9</td>\n",
              "      <td>3.0</td>\n",
              "      <td>1.4</td>\n",
              "      <td>0.2</td>\n",
              "    </tr>\n",
              "    <tr>\n",
              "      <th>2</th>\n",
              "      <td>4.7</td>\n",
              "      <td>3.2</td>\n",
              "      <td>1.3</td>\n",
              "      <td>0.2</td>\n",
              "    </tr>\n",
              "    <tr>\n",
              "      <th>3</th>\n",
              "      <td>4.6</td>\n",
              "      <td>3.1</td>\n",
              "      <td>1.5</td>\n",
              "      <td>0.2</td>\n",
              "    </tr>\n",
              "    <tr>\n",
              "      <th>4</th>\n",
              "      <td>5.0</td>\n",
              "      <td>3.6</td>\n",
              "      <td>1.4</td>\n",
              "      <td>0.2</td>\n",
              "    </tr>\n",
              "  </tbody>\n",
              "</table>\n",
              "</div>"
            ],
            "text/plain": [
              "   SepalL  SepalW  PetalL  PetalW\n",
              "0     5.1     3.5     1.4     0.2\n",
              "1     4.9     3.0     1.4     0.2\n",
              "2     4.7     3.2     1.3     0.2\n",
              "3     4.6     3.1     1.5     0.2\n",
              "4     5.0     3.6     1.4     0.2"
            ]
          },
          "metadata": {
            "tags": []
          },
          "execution_count": 47
        }
      ]
    },
    {
      "cell_type": "code",
      "metadata": {
        "id": "NPMRM2KzNRtk"
      },
      "source": [
        "zscore= lambda x : (x-x.mean())/x.std()\n",
        "# para normalizar los datos completos del dataframe"
      ],
      "execution_count": null,
      "outputs": []
    },
    {
      "cell_type": "code",
      "metadata": {
        "id": "g7csvxCrNRtk"
      },
      "source": [
        "datan=datan.transform(zscore)"
      ],
      "execution_count": null,
      "outputs": []
    },
    {
      "cell_type": "code",
      "metadata": {
        "colab": {
          "base_uri": "https://localhost:8080/",
          "height": 197
        },
        "id": "ERk7DlXnNRtk",
        "outputId": "72d8a85b-2267-4383-9052-957303d1cf27"
      },
      "source": [
        "datan.head()"
      ],
      "execution_count": null,
      "outputs": [
        {
          "output_type": "execute_result",
          "data": {
            "text/html": [
              "<div>\n",
              "<style scoped>\n",
              "    .dataframe tbody tr th:only-of-type {\n",
              "        vertical-align: middle;\n",
              "    }\n",
              "\n",
              "    .dataframe tbody tr th {\n",
              "        vertical-align: top;\n",
              "    }\n",
              "\n",
              "    .dataframe thead th {\n",
              "        text-align: right;\n",
              "    }\n",
              "</style>\n",
              "<table border=\"1\" class=\"dataframe\">\n",
              "  <thead>\n",
              "    <tr style=\"text-align: right;\">\n",
              "      <th></th>\n",
              "      <th>SepalL</th>\n",
              "      <th>SepalW</th>\n",
              "      <th>PetalL</th>\n",
              "      <th>PetalW</th>\n",
              "    </tr>\n",
              "  </thead>\n",
              "  <tbody>\n",
              "    <tr>\n",
              "      <th>0</th>\n",
              "      <td>-0.897674</td>\n",
              "      <td>1.015602</td>\n",
              "      <td>-1.335752</td>\n",
              "      <td>-1.311052</td>\n",
              "    </tr>\n",
              "    <tr>\n",
              "      <th>1</th>\n",
              "      <td>-1.139200</td>\n",
              "      <td>-0.131539</td>\n",
              "      <td>-1.335752</td>\n",
              "      <td>-1.311052</td>\n",
              "    </tr>\n",
              "    <tr>\n",
              "      <th>2</th>\n",
              "      <td>-1.380727</td>\n",
              "      <td>0.327318</td>\n",
              "      <td>-1.392399</td>\n",
              "      <td>-1.311052</td>\n",
              "    </tr>\n",
              "    <tr>\n",
              "      <th>3</th>\n",
              "      <td>-1.501490</td>\n",
              "      <td>0.097889</td>\n",
              "      <td>-1.279104</td>\n",
              "      <td>-1.311052</td>\n",
              "    </tr>\n",
              "    <tr>\n",
              "      <th>4</th>\n",
              "      <td>-1.018437</td>\n",
              "      <td>1.245030</td>\n",
              "      <td>-1.335752</td>\n",
              "      <td>-1.311052</td>\n",
              "    </tr>\n",
              "  </tbody>\n",
              "</table>\n",
              "</div>"
            ],
            "text/plain": [
              "     SepalL    SepalW    PetalL    PetalW\n",
              "0 -0.897674  1.015602 -1.335752 -1.311052\n",
              "1 -1.139200 -0.131539 -1.335752 -1.311052\n",
              "2 -1.380727  0.327318 -1.392399 -1.311052\n",
              "3 -1.501490  0.097889 -1.279104 -1.311052\n",
              "4 -1.018437  1.245030 -1.335752 -1.311052"
            ]
          },
          "metadata": {
            "tags": []
          },
          "execution_count": 50
        }
      ]
    },
    {
      "cell_type": "code",
      "metadata": {
        "id": "nTxKpVRRNRtl"
      },
      "source": [
        "datanc=pd.concat([datan, data[\"Species\"]], axis=1)"
      ],
      "execution_count": null,
      "outputs": []
    },
    {
      "cell_type": "code",
      "metadata": {
        "colab": {
          "base_uri": "https://localhost:8080/",
          "height": 197
        },
        "id": "QV2HDgc6NRtl",
        "outputId": "b50fc008-ca96-4e4d-863d-e46b378c8c44"
      },
      "source": [
        "datanc.head()"
      ],
      "execution_count": null,
      "outputs": [
        {
          "output_type": "execute_result",
          "data": {
            "text/html": [
              "<div>\n",
              "<style scoped>\n",
              "    .dataframe tbody tr th:only-of-type {\n",
              "        vertical-align: middle;\n",
              "    }\n",
              "\n",
              "    .dataframe tbody tr th {\n",
              "        vertical-align: top;\n",
              "    }\n",
              "\n",
              "    .dataframe thead th {\n",
              "        text-align: right;\n",
              "    }\n",
              "</style>\n",
              "<table border=\"1\" class=\"dataframe\">\n",
              "  <thead>\n",
              "    <tr style=\"text-align: right;\">\n",
              "      <th></th>\n",
              "      <th>SepalL</th>\n",
              "      <th>SepalW</th>\n",
              "      <th>PetalL</th>\n",
              "      <th>PetalW</th>\n",
              "      <th>Species</th>\n",
              "    </tr>\n",
              "  </thead>\n",
              "  <tbody>\n",
              "    <tr>\n",
              "      <th>0</th>\n",
              "      <td>-0.897674</td>\n",
              "      <td>1.015602</td>\n",
              "      <td>-1.335752</td>\n",
              "      <td>-1.311052</td>\n",
              "      <td>setosa</td>\n",
              "    </tr>\n",
              "    <tr>\n",
              "      <th>1</th>\n",
              "      <td>-1.139200</td>\n",
              "      <td>-0.131539</td>\n",
              "      <td>-1.335752</td>\n",
              "      <td>-1.311052</td>\n",
              "      <td>setosa</td>\n",
              "    </tr>\n",
              "    <tr>\n",
              "      <th>2</th>\n",
              "      <td>-1.380727</td>\n",
              "      <td>0.327318</td>\n",
              "      <td>-1.392399</td>\n",
              "      <td>-1.311052</td>\n",
              "      <td>setosa</td>\n",
              "    </tr>\n",
              "    <tr>\n",
              "      <th>3</th>\n",
              "      <td>-1.501490</td>\n",
              "      <td>0.097889</td>\n",
              "      <td>-1.279104</td>\n",
              "      <td>-1.311052</td>\n",
              "      <td>setosa</td>\n",
              "    </tr>\n",
              "    <tr>\n",
              "      <th>4</th>\n",
              "      <td>-1.018437</td>\n",
              "      <td>1.245030</td>\n",
              "      <td>-1.335752</td>\n",
              "      <td>-1.311052</td>\n",
              "      <td>setosa</td>\n",
              "    </tr>\n",
              "  </tbody>\n",
              "</table>\n",
              "</div>"
            ],
            "text/plain": [
              "     SepalL    SepalW    PetalL    PetalW Species\n",
              "0 -0.897674  1.015602 -1.335752 -1.311052  setosa\n",
              "1 -1.139200 -0.131539 -1.335752 -1.311052  setosa\n",
              "2 -1.380727  0.327318 -1.392399 -1.311052  setosa\n",
              "3 -1.501490  0.097889 -1.279104 -1.311052  setosa\n",
              "4 -1.018437  1.245030 -1.335752 -1.311052  setosa"
            ]
          },
          "metadata": {
            "tags": []
          },
          "execution_count": 52
        }
      ]
    },
    {
      "cell_type": "code",
      "metadata": {
        "colab": {
          "base_uri": "https://localhost:8080/",
          "height": 726
        },
        "id": "oszannH7uTCR",
        "outputId": "d3166629-63f5-4a05-af51-940f0ff0d2fb"
      },
      "source": [
        "# Visualize data with Seaborn\n",
        "g=sns.pairplot(datanc, hue=\"Species\", height= 2.5)"
      ],
      "execution_count": null,
      "outputs": [
        {
          "output_type": "display_data",
          "data": {
            "image/png": "[encoded data removed]",
            "text/plain": [
              "<Figure size 804.75x720 with 20 Axes>"
            ]
          },
          "metadata": {
            "tags": [],
            "needs_background": "light"
          }
        }
      ]
    },
    {
      "cell_type": "markdown",
      "metadata": {
        "id": "g9_-2GgZNRtl"
      },
      "source": [
        "# separacion en grupos de entrenamiento y prueba con sklearn"
      ]
    },
    {
      "cell_type": "code",
      "metadata": {
        "id": "sNG7LF1HNRtl"
      },
      "source": [
        "#from sklearn.model_selection import train_test_split"
      ],
      "execution_count": null,
      "outputs": []
    },
    {
      "cell_type": "code",
      "metadata": {
        "id": "M7lfGDN9NRtl"
      },
      "source": [
        "#train, test = train_test_split(datanc, test_size = 0.3)"
      ],
      "execution_count": null,
      "outputs": []
    },
    {
      "cell_type": "code",
      "metadata": {
        "id": "n-tKN1znNRtm"
      },
      "source": [
        "#train.head()"
      ],
      "execution_count": null,
      "outputs": []
    },
    {
      "cell_type": "code",
      "metadata": {
        "id": "3j8Mlj7jNRtm"
      },
      "source": [
        "#train.shape"
      ],
      "execution_count": null,
      "outputs": []
    },
    {
      "cell_type": "code",
      "metadata": {
        "id": "JKAinQ6qNRtm"
      },
      "source": [
        "#test.shape"
      ],
      "execution_count": null,
      "outputs": []
    },
    {
      "cell_type": "markdown",
      "metadata": {
        "id": "74dadCZ-NRtm"
      },
      "source": [
        "Para usar ene el futuro\n",
        "!pip tensorflow\n",
        "%tensorflow_version 2.x\n",
        "import tensorflow as tf\n",
        "import matplotlib as mpl\n",
        "import matplotlib.pyplot as plt\n",
        "import numpy as np\n",
        "import os\n",
        "import pandas as pd\n",
        "from pandas import DataFrame\n",
        "\n",
        "mpl.rcParams['figure.figsize'] = (8, 6)\n",
        "mpl.rcParams['axes.grid'] = False"
      ]
    },
    {
      "cell_type": "code",
      "metadata": {
        "id": "ilB0EAjcNRtn"
      },
      "source": [
        "#cols = datanc.columns\n",
        "#features = cols[0:4]\n",
        "#labels = cols[4]\n",
        "#print(features)\n",
        "#print(labels)"
      ],
      "execution_count": null,
      "outputs": []
    },
    {
      "cell_type": "code",
      "metadata": {
        "id": "vrkFHpHyNRtn"
      },
      "source": [
        "#Well conditioned data will have zero mean and equal variance\n",
        "#We get this automattically when we calculate the Z Scores for the data\n",
        "\n",
        "#data_norm = pd.DataFrame(datanc)\n",
        "\n",
        "#for feature in features:\n",
        "#    datanc[feature] = (datanc[feature] - datanc[feature].mean())/datanc[feature].std()\n",
        "\n",
        "#Show that should now have zero mean\n",
        "#print(\"Averages\")\n",
        "#print(datanc.mean())\n",
        "\n",
        "#print(\"\\n Deviations\")\n",
        "#Show that we have equal variance\n",
        "#print(pow(datanc.std(),2))"
      ],
      "execution_count": null,
      "outputs": []
    },
    {
      "cell_type": "code",
      "metadata": {
        "id": "5QaV--SWNRtn"
      },
      "source": [
        "%tensorflow_version 2.x\n",
        "import tensorflow as tf\n",
        "import matplotlib as mpl\n",
        "import matplotlib.pyplot as plt\n",
        "import numpy as np\n",
        "import os\n",
        "import pandas as pd\n",
        "from pandas import DataFrame\n",
        "\n",
        "import PIL\n",
        "from tensorflow import keras\n",
        "from tensorflow.keras import layers\n",
        "from tensorflow.keras.models import Sequential\n",
        "\n",
        "mpl.rcParams['figure.figsize'] = (8, 6)\n",
        "mpl.rcParams['axes.grid'] = False"
      ],
      "execution_count": null,
      "outputs": []
    },
    {
      "cell_type": "code",
      "metadata": {
        "id": "cFCXEJoHSUB0"
      },
      "source": [
        "dummy_Species=pd.get_dummies(data[\"Species\"],prefix=\"Species\")"
      ],
      "execution_count": null,
      "outputs": []
    },
    {
      "cell_type": "code",
      "metadata": {
        "colab": {
          "base_uri": "https://localhost:8080/",
          "height": 197
        },
        "id": "3Ly7s0psZMoT",
        "outputId": "6be1734e-2042-4b41-bfda-e1c37a0a1464"
      },
      "source": [
        "dummy_Species.head()"
      ],
      "execution_count": null,
      "outputs": [
        {
          "output_type": "execute_result",
          "data": {
            "text/html": [
              "<div>\n",
              "<style scoped>\n",
              "    .dataframe tbody tr th:only-of-type {\n",
              "        vertical-align: middle;\n",
              "    }\n",
              "\n",
              "    .dataframe tbody tr th {\n",
              "        vertical-align: top;\n",
              "    }\n",
              "\n",
              "    .dataframe thead th {\n",
              "        text-align: right;\n",
              "    }\n",
              "</style>\n",
              "<table border=\"1\" class=\"dataframe\">\n",
              "  <thead>\n",
              "    <tr style=\"text-align: right;\">\n",
              "      <th></th>\n",
              "      <th>Species_setosa</th>\n",
              "      <th>Species_versicolor</th>\n",
              "      <th>Species_virginica</th>\n",
              "    </tr>\n",
              "  </thead>\n",
              "  <tbody>\n",
              "    <tr>\n",
              "      <th>0</th>\n",
              "      <td>1</td>\n",
              "      <td>0</td>\n",
              "      <td>0</td>\n",
              "    </tr>\n",
              "    <tr>\n",
              "      <th>1</th>\n",
              "      <td>1</td>\n",
              "      <td>0</td>\n",
              "      <td>0</td>\n",
              "    </tr>\n",
              "    <tr>\n",
              "      <th>2</th>\n",
              "      <td>1</td>\n",
              "      <td>0</td>\n",
              "      <td>0</td>\n",
              "    </tr>\n",
              "    <tr>\n",
              "      <th>3</th>\n",
              "      <td>1</td>\n",
              "      <td>0</td>\n",
              "      <td>0</td>\n",
              "    </tr>\n",
              "    <tr>\n",
              "      <th>4</th>\n",
              "      <td>1</td>\n",
              "      <td>0</td>\n",
              "      <td>0</td>\n",
              "    </tr>\n",
              "  </tbody>\n",
              "</table>\n",
              "</div>"
            ],
            "text/plain": [
              "   Species_setosa  Species_versicolor  Species_virginica\n",
              "0               1                   0                  0\n",
              "1               1                   0                  0\n",
              "2               1                   0                  0\n",
              "3               1                   0                  0\n",
              "4               1                   0                  0"
            ]
          },
          "metadata": {
            "tags": []
          },
          "execution_count": 63
        }
      ]
    },
    {
      "cell_type": "code",
      "metadata": {
        "id": "m3_EvtA6ZOaw"
      },
      "source": [
        "datancS=datanc.drop([\"Species\"], axis=1)"
      ],
      "execution_count": null,
      "outputs": []
    },
    {
      "cell_type": "code",
      "metadata": {
        "id": "4_4iDBR6ZeND"
      },
      "source": [
        "datancS=pd.concat([datancS, dummy_Species], axis=1)"
      ],
      "execution_count": null,
      "outputs": []
    },
    {
      "cell_type": "code",
      "metadata": {
        "colab": {
          "base_uri": "https://localhost:8080/",
          "height": 197
        },
        "id": "Dj_Iux3qZl3V",
        "outputId": "677fc396-0051-4279-959f-30c2472e9f5f"
      },
      "source": [
        "datancS.head()"
      ],
      "execution_count": null,
      "outputs": [
        {
          "output_type": "execute_result",
          "data": {
            "text/html": [
              "<div>\n",
              "<style scoped>\n",
              "    .dataframe tbody tr th:only-of-type {\n",
              "        vertical-align: middle;\n",
              "    }\n",
              "\n",
              "    .dataframe tbody tr th {\n",
              "        vertical-align: top;\n",
              "    }\n",
              "\n",
              "    .dataframe thead th {\n",
              "        text-align: right;\n",
              "    }\n",
              "</style>\n",
              "<table border=\"1\" class=\"dataframe\">\n",
              "  <thead>\n",
              "    <tr style=\"text-align: right;\">\n",
              "      <th></th>\n",
              "      <th>SepalL</th>\n",
              "      <th>SepalW</th>\n",
              "      <th>PetalL</th>\n",
              "      <th>PetalW</th>\n",
              "      <th>Species_setosa</th>\n",
              "      <th>Species_versicolor</th>\n",
              "      <th>Species_virginica</th>\n",
              "    </tr>\n",
              "  </thead>\n",
              "  <tbody>\n",
              "    <tr>\n",
              "      <th>0</th>\n",
              "      <td>-0.897674</td>\n",
              "      <td>1.015602</td>\n",
              "      <td>-1.335752</td>\n",
              "      <td>-1.311052</td>\n",
              "      <td>1</td>\n",
              "      <td>0</td>\n",
              "      <td>0</td>\n",
              "    </tr>\n",
              "    <tr>\n",
              "      <th>1</th>\n",
              "      <td>-1.139200</td>\n",
              "      <td>-0.131539</td>\n",
              "      <td>-1.335752</td>\n",
              "      <td>-1.311052</td>\n",
              "      <td>1</td>\n",
              "      <td>0</td>\n",
              "      <td>0</td>\n",
              "    </tr>\n",
              "    <tr>\n",
              "      <th>2</th>\n",
              "      <td>-1.380727</td>\n",
              "      <td>0.327318</td>\n",
              "      <td>-1.392399</td>\n",
              "      <td>-1.311052</td>\n",
              "      <td>1</td>\n",
              "      <td>0</td>\n",
              "      <td>0</td>\n",
              "    </tr>\n",
              "    <tr>\n",
              "      <th>3</th>\n",
              "      <td>-1.501490</td>\n",
              "      <td>0.097889</td>\n",
              "      <td>-1.279104</td>\n",
              "      <td>-1.311052</td>\n",
              "      <td>1</td>\n",
              "      <td>0</td>\n",
              "      <td>0</td>\n",
              "    </tr>\n",
              "    <tr>\n",
              "      <th>4</th>\n",
              "      <td>-1.018437</td>\n",
              "      <td>1.245030</td>\n",
              "      <td>-1.335752</td>\n",
              "      <td>-1.311052</td>\n",
              "      <td>1</td>\n",
              "      <td>0</td>\n",
              "      <td>0</td>\n",
              "    </tr>\n",
              "  </tbody>\n",
              "</table>\n",
              "</div>"
            ],
            "text/plain": [
              "     SepalL    SepalW  ...  Species_versicolor  Species_virginica\n",
              "0 -0.897674  1.015602  ...                   0                  0\n",
              "1 -1.139200 -0.131539  ...                   0                  0\n",
              "2 -1.380727  0.327318  ...                   0                  0\n",
              "3 -1.501490  0.097889  ...                   0                  0\n",
              "4 -1.018437  1.245030  ...                   0                  0\n",
              "\n",
              "[5 rows x 7 columns]"
            ]
          },
          "metadata": {
            "tags": []
          },
          "execution_count": 66
        }
      ]
    },
    {
      "cell_type": "code",
      "metadata": {
        "id": "VJuXVfVIZp9b"
      },
      "source": [
        "from sklearn.model_selection import train_test_split"
      ],
      "execution_count": null,
      "outputs": []
    },
    {
      "cell_type": "code",
      "metadata": {
        "id": "Ff7L6tHyaRKZ"
      },
      "source": [
        "train, test = train_test_split(datancS, test_size = 0.3)"
      ],
      "execution_count": null,
      "outputs": []
    },
    {
      "cell_type": "code",
      "metadata": {
        "colab": {
          "base_uri": "https://localhost:8080/",
          "height": 347
        },
        "id": "JulkEt29aW-I",
        "outputId": "a7c37d61-6d2f-4d48-f575-b8085cb42890"
      },
      "source": [
        "train.head(10)"
      ],
      "execution_count": null,
      "outputs": [
        {
          "output_type": "execute_result",
          "data": {
            "text/html": [
              "<div>\n",
              "<style scoped>\n",
              "    .dataframe tbody tr th:only-of-type {\n",
              "        vertical-align: middle;\n",
              "    }\n",
              "\n",
              "    .dataframe tbody tr th {\n",
              "        vertical-align: top;\n",
              "    }\n",
              "\n",
              "    .dataframe thead th {\n",
              "        text-align: right;\n",
              "    }\n",
              "</style>\n",
              "<table border=\"1\" class=\"dataframe\">\n",
              "  <thead>\n",
              "    <tr style=\"text-align: right;\">\n",
              "      <th></th>\n",
              "      <th>SepalL</th>\n",
              "      <th>SepalW</th>\n",
              "      <th>PetalL</th>\n",
              "      <th>PetalW</th>\n",
              "      <th>Species_setosa</th>\n",
              "      <th>Species_versicolor</th>\n",
              "      <th>Species_virginica</th>\n",
              "    </tr>\n",
              "  </thead>\n",
              "  <tbody>\n",
              "    <tr>\n",
              "      <th>103</th>\n",
              "      <td>0.551486</td>\n",
              "      <td>-0.360967</td>\n",
              "      <td>1.043450</td>\n",
              "      <td>0.788031</td>\n",
              "      <td>0</td>\n",
              "      <td>0</td>\n",
              "      <td>1</td>\n",
              "    </tr>\n",
              "    <tr>\n",
              "      <th>43</th>\n",
              "      <td>-1.018437</td>\n",
              "      <td>1.015602</td>\n",
              "      <td>-1.222456</td>\n",
              "      <td>-0.786281</td>\n",
              "      <td>1</td>\n",
              "      <td>0</td>\n",
              "      <td>0</td>\n",
              "    </tr>\n",
              "    <tr>\n",
              "      <th>5</th>\n",
              "      <td>-0.535384</td>\n",
              "      <td>1.933315</td>\n",
              "      <td>-1.165809</td>\n",
              "      <td>-1.048667</td>\n",
              "      <td>1</td>\n",
              "      <td>0</td>\n",
              "      <td>0</td>\n",
              "    </tr>\n",
              "    <tr>\n",
              "      <th>137</th>\n",
              "      <td>0.672249</td>\n",
              "      <td>0.097889</td>\n",
              "      <td>0.986802</td>\n",
              "      <td>0.788031</td>\n",
              "      <td>0</td>\n",
              "      <td>0</td>\n",
              "      <td>1</td>\n",
              "    </tr>\n",
              "    <tr>\n",
              "      <th>2</th>\n",
              "      <td>-1.380727</td>\n",
              "      <td>0.327318</td>\n",
              "      <td>-1.392399</td>\n",
              "      <td>-1.311052</td>\n",
              "      <td>1</td>\n",
              "      <td>0</td>\n",
              "      <td>0</td>\n",
              "    </tr>\n",
              "    <tr>\n",
              "      <th>142</th>\n",
              "      <td>-0.052331</td>\n",
              "      <td>-0.819823</td>\n",
              "      <td>0.760211</td>\n",
              "      <td>0.919223</td>\n",
              "      <td>0</td>\n",
              "      <td>0</td>\n",
              "      <td>1</td>\n",
              "    </tr>\n",
              "    <tr>\n",
              "      <th>78</th>\n",
              "      <td>0.189196</td>\n",
              "      <td>-0.360967</td>\n",
              "      <td>0.420326</td>\n",
              "      <td>0.394453</td>\n",
              "      <td>0</td>\n",
              "      <td>1</td>\n",
              "      <td>0</td>\n",
              "    </tr>\n",
              "    <tr>\n",
              "      <th>60</th>\n",
              "      <td>-1.018437</td>\n",
              "      <td>-2.425820</td>\n",
              "      <td>-0.146151</td>\n",
              "      <td>-0.261511</td>\n",
              "      <td>0</td>\n",
              "      <td>1</td>\n",
              "      <td>0</td>\n",
              "    </tr>\n",
              "    <tr>\n",
              "      <th>102</th>\n",
              "      <td>1.517592</td>\n",
              "      <td>-0.131539</td>\n",
              "      <td>1.213393</td>\n",
              "      <td>1.181609</td>\n",
              "      <td>0</td>\n",
              "      <td>0</td>\n",
              "      <td>1</td>\n",
              "    </tr>\n",
              "    <tr>\n",
              "      <th>117</th>\n",
              "      <td>2.242172</td>\n",
              "      <td>1.703886</td>\n",
              "      <td>1.666574</td>\n",
              "      <td>1.312801</td>\n",
              "      <td>0</td>\n",
              "      <td>0</td>\n",
              "      <td>1</td>\n",
              "    </tr>\n",
              "  </tbody>\n",
              "</table>\n",
              "</div>"
            ],
            "text/plain": [
              "       SepalL    SepalW  ...  Species_versicolor  Species_virginica\n",
              "103  0.551486 -0.360967  ...                   0                  1\n",
              "43  -1.018437  1.015602  ...                   0                  0\n",
              "5   -0.535384  1.933315  ...                   0                  0\n",
              "137  0.672249  0.097889  ...                   0                  1\n",
              "2   -1.380727  0.327318  ...                   0                  0\n",
              "142 -0.052331 -0.819823  ...                   0                  1\n",
              "78   0.189196 -0.360967  ...                   1                  0\n",
              "60  -1.018437 -2.425820  ...                   1                  0\n",
              "102  1.517592 -0.131539  ...                   0                  1\n",
              "117  2.242172  1.703886  ...                   0                  1\n",
              "\n",
              "[10 rows x 7 columns]"
            ]
          },
          "metadata": {
            "tags": []
          },
          "execution_count": 69
        }
      ]
    },
    {
      "cell_type": "code",
      "metadata": {
        "colab": {
          "base_uri": "https://localhost:8080/",
          "height": 197
        },
        "id": "TEl4BOISabh2",
        "outputId": "e1c08896-8c59-43d9-dcf4-10a9d2f6de31"
      },
      "source": [
        "test.head()"
      ],
      "execution_count": null,
      "outputs": [
        {
          "output_type": "execute_result",
          "data": {
            "text/html": [
              "<div>\n",
              "<style scoped>\n",
              "    .dataframe tbody tr th:only-of-type {\n",
              "        vertical-align: middle;\n",
              "    }\n",
              "\n",
              "    .dataframe tbody tr th {\n",
              "        vertical-align: top;\n",
              "    }\n",
              "\n",
              "    .dataframe thead th {\n",
              "        text-align: right;\n",
              "    }\n",
              "</style>\n",
              "<table border=\"1\" class=\"dataframe\">\n",
              "  <thead>\n",
              "    <tr style=\"text-align: right;\">\n",
              "      <th></th>\n",
              "      <th>SepalL</th>\n",
              "      <th>SepalW</th>\n",
              "      <th>PetalL</th>\n",
              "      <th>PetalW</th>\n",
              "      <th>Species_setosa</th>\n",
              "      <th>Species_versicolor</th>\n",
              "      <th>Species_virginica</th>\n",
              "    </tr>\n",
              "  </thead>\n",
              "  <tbody>\n",
              "    <tr>\n",
              "      <th>143</th>\n",
              "      <td>1.155302</td>\n",
              "      <td>0.327318</td>\n",
              "      <td>1.213393</td>\n",
              "      <td>1.443994</td>\n",
              "      <td>0</td>\n",
              "      <td>0</td>\n",
              "      <td>1</td>\n",
              "    </tr>\n",
              "    <tr>\n",
              "      <th>139</th>\n",
              "      <td>1.276066</td>\n",
              "      <td>0.097889</td>\n",
              "      <td>0.930154</td>\n",
              "      <td>1.181609</td>\n",
              "      <td>0</td>\n",
              "      <td>0</td>\n",
              "      <td>1</td>\n",
              "    </tr>\n",
              "    <tr>\n",
              "      <th>23</th>\n",
              "      <td>-0.897674</td>\n",
              "      <td>0.556746</td>\n",
              "      <td>-1.165809</td>\n",
              "      <td>-0.917474</td>\n",
              "      <td>1</td>\n",
              "      <td>0</td>\n",
              "      <td>0</td>\n",
              "    </tr>\n",
              "    <tr>\n",
              "      <th>20</th>\n",
              "      <td>-0.535384</td>\n",
              "      <td>0.786174</td>\n",
              "      <td>-1.165809</td>\n",
              "      <td>-1.311052</td>\n",
              "      <td>1</td>\n",
              "      <td>0</td>\n",
              "      <td>0</td>\n",
              "    </tr>\n",
              "    <tr>\n",
              "      <th>16</th>\n",
              "      <td>-0.535384</td>\n",
              "      <td>1.933315</td>\n",
              "      <td>-1.392399</td>\n",
              "      <td>-1.048667</td>\n",
              "      <td>1</td>\n",
              "      <td>0</td>\n",
              "      <td>0</td>\n",
              "    </tr>\n",
              "  </tbody>\n",
              "</table>\n",
              "</div>"
            ],
            "text/plain": [
              "       SepalL    SepalW  ...  Species_versicolor  Species_virginica\n",
              "143  1.155302  0.327318  ...                   0                  1\n",
              "139  1.276066  0.097889  ...                   0                  1\n",
              "23  -0.897674  0.556746  ...                   0                  0\n",
              "20  -0.535384  0.786174  ...                   0                  0\n",
              "16  -0.535384  1.933315  ...                   0                  0\n",
              "\n",
              "[5 rows x 7 columns]"
            ]
          },
          "metadata": {
            "tags": []
          },
          "execution_count": 70
        }
      ]
    },
    {
      "cell_type": "code",
      "metadata": {
        "colab": {
          "base_uri": "https://localhost:8080/"
        },
        "id": "LGeUASs_apwc",
        "outputId": "811a23a0-a5a2-42bf-d267-0a74343134b5"
      },
      "source": [
        "train.shape"
      ],
      "execution_count": null,
      "outputs": [
        {
          "output_type": "execute_result",
          "data": {
            "text/plain": [
              "(105, 7)"
            ]
          },
          "metadata": {
            "tags": []
          },
          "execution_count": 71
        }
      ]
    },
    {
      "cell_type": "code",
      "metadata": {
        "colab": {
          "base_uri": "https://localhost:8080/"
        },
        "id": "19XYq1KNat8o",
        "outputId": "64ad536f-7518-4d97-b14d-f64a6687f6d7"
      },
      "source": [
        "test.shape"
      ],
      "execution_count": null,
      "outputs": [
        {
          "output_type": "execute_result",
          "data": {
            "text/plain": [
              "(45, 7)"
            ]
          },
          "metadata": {
            "tags": []
          },
          "execution_count": 72
        }
      ]
    },
    {
      "cell_type": "code",
      "metadata": {
        "id": "As2UWtEbav4n"
      },
      "source": [
        "X_train=train.drop([\"Species_setosa\", \"Species_versicolor\", \"Species_virginica\"], axis=1)\n",
        "X_test=test.drop([\"Species_setosa\", \"Species_versicolor\", \"Species_virginica\"], axis=1)\n",
        "Y_train=train.drop([\"SepalL\", \"SepalW\", \"PetalL\", \"PetalW\"], axis=1)\n",
        "Y_test=test.drop([\"SepalL\", \"SepalW\", \"PetalL\", \"PetalW\"], axis=1)\n",
        "entradas=X_test.shape[1]"
      ],
      "execution_count": null,
      "outputs": []
    },
    {
      "cell_type": "code",
      "metadata": {
        "id": "VlyLg5ispbXl"
      },
      "source": [
        ""
      ],
      "execution_count": null,
      "outputs": []
    },
    {
      "cell_type": "markdown",
      "metadata": {
        "id": "LC4qOzxPpcj2"
      },
      "source": [
        "Entrenamiento de la Red Neuronal"
      ]
    },
    {
      "cell_type": "code",
      "metadata": {
        "id": "dISzIRlYibzX"
      },
      "source": [
        "model = tf.keras.models.Sequential()\n",
        "model.add(tf.keras.layers.Dense(units=40, activation='linear', input_shape=(entradas, )))\n",
        "model.add(tf.keras.layers.Dropout(0.2))\n",
        "model.add(tf.keras.layers.Dense(30))\n",
        "model.add(tf.keras.layers.Dense(128, activation='relu'))\n",
        "model.add(tf.keras.layers.Dense(3, activation='softmax'))\n",
        "model.compile(optimizer='adam',\n",
        "              loss='CategoricalCrossentropy',\n",
        "              metrics=['accuracy'])"
      ],
      "execution_count": null,
      "outputs": []
    },
    {
      "cell_type": "code",
      "metadata": {
        "colab": {
          "base_uri": "https://localhost:8080/"
        },
        "id": "sARBLsRLjOMX",
        "outputId": "bd9f5b1f-392c-489c-bbbe-2cfe808b72fb"
      },
      "source": [
        "model.summary()"
      ],
      "execution_count": null,
      "outputs": [
        {
          "output_type": "stream",
          "text": [
            "Model: \"sequential\"\n",
            "_________________________________________________________________\n",
            "Layer (type)                 Output Shape              Param #   \n",
            "=================================================================\n",
            "dense (Dense)                (None, 40)                200       \n",
            "_________________________________________________________________\n",
            "dropout (Dropout)            (None, 40)                0         \n",
            "_________________________________________________________________\n",
            "dense_1 (Dense)              (None, 30)                1230      \n",
            "_________________________________________________________________\n",
            "dense_2 (Dense)              (None, 128)               3968      \n",
            "_________________________________________________________________\n",
            "dense_3 (Dense)              (None, 3)                 387       \n",
            "=================================================================\n",
            "Total params: 5,785\n",
            "Trainable params: 5,785\n",
            "Non-trainable params: 0\n",
            "_________________________________________________________________\n"
          ],
          "name": "stdout"
        }
      ]
    },
    {
      "cell_type": "code",
      "metadata": {
        "colab": {
          "base_uri": "https://localhost:8080/"
        },
        "id": "hLljfo8ajSbL",
        "outputId": "557f07f5-cf5e-4961-e09b-7da6b4dbf800"
      },
      "source": [
        "model.fit(X_train, Y_train, epochs=500)"
      ],
      "execution_count": null,
      "outputs": [
        {
          "output_type": "stream",
          "text": [
            "Epoch 1/500\n",
            "4/4 [==============================] - 0s 4ms/step - loss: 0.0102 - accuracy: 1.0000\n",
            "Epoch 2/500\n",
            "4/4 [==============================] - 0s 4ms/step - loss: 0.0179 - accuracy: 0.9905\n",
            "Epoch 3/500\n",
            "4/4 [==============================] - 0s 3ms/step - loss: 0.0102 - accuracy: 1.0000\n",
            "Epoch 4/500\n",
            "4/4 [==============================] - 0s 4ms/step - loss: 0.0098 - accuracy: 1.0000\n",
            "Epoch 5/500\n",
            "4/4 [==============================] - 0s 5ms/step - loss: 0.0398 - accuracy: 0.9810\n",
            "Epoch 6/500\n",
            "4/4 [==============================] - 0s 4ms/step - loss: 0.0141 - accuracy: 1.0000\n",
            "Epoch 7/500\n",
            "4/4 [==============================] - 0s 3ms/step - loss: 0.0086 - accuracy: 1.0000\n",
            "Epoch 8/500\n",
            "4/4 [==============================] - 0s 4ms/step - loss: 0.0338 - accuracy: 0.9905\n",
            "Epoch 9/500\n",
            "4/4 [==============================] - 0s 4ms/step - loss: 0.0077 - accuracy: 1.0000\n",
            "Epoch 10/500\n",
            "4/4 [==============================] - 0s 4ms/step - loss: 0.0231 - accuracy: 0.9905\n",
            "Epoch 11/500\n",
            "4/4 [==============================] - 0s 4ms/step - loss: 0.0103 - accuracy: 1.0000\n",
            "Epoch 12/500\n",
            "4/4 [==============================] - 0s 4ms/step - loss: 0.0181 - accuracy: 0.9905\n",
            "Epoch 13/500\n",
            "4/4 [==============================] - 0s 3ms/step - loss: 0.0114 - accuracy: 1.0000\n",
            "Epoch 14/500\n",
            "4/4 [==============================] - 0s 3ms/step - loss: 0.0263 - accuracy: 0.9905\n",
            "Epoch 15/500\n",
            "4/4 [==============================] - 0s 4ms/step - loss: 0.0176 - accuracy: 0.9905\n",
            "Epoch 16/500\n",
            "4/4 [==============================] - 0s 4ms/step - loss: 0.0105 - accuracy: 1.0000\n",
            "Epoch 17/500\n",
            "4/4 [==============================] - 0s 4ms/step - loss: 0.0145 - accuracy: 1.0000\n",
            "Epoch 18/500\n",
            "4/4 [==============================] - 0s 4ms/step - loss: 0.0167 - accuracy: 0.9905\n",
            "Epoch 19/500\n",
            "4/4 [==============================] - 0s 5ms/step - loss: 0.0098 - accuracy: 1.0000\n",
            "Epoch 20/500\n",
            "4/4 [==============================] - 0s 5ms/step - loss: 0.0132 - accuracy: 1.0000\n",
            "Epoch 21/500\n",
            "4/4 [==============================] - 0s 4ms/step - loss: 0.0337 - accuracy: 0.9810\n",
            "Epoch 22/500\n",
            "4/4 [==============================] - 0s 4ms/step - loss: 0.0148 - accuracy: 1.0000\n",
            "Epoch 23/500\n",
            "4/4 [==============================] - 0s 4ms/step - loss: 0.0120 - accuracy: 1.0000\n",
            "Epoch 24/500\n",
            "4/4 [==============================] - 0s 3ms/step - loss: 0.0200 - accuracy: 0.9905\n",
            "Epoch 25/500\n",
            "4/4 [==============================] - 0s 4ms/step - loss: 0.0216 - accuracy: 0.9905\n",
            "Epoch 26/500\n",
            "4/4 [==============================] - 0s 3ms/step - loss: 0.0331 - accuracy: 0.9810\n",
            "Epoch 27/500\n",
            "4/4 [==============================] - 0s 3ms/step - loss: 0.0192 - accuracy: 0.9905\n",
            "Epoch 28/500\n",
            "4/4 [==============================] - 0s 5ms/step - loss: 0.0186 - accuracy: 0.9905\n",
            "Epoch 29/500\n",
            "4/4 [==============================] - 0s 5ms/step - loss: 0.0270 - accuracy: 0.9810\n",
            "Epoch 30/500\n",
            "4/4 [==============================] - 0s 4ms/step - loss: 0.0129 - accuracy: 0.9905\n",
            "Epoch 31/500\n",
            "4/4 [==============================] - 0s 4ms/step - loss: 0.0298 - accuracy: 0.9810\n",
            "Epoch 32/500\n",
            "4/4 [==============================] - 0s 5ms/step - loss: 0.0214 - accuracy: 0.9810\n",
            "Epoch 33/500\n",
            "4/4 [==============================] - 0s 4ms/step - loss: 0.0222 - accuracy: 0.9905\n",
            "Epoch 34/500\n",
            "4/4 [==============================] - 0s 4ms/step - loss: 0.0116 - accuracy: 1.0000\n",
            "Epoch 35/500\n",
            "4/4 [==============================] - 0s 4ms/step - loss: 0.0177 - accuracy: 0.9905\n",
            "Epoch 36/500\n",
            "4/4 [==============================] - 0s 4ms/step - loss: 0.0073 - accuracy: 1.0000\n",
            "Epoch 37/500\n",
            "4/4 [==============================] - 0s 4ms/step - loss: 0.0089 - accuracy: 1.0000\n",
            "Epoch 38/500\n",
            "4/4 [==============================] - 0s 4ms/step - loss: 0.0184 - accuracy: 0.9905\n",
            "Epoch 39/500\n",
            "4/4 [==============================] - 0s 4ms/step - loss: 0.0378 - accuracy: 0.9905\n",
            "Epoch 40/500\n",
            "4/4 [==============================] - 0s 4ms/step - loss: 0.0397 - accuracy: 0.9810\n",
            "Epoch 41/500\n",
            "4/4 [==============================] - 0s 3ms/step - loss: 0.0115 - accuracy: 1.0000\n",
            "Epoch 42/500\n",
            "4/4 [==============================] - 0s 3ms/step - loss: 0.0095 - accuracy: 1.0000\n",
            "Epoch 43/500\n",
            "4/4 [==============================] - 0s 3ms/step - loss: 0.0232 - accuracy: 0.9905\n",
            "Epoch 44/500\n",
            "4/4 [==============================] - 0s 3ms/step - loss: 0.0153 - accuracy: 0.9905\n",
            "Epoch 45/500\n",
            "4/4 [==============================] - 0s 4ms/step - loss: 0.0144 - accuracy: 1.0000\n",
            "Epoch 46/500\n",
            "4/4 [==============================] - 0s 4ms/step - loss: 0.0123 - accuracy: 1.0000\n",
            "Epoch 47/500\n",
            "4/4 [==============================] - 0s 3ms/step - loss: 0.0097 - accuracy: 1.0000\n",
            "Epoch 48/500\n",
            "4/4 [==============================] - 0s 4ms/step - loss: 0.0308 - accuracy: 0.9905\n",
            "Epoch 49/500\n",
            "4/4 [==============================] - 0s 5ms/step - loss: 0.0196 - accuracy: 0.9905\n",
            "Epoch 50/500\n",
            "4/4 [==============================] - 0s 5ms/step - loss: 0.0203 - accuracy: 0.9905\n",
            "Epoch 51/500\n",
            "4/4 [==============================] - 0s 4ms/step - loss: 0.0224 - accuracy: 0.9905\n",
            "Epoch 52/500\n",
            "4/4 [==============================] - 0s 4ms/step - loss: 0.0122 - accuracy: 0.9905\n",
            "Epoch 53/500\n",
            "4/4 [==============================] - 0s 4ms/step - loss: 0.0240 - accuracy: 0.9810\n",
            "Epoch 54/500\n",
            "4/4 [==============================] - 0s 4ms/step - loss: 0.0251 - accuracy: 0.9905\n",
            "Epoch 55/500\n",
            "4/4 [==============================] - 0s 4ms/step - loss: 0.0144 - accuracy: 0.9905\n",
            "Epoch 56/500\n",
            "4/4 [==============================] - 0s 3ms/step - loss: 0.0174 - accuracy: 0.9905\n",
            "Epoch 57/500\n",
            "4/4 [==============================] - 0s 4ms/step - loss: 0.0077 - accuracy: 1.0000\n",
            "Epoch 58/500\n",
            "4/4 [==============================] - 0s 4ms/step - loss: 0.0207 - accuracy: 0.9905\n",
            "Epoch 59/500\n",
            "4/4 [==============================] - 0s 4ms/step - loss: 0.0355 - accuracy: 0.9905\n",
            "Epoch 60/500\n",
            "4/4 [==============================] - 0s 3ms/step - loss: 0.0163 - accuracy: 0.9905\n",
            "Epoch 61/500\n",
            "4/4 [==============================] - 0s 3ms/step - loss: 0.0177 - accuracy: 0.9905\n",
            "Epoch 62/500\n",
            "4/4 [==============================] - 0s 5ms/step - loss: 0.0226 - accuracy: 0.9905\n",
            "Epoch 63/500\n",
            "4/4 [==============================] - 0s 3ms/step - loss: 0.0139 - accuracy: 1.0000\n",
            "Epoch 64/500\n",
            "4/4 [==============================] - 0s 4ms/step - loss: 0.0202 - accuracy: 0.9905\n",
            "Epoch 65/500\n",
            "4/4 [==============================] - 0s 4ms/step - loss: 0.0114 - accuracy: 1.0000\n",
            "Epoch 66/500\n",
            "4/4 [==============================] - 0s 5ms/step - loss: 0.0153 - accuracy: 0.9905\n",
            "Epoch 67/500\n",
            "4/4 [==============================] - 0s 4ms/step - loss: 0.0171 - accuracy: 0.9905\n",
            "Epoch 68/500\n",
            "4/4 [==============================] - 0s 4ms/step - loss: 0.0123 - accuracy: 1.0000\n",
            "Epoch 69/500\n",
            "4/4 [==============================] - 0s 4ms/step - loss: 0.0198 - accuracy: 0.9905\n",
            "Epoch 70/500\n",
            "4/4 [==============================] - 0s 3ms/step - loss: 0.0178 - accuracy: 0.9905\n",
            "Epoch 71/500\n",
            "4/4 [==============================] - 0s 6ms/step - loss: 0.0359 - accuracy: 0.9810\n",
            "Epoch 72/500\n",
            "4/4 [==============================] - 0s 5ms/step - loss: 0.0284 - accuracy: 0.9905\n",
            "Epoch 73/500\n",
            "4/4 [==============================] - 0s 5ms/step - loss: 0.0092 - accuracy: 1.0000\n",
            "Epoch 74/500\n",
            "4/4 [==============================] - 0s 6ms/step - loss: 0.0244 - accuracy: 0.9905\n",
            "Epoch 75/500\n",
            "4/4 [==============================] - 0s 5ms/step - loss: 0.0068 - accuracy: 1.0000\n",
            "Epoch 76/500\n",
            "4/4 [==============================] - 0s 4ms/step - loss: 0.0233 - accuracy: 0.9905\n",
            "Epoch 77/500\n",
            "4/4 [==============================] - 0s 4ms/step - loss: 0.0183 - accuracy: 0.9905\n",
            "Epoch 78/500\n",
            "4/4 [==============================] - 0s 6ms/step - loss: 0.0220 - accuracy: 0.9905\n",
            "Epoch 79/500\n",
            "4/4 [==============================] - 0s 4ms/step - loss: 0.0126 - accuracy: 1.0000\n",
            "Epoch 80/500\n",
            "4/4 [==============================] - 0s 4ms/step - loss: 0.0070 - accuracy: 1.0000\n",
            "Epoch 81/500\n",
            "4/4 [==============================] - 0s 5ms/step - loss: 0.0150 - accuracy: 0.9905\n",
            "Epoch 82/500\n",
            "4/4 [==============================] - 0s 4ms/step - loss: 0.0103 - accuracy: 1.0000\n",
            "Epoch 83/500\n",
            "4/4 [==============================] - 0s 4ms/step - loss: 0.0145 - accuracy: 0.9905\n",
            "Epoch 84/500\n",
            "4/4 [==============================] - 0s 4ms/step - loss: 0.0215 - accuracy: 0.9810\n",
            "Epoch 85/500\n",
            "4/4 [==============================] - 0s 5ms/step - loss: 0.0114 - accuracy: 1.0000\n",
            "Epoch 86/500\n",
            "4/4 [==============================] - 0s 5ms/step - loss: 0.0149 - accuracy: 0.9905\n",
            "Epoch 87/500\n",
            "4/4 [==============================] - 0s 5ms/step - loss: 0.0146 - accuracy: 0.9905\n",
            "Epoch 88/500\n",
            "4/4 [==============================] - 0s 4ms/step - loss: 0.0126 - accuracy: 1.0000\n",
            "Epoch 89/500\n",
            "4/4 [==============================] - 0s 4ms/step - loss: 0.0093 - accuracy: 1.0000\n",
            "Epoch 90/500\n",
            "4/4 [==============================] - 0s 5ms/step - loss: 0.0178 - accuracy: 0.9905\n",
            "Epoch 91/500\n",
            "4/4 [==============================] - 0s 4ms/step - loss: 0.0207 - accuracy: 0.9905\n",
            "Epoch 92/500\n",
            "4/4 [==============================] - 0s 3ms/step - loss: 0.0044 - accuracy: 1.0000\n",
            "Epoch 93/500\n",
            "4/4 [==============================] - 0s 3ms/step - loss: 0.0151 - accuracy: 0.9905\n",
            "Epoch 94/500\n",
            "4/4 [==============================] - 0s 5ms/step - loss: 0.0080 - accuracy: 1.0000\n",
            "Epoch 95/500\n",
            "4/4 [==============================] - 0s 4ms/step - loss: 0.0149 - accuracy: 0.9905\n",
            "Epoch 96/500\n",
            "4/4 [==============================] - 0s 4ms/step - loss: 0.0070 - accuracy: 1.0000\n",
            "Epoch 97/500\n",
            "4/4 [==============================] - 0s 4ms/step - loss: 0.0033 - accuracy: 1.0000\n",
            "Epoch 98/500\n",
            "4/4 [==============================] - 0s 6ms/step - loss: 0.0133 - accuracy: 1.0000\n",
            "Epoch 99/500\n",
            "4/4 [==============================] - 0s 6ms/step - loss: 0.0102 - accuracy: 1.0000\n",
            "Epoch 100/500\n",
            "4/4 [==============================] - 0s 4ms/step - loss: 0.0079 - accuracy: 1.0000\n",
            "Epoch 101/500\n",
            "4/4 [==============================] - 0s 5ms/step - loss: 0.0084 - accuracy: 1.0000\n",
            "Epoch 102/500\n",
            "4/4 [==============================] - 0s 4ms/step - loss: 0.0087 - accuracy: 0.9905\n",
            "Epoch 103/500\n",
            "4/4 [==============================] - 0s 5ms/step - loss: 0.0071 - accuracy: 1.0000\n",
            "Epoch 104/500\n",
            "4/4 [==============================] - 0s 4ms/step - loss: 0.0075 - accuracy: 1.0000\n",
            "Epoch 105/500\n",
            "4/4 [==============================] - 0s 4ms/step - loss: 0.0214 - accuracy: 0.9905\n",
            "Epoch 106/500\n",
            "4/4 [==============================] - 0s 4ms/step - loss: 0.0073 - accuracy: 1.0000\n",
            "Epoch 107/500\n",
            "4/4 [==============================] - 0s 4ms/step - loss: 0.0097 - accuracy: 1.0000\n",
            "Epoch 108/500\n",
            "4/4 [==============================] - 0s 4ms/step - loss: 0.0174 - accuracy: 0.9905\n",
            "Epoch 109/500\n",
            "4/4 [==============================] - 0s 4ms/step - loss: 0.0068 - accuracy: 1.0000\n",
            "Epoch 110/500\n",
            "4/4 [==============================] - 0s 5ms/step - loss: 0.0060 - accuracy: 1.0000\n",
            "Epoch 111/500\n",
            "4/4 [==============================] - 0s 5ms/step - loss: 0.0132 - accuracy: 0.9905\n",
            "Epoch 112/500\n",
            "4/4 [==============================] - 0s 4ms/step - loss: 0.0051 - accuracy: 1.0000\n",
            "Epoch 113/500\n",
            "4/4 [==============================] - 0s 4ms/step - loss: 0.0059 - accuracy: 1.0000\n",
            "Epoch 114/500\n",
            "4/4 [==============================] - 0s 5ms/step - loss: 0.0023 - accuracy: 1.0000\n",
            "Epoch 115/500\n",
            "4/4 [==============================] - 0s 5ms/step - loss: 0.0058 - accuracy: 1.0000\n",
            "Epoch 116/500\n",
            "4/4 [==============================] - 0s 4ms/step - loss: 0.0061 - accuracy: 1.0000\n",
            "Epoch 117/500\n",
            "4/4 [==============================] - 0s 4ms/step - loss: 0.0091 - accuracy: 1.0000\n",
            "Epoch 118/500\n",
            "4/4 [==============================] - 0s 4ms/step - loss: 0.0178 - accuracy: 0.9905\n",
            "Epoch 119/500\n",
            "4/4 [==============================] - 0s 6ms/step - loss: 0.0072 - accuracy: 1.0000\n",
            "Epoch 120/500\n",
            "4/4 [==============================] - 0s 4ms/step - loss: 0.0237 - accuracy: 0.9905\n",
            "Epoch 121/500\n",
            "4/4 [==============================] - 0s 4ms/step - loss: 0.0167 - accuracy: 0.9905\n",
            "Epoch 122/500\n",
            "4/4 [==============================] - 0s 4ms/step - loss: 0.0083 - accuracy: 1.0000\n",
            "Epoch 123/500\n",
            "4/4 [==============================] - 0s 4ms/step - loss: 0.0072 - accuracy: 1.0000\n",
            "Epoch 124/500\n",
            "4/4 [==============================] - 0s 4ms/step - loss: 0.0154 - accuracy: 0.9905\n",
            "Epoch 125/500\n",
            "4/4 [==============================] - 0s 4ms/step - loss: 0.0227 - accuracy: 0.9905\n",
            "Epoch 126/500\n",
            "4/4 [==============================] - 0s 4ms/step - loss: 0.0053 - accuracy: 1.0000\n",
            "Epoch 127/500\n",
            "4/4 [==============================] - 0s 4ms/step - loss: 0.0085 - accuracy: 1.0000\n",
            "Epoch 128/500\n",
            "4/4 [==============================] - 0s 4ms/step - loss: 0.0053 - accuracy: 1.0000\n",
            "Epoch 129/500\n",
            "4/4 [==============================] - 0s 4ms/step - loss: 0.0242 - accuracy: 0.9810\n",
            "Epoch 130/500\n",
            "4/4 [==============================] - 0s 4ms/step - loss: 0.0154 - accuracy: 0.9905\n",
            "Epoch 131/500\n",
            "4/4 [==============================] - 0s 4ms/step - loss: 0.0182 - accuracy: 0.9905\n",
            "Epoch 132/500\n",
            "4/4 [==============================] - 0s 4ms/step - loss: 0.0115 - accuracy: 0.9905\n",
            "Epoch 133/500\n",
            "4/4 [==============================] - 0s 5ms/step - loss: 0.0126 - accuracy: 1.0000\n",
            "Epoch 134/500\n",
            "4/4 [==============================] - 0s 4ms/step - loss: 0.0311 - accuracy: 0.9810\n",
            "Epoch 135/500\n",
            "4/4 [==============================] - 0s 4ms/step - loss: 0.0053 - accuracy: 1.0000\n",
            "Epoch 136/500\n",
            "4/4 [==============================] - 0s 4ms/step - loss: 0.0056 - accuracy: 1.0000\n",
            "Epoch 137/500\n",
            "4/4 [==============================] - 0s 4ms/step - loss: 0.0131 - accuracy: 0.9905\n",
            "Epoch 138/500\n",
            "4/4 [==============================] - 0s 6ms/step - loss: 0.0183 - accuracy: 0.9810\n",
            "Epoch 139/500\n",
            "4/4 [==============================] - 0s 4ms/step - loss: 0.0239 - accuracy: 0.9905\n",
            "Epoch 140/500\n",
            "4/4 [==============================] - 0s 5ms/step - loss: 0.0186 - accuracy: 0.9810\n",
            "Epoch 141/500\n",
            "4/4 [==============================] - 0s 4ms/step - loss: 0.0138 - accuracy: 0.9905\n",
            "Epoch 142/500\n",
            "4/4 [==============================] - 0s 4ms/step - loss: 0.0147 - accuracy: 0.9905\n",
            "Epoch 143/500\n",
            "4/4 [==============================] - 0s 4ms/step - loss: 0.0265 - accuracy: 0.9810\n",
            "Epoch 144/500\n",
            "4/4 [==============================] - 0s 5ms/step - loss: 0.0041 - accuracy: 1.0000\n",
            "Epoch 145/500\n",
            "4/4 [==============================] - 0s 4ms/step - loss: 0.0093 - accuracy: 1.0000\n",
            "Epoch 146/500\n",
            "4/4 [==============================] - 0s 5ms/step - loss: 0.0207 - accuracy: 0.9905\n",
            "Epoch 147/500\n",
            "4/4 [==============================] - 0s 3ms/step - loss: 0.0089 - accuracy: 1.0000\n",
            "Epoch 148/500\n",
            "4/4 [==============================] - 0s 4ms/step - loss: 0.0137 - accuracy: 0.9905\n",
            "Epoch 149/500\n",
            "4/4 [==============================] - 0s 4ms/step - loss: 0.0198 - accuracy: 0.9905\n",
            "Epoch 150/500\n",
            "4/4 [==============================] - 0s 4ms/step - loss: 0.0106 - accuracy: 1.0000\n",
            "Epoch 151/500\n",
            "4/4 [==============================] - 0s 4ms/step - loss: 0.0065 - accuracy: 1.0000\n",
            "Epoch 152/500\n",
            "4/4 [==============================] - 0s 4ms/step - loss: 0.0057 - accuracy: 1.0000\n",
            "Epoch 153/500\n",
            "4/4 [==============================] - 0s 4ms/step - loss: 0.0169 - accuracy: 0.9905\n",
            "Epoch 154/500\n",
            "4/4 [==============================] - 0s 4ms/step - loss: 0.0126 - accuracy: 0.9905\n",
            "Epoch 155/500\n",
            "4/4 [==============================] - 0s 4ms/step - loss: 0.0051 - accuracy: 1.0000\n",
            "Epoch 156/500\n",
            "4/4 [==============================] - 0s 7ms/step - loss: 0.0064 - accuracy: 1.0000\n",
            "Epoch 157/500\n",
            "4/4 [==============================] - 0s 4ms/step - loss: 0.0049 - accuracy: 1.0000\n",
            "Epoch 158/500\n",
            "4/4 [==============================] - 0s 4ms/step - loss: 0.0108 - accuracy: 1.0000\n",
            "Epoch 159/500\n",
            "4/4 [==============================] - 0s 4ms/step - loss: 0.0142 - accuracy: 1.0000\n",
            "Epoch 160/500\n",
            "4/4 [==============================] - 0s 6ms/step - loss: 0.0088 - accuracy: 0.9905\n",
            "Epoch 161/500\n",
            "4/4 [==============================] - 0s 5ms/step - loss: 0.0074 - accuracy: 1.0000\n",
            "Epoch 162/500\n",
            "4/4 [==============================] - 0s 5ms/step - loss: 0.0074 - accuracy: 1.0000\n",
            "Epoch 163/500\n",
            "4/4 [==============================] - 0s 4ms/step - loss: 0.0389 - accuracy: 0.9905\n",
            "Epoch 164/500\n",
            "4/4 [==============================] - 0s 5ms/step - loss: 0.0050 - accuracy: 1.0000\n",
            "Epoch 165/500\n",
            "4/4 [==============================] - 0s 6ms/step - loss: 0.0092 - accuracy: 1.0000\n",
            "Epoch 166/500\n",
            "4/4 [==============================] - 0s 4ms/step - loss: 0.0042 - accuracy: 1.0000\n",
            "Epoch 167/500\n",
            "4/4 [==============================] - 0s 3ms/step - loss: 0.0175 - accuracy: 0.9905\n",
            "Epoch 168/500\n",
            "4/4 [==============================] - 0s 4ms/step - loss: 0.0144 - accuracy: 0.9905\n",
            "Epoch 169/500\n",
            "4/4 [==============================] - 0s 4ms/step - loss: 0.0134 - accuracy: 0.9905\n",
            "Epoch 170/500\n",
            "4/4 [==============================] - 0s 5ms/step - loss: 0.0185 - accuracy: 0.9905\n",
            "Epoch 171/500\n",
            "4/4 [==============================] - 0s 4ms/step - loss: 0.0200 - accuracy: 0.9905\n",
            "Epoch 172/500\n",
            "4/4 [==============================] - 0s 4ms/step - loss: 0.0172 - accuracy: 0.9905\n",
            "Epoch 173/500\n",
            "4/4 [==============================] - 0s 5ms/step - loss: 0.0099 - accuracy: 1.0000\n",
            "Epoch 174/500\n",
            "4/4 [==============================] - 0s 4ms/step - loss: 0.0158 - accuracy: 0.9905\n",
            "Epoch 175/500\n",
            "4/4 [==============================] - 0s 5ms/step - loss: 0.0107 - accuracy: 1.0000\n",
            "Epoch 176/500\n",
            "4/4 [==============================] - 0s 5ms/step - loss: 0.0034 - accuracy: 1.0000\n",
            "Epoch 177/500\n",
            "4/4 [==============================] - 0s 4ms/step - loss: 0.0058 - accuracy: 1.0000\n",
            "Epoch 178/500\n",
            "4/4 [==============================] - 0s 5ms/step - loss: 0.0079 - accuracy: 1.0000\n",
            "Epoch 179/500\n",
            "4/4 [==============================] - 0s 4ms/step - loss: 0.0111 - accuracy: 1.0000\n",
            "Epoch 180/500\n",
            "4/4 [==============================] - 0s 6ms/step - loss: 0.0131 - accuracy: 0.9905\n",
            "Epoch 181/500\n",
            "4/4 [==============================] - 0s 5ms/step - loss: 0.0088 - accuracy: 0.9905\n",
            "Epoch 182/500\n",
            "4/4 [==============================] - 0s 4ms/step - loss: 0.0068 - accuracy: 1.0000\n",
            "Epoch 183/500\n",
            "4/4 [==============================] - 0s 4ms/step - loss: 0.0025 - accuracy: 1.0000\n",
            "Epoch 184/500\n",
            "4/4 [==============================] - 0s 4ms/step - loss: 0.0184 - accuracy: 0.9905\n",
            "Epoch 185/500\n",
            "4/4 [==============================] - 0s 5ms/step - loss: 0.0066 - accuracy: 1.0000\n",
            "Epoch 186/500\n",
            "4/4 [==============================] - 0s 7ms/step - loss: 0.0098 - accuracy: 1.0000\n",
            "Epoch 187/500\n",
            "4/4 [==============================] - 0s 4ms/step - loss: 0.0066 - accuracy: 1.0000\n",
            "Epoch 188/500\n",
            "4/4 [==============================] - 0s 4ms/step - loss: 0.0078 - accuracy: 1.0000\n",
            "Epoch 189/500\n",
            "4/4 [==============================] - 0s 5ms/step - loss: 0.0134 - accuracy: 1.0000\n",
            "Epoch 190/500\n",
            "4/4 [==============================] - 0s 7ms/step - loss: 0.0112 - accuracy: 1.0000\n",
            "Epoch 191/500\n",
            "4/4 [==============================] - 0s 3ms/step - loss: 0.0059 - accuracy: 1.0000\n",
            "Epoch 192/500\n",
            "4/4 [==============================] - 0s 5ms/step - loss: 0.0084 - accuracy: 0.9905\n",
            "Epoch 193/500\n",
            "4/4 [==============================] - 0s 4ms/step - loss: 0.0146 - accuracy: 0.9905\n",
            "Epoch 194/500\n",
            "4/4 [==============================] - 0s 4ms/step - loss: 0.0052 - accuracy: 1.0000\n",
            "Epoch 195/500\n",
            "4/4 [==============================] - 0s 5ms/step - loss: 0.0057 - accuracy: 1.0000\n",
            "Epoch 196/500\n",
            "4/4 [==============================] - 0s 5ms/step - loss: 0.0089 - accuracy: 1.0000\n",
            "Epoch 197/500\n",
            "4/4 [==============================] - 0s 6ms/step - loss: 0.0062 - accuracy: 1.0000\n",
            "Epoch 198/500\n",
            "4/4 [==============================] - 0s 4ms/step - loss: 0.0050 - accuracy: 1.0000\n",
            "Epoch 199/500\n",
            "4/4 [==============================] - 0s 4ms/step - loss: 0.0137 - accuracy: 0.9905\n",
            "Epoch 200/500\n",
            "4/4 [==============================] - 0s 5ms/step - loss: 0.0096 - accuracy: 1.0000\n",
            "Epoch 201/500\n",
            "4/4 [==============================] - 0s 4ms/step - loss: 0.0055 - accuracy: 1.0000\n",
            "Epoch 202/500\n",
            "4/4 [==============================] - 0s 4ms/step - loss: 0.0188 - accuracy: 0.9905\n",
            "Epoch 203/500\n",
            "4/4 [==============================] - 0s 4ms/step - loss: 0.0219 - accuracy: 0.9905\n",
            "Epoch 204/500\n",
            "4/4 [==============================] - 0s 5ms/step - loss: 0.0052 - accuracy: 1.0000\n",
            "Epoch 205/500\n",
            "4/4 [==============================] - 0s 4ms/step - loss: 0.0127 - accuracy: 0.9905\n",
            "Epoch 206/500\n",
            "4/4 [==============================] - 0s 6ms/step - loss: 0.0043 - accuracy: 1.0000\n",
            "Epoch 207/500\n",
            "4/4 [==============================] - 0s 5ms/step - loss: 0.0059 - accuracy: 1.0000\n",
            "Epoch 208/500\n",
            "4/4 [==============================] - 0s 4ms/step - loss: 0.0019 - accuracy: 1.0000\n",
            "Epoch 209/500\n",
            "4/4 [==============================] - 0s 4ms/step - loss: 0.0052 - accuracy: 1.0000\n",
            "Epoch 210/500\n",
            "4/4 [==============================] - 0s 4ms/step - loss: 0.0019 - accuracy: 1.0000\n",
            "Epoch 211/500\n",
            "4/4 [==============================] - 0s 3ms/step - loss: 0.0052 - accuracy: 1.0000\n",
            "Epoch 212/500\n",
            "4/4 [==============================] - 0s 7ms/step - loss: 0.0053 - accuracy: 1.0000\n",
            "Epoch 213/500\n",
            "4/4 [==============================] - 0s 6ms/step - loss: 0.0051 - accuracy: 1.0000\n",
            "Epoch 214/500\n",
            "4/4 [==============================] - 0s 4ms/step - loss: 0.0183 - accuracy: 0.9810\n",
            "Epoch 215/500\n",
            "4/4 [==============================] - 0s 4ms/step - loss: 0.0043 - accuracy: 1.0000\n",
            "Epoch 216/500\n",
            "4/4 [==============================] - 0s 4ms/step - loss: 0.0173 - accuracy: 0.9905\n",
            "Epoch 217/500\n",
            "4/4 [==============================] - 0s 4ms/step - loss: 0.0066 - accuracy: 1.0000\n",
            "Epoch 218/500\n",
            "4/4 [==============================] - 0s 4ms/step - loss: 0.0058 - accuracy: 1.0000\n",
            "Epoch 219/500\n",
            "4/4 [==============================] - 0s 4ms/step - loss: 0.0061 - accuracy: 1.0000\n",
            "Epoch 220/500\n",
            "4/4 [==============================] - 0s 4ms/step - loss: 0.0069 - accuracy: 1.0000\n",
            "Epoch 221/500\n",
            "4/4 [==============================] - 0s 5ms/step - loss: 0.0086 - accuracy: 1.0000\n",
            "Epoch 222/500\n",
            "4/4 [==============================] - 0s 4ms/step - loss: 0.0032 - accuracy: 1.0000\n",
            "Epoch 223/500\n",
            "4/4 [==============================] - 0s 4ms/step - loss: 0.0052 - accuracy: 1.0000\n",
            "Epoch 224/500\n",
            "4/4 [==============================] - 0s 4ms/step - loss: 0.0030 - accuracy: 1.0000\n",
            "Epoch 225/500\n",
            "4/4 [==============================] - 0s 4ms/step - loss: 0.0047 - accuracy: 1.0000\n",
            "Epoch 226/500\n",
            "4/4 [==============================] - 0s 4ms/step - loss: 0.0201 - accuracy: 0.9905\n",
            "Epoch 227/500\n",
            "4/4 [==============================] - 0s 4ms/step - loss: 0.0084 - accuracy: 0.9905\n",
            "Epoch 228/500\n",
            "4/4 [==============================] - 0s 6ms/step - loss: 0.0055 - accuracy: 1.0000\n",
            "Epoch 229/500\n",
            "4/4 [==============================] - 0s 5ms/step - loss: 0.0041 - accuracy: 1.0000\n",
            "Epoch 230/500\n",
            "4/4 [==============================] - 0s 7ms/step - loss: 0.0178 - accuracy: 0.9905\n",
            "Epoch 231/500\n",
            "4/4 [==============================] - 0s 4ms/step - loss: 0.0113 - accuracy: 0.9905\n",
            "Epoch 232/500\n",
            "4/4 [==============================] - 0s 4ms/step - loss: 0.0259 - accuracy: 0.9905\n",
            "Epoch 233/500\n",
            "4/4 [==============================] - 0s 4ms/step - loss: 0.0134 - accuracy: 0.9905\n",
            "Epoch 234/500\n",
            "4/4 [==============================] - 0s 4ms/step - loss: 0.0103 - accuracy: 1.0000\n",
            "Epoch 235/500\n",
            "4/4 [==============================] - 0s 5ms/step - loss: 0.0272 - accuracy: 0.9905\n",
            "Epoch 236/500\n",
            "4/4 [==============================] - 0s 4ms/step - loss: 0.0091 - accuracy: 1.0000\n",
            "Epoch 237/500\n",
            "4/4 [==============================] - 0s 5ms/step - loss: 0.0069 - accuracy: 1.0000\n",
            "Epoch 238/500\n",
            "4/4 [==============================] - 0s 5ms/step - loss: 0.0068 - accuracy: 1.0000\n",
            "Epoch 239/500\n",
            "4/4 [==============================] - 0s 5ms/step - loss: 0.0027 - accuracy: 1.0000\n",
            "Epoch 240/500\n",
            "4/4 [==============================] - 0s 5ms/step - loss: 0.0098 - accuracy: 1.0000\n",
            "Epoch 241/500\n",
            "4/4 [==============================] - 0s 5ms/step - loss: 0.0023 - accuracy: 1.0000\n",
            "Epoch 242/500\n",
            "4/4 [==============================] - 0s 4ms/step - loss: 0.0095 - accuracy: 0.9905\n",
            "Epoch 243/500\n",
            "4/4 [==============================] - 0s 7ms/step - loss: 0.0124 - accuracy: 1.0000\n",
            "Epoch 244/500\n",
            "4/4 [==============================] - 0s 5ms/step - loss: 0.0306 - accuracy: 0.9905\n",
            "Epoch 245/500\n",
            "4/4 [==============================] - 0s 4ms/step - loss: 0.0095 - accuracy: 0.9905\n",
            "Epoch 246/500\n",
            "4/4 [==============================] - 0s 4ms/step - loss: 0.0038 - accuracy: 1.0000\n",
            "Epoch 247/500\n",
            "4/4 [==============================] - 0s 5ms/step - loss: 0.0070 - accuracy: 1.0000\n",
            "Epoch 248/500\n",
            "4/4 [==============================] - 0s 5ms/step - loss: 0.0051 - accuracy: 1.0000\n",
            "Epoch 249/500\n",
            "4/4 [==============================] - 0s 4ms/step - loss: 0.0026 - accuracy: 1.0000\n",
            "Epoch 250/500\n",
            "4/4 [==============================] - 0s 4ms/step - loss: 0.0057 - accuracy: 1.0000\n",
            "Epoch 251/500\n",
            "4/4 [==============================] - 0s 4ms/step - loss: 0.0075 - accuracy: 1.0000\n",
            "Epoch 252/500\n",
            "4/4 [==============================] - 0s 4ms/step - loss: 0.0142 - accuracy: 1.0000\n",
            "Epoch 253/500\n",
            "4/4 [==============================] - 0s 6ms/step - loss: 0.0098 - accuracy: 0.9905\n",
            "Epoch 254/500\n",
            "4/4 [==============================] - 0s 6ms/step - loss: 0.0155 - accuracy: 0.9905\n",
            "Epoch 255/500\n",
            "4/4 [==============================] - 0s 7ms/step - loss: 0.0054 - accuracy: 1.0000\n",
            "Epoch 256/500\n",
            "4/4 [==============================] - 0s 4ms/step - loss: 0.0064 - accuracy: 1.0000\n",
            "Epoch 257/500\n",
            "4/4 [==============================] - 0s 4ms/step - loss: 0.0031 - accuracy: 1.0000\n",
            "Epoch 258/500\n",
            "4/4 [==============================] - 0s 4ms/step - loss: 0.0077 - accuracy: 1.0000\n",
            "Epoch 259/500\n",
            "4/4 [==============================] - 0s 4ms/step - loss: 0.0046 - accuracy: 1.0000\n",
            "Epoch 260/500\n",
            "4/4 [==============================] - 0s 6ms/step - loss: 0.0042 - accuracy: 1.0000\n",
            "Epoch 261/500\n",
            "4/4 [==============================] - 0s 7ms/step - loss: 0.0040 - accuracy: 1.0000\n",
            "Epoch 262/500\n",
            "4/4 [==============================] - 0s 5ms/step - loss: 0.0147 - accuracy: 0.9905\n",
            "Epoch 263/500\n",
            "4/4 [==============================] - 0s 4ms/step - loss: 0.0021 - accuracy: 1.0000\n",
            "Epoch 264/500\n",
            "4/4 [==============================] - 0s 4ms/step - loss: 0.0058 - accuracy: 1.0000\n",
            "Epoch 265/500\n",
            "4/4 [==============================] - 0s 6ms/step - loss: 0.0043 - accuracy: 1.0000\n",
            "Epoch 266/500\n",
            "4/4 [==============================] - 0s 7ms/step - loss: 0.0096 - accuracy: 1.0000\n",
            "Epoch 267/500\n",
            "4/4 [==============================] - 0s 5ms/step - loss: 0.0062 - accuracy: 1.0000\n",
            "Epoch 268/500\n",
            "4/4 [==============================] - 0s 4ms/step - loss: 0.0094 - accuracy: 0.9905\n",
            "Epoch 269/500\n",
            "4/4 [==============================] - 0s 4ms/step - loss: 0.0241 - accuracy: 0.9905\n",
            "Epoch 270/500\n",
            "4/4 [==============================] - 0s 5ms/step - loss: 0.0054 - accuracy: 1.0000\n",
            "Epoch 271/500\n",
            "4/4 [==============================] - 0s 5ms/step - loss: 0.0049 - accuracy: 1.0000\n",
            "Epoch 272/500\n",
            "4/4 [==============================] - 0s 6ms/step - loss: 0.0035 - accuracy: 1.0000\n",
            "Epoch 273/500\n",
            "4/4 [==============================] - 0s 5ms/step - loss: 0.0131 - accuracy: 0.9905\n",
            "Epoch 274/500\n",
            "4/4 [==============================] - 0s 5ms/step - loss: 0.0033 - accuracy: 1.0000\n",
            "Epoch 275/500\n",
            "4/4 [==============================] - 0s 5ms/step - loss: 0.0054 - accuracy: 1.0000\n",
            "Epoch 276/500\n",
            "4/4 [==============================] - 0s 6ms/step - loss: 0.0047 - accuracy: 1.0000\n",
            "Epoch 277/500\n",
            "4/4 [==============================] - 0s 4ms/step - loss: 0.0036 - accuracy: 1.0000\n",
            "Epoch 278/500\n",
            "4/4 [==============================] - 0s 5ms/step - loss: 0.0061 - accuracy: 1.0000\n",
            "Epoch 279/500\n",
            "4/4 [==============================] - 0s 5ms/step - loss: 0.0052 - accuracy: 1.0000\n",
            "Epoch 280/500\n",
            "4/4 [==============================] - 0s 5ms/step - loss: 0.0046 - accuracy: 1.0000\n",
            "Epoch 281/500\n",
            "4/4 [==============================] - 0s 4ms/step - loss: 0.0030 - accuracy: 1.0000\n",
            "Epoch 282/500\n",
            "4/4 [==============================] - 0s 6ms/step - loss: 0.0023 - accuracy: 1.0000\n",
            "Epoch 283/500\n",
            "4/4 [==============================] - 0s 7ms/step - loss: 0.0018 - accuracy: 1.0000\n",
            "Epoch 284/500\n",
            "4/4 [==============================] - 0s 4ms/step - loss: 0.0025 - accuracy: 1.0000\n",
            "Epoch 285/500\n",
            "4/4 [==============================] - 0s 5ms/step - loss: 0.0050 - accuracy: 1.0000\n",
            "Epoch 286/500\n",
            "4/4 [==============================] - 0s 6ms/step - loss: 0.0032 - accuracy: 1.0000\n",
            "Epoch 287/500\n",
            "4/4 [==============================] - 0s 5ms/step - loss: 0.0196 - accuracy: 0.9810\n",
            "Epoch 288/500\n",
            "4/4 [==============================] - 0s 5ms/step - loss: 0.0013 - accuracy: 1.0000\n",
            "Epoch 289/500\n",
            "4/4 [==============================] - 0s 5ms/step - loss: 0.0074 - accuracy: 1.0000\n",
            "Epoch 290/500\n",
            "4/4 [==============================] - 0s 5ms/step - loss: 0.0042 - accuracy: 1.0000\n",
            "Epoch 291/500\n",
            "4/4 [==============================] - 0s 5ms/step - loss: 0.0080 - accuracy: 1.0000\n",
            "Epoch 292/500\n",
            "4/4 [==============================] - 0s 7ms/step - loss: 0.0058 - accuracy: 1.0000\n",
            "Epoch 293/500\n",
            "4/4 [==============================] - 0s 4ms/step - loss: 0.0038 - accuracy: 1.0000\n",
            "Epoch 294/500\n",
            "4/4 [==============================] - 0s 4ms/step - loss: 0.0089 - accuracy: 0.9905\n",
            "Epoch 295/500\n",
            "4/4 [==============================] - 0s 4ms/step - loss: 0.0121 - accuracy: 1.0000\n",
            "Epoch 296/500\n",
            "4/4 [==============================] - 0s 5ms/step - loss: 0.0041 - accuracy: 1.0000\n",
            "Epoch 297/500\n",
            "4/4 [==============================] - 0s 4ms/step - loss: 0.0048 - accuracy: 1.0000\n",
            "Epoch 298/500\n",
            "4/4 [==============================] - 0s 7ms/step - loss: 0.0055 - accuracy: 1.0000\n",
            "Epoch 299/500\n",
            "4/4 [==============================] - 0s 5ms/step - loss: 0.0053 - accuracy: 1.0000\n",
            "Epoch 300/500\n",
            "4/4 [==============================] - 0s 4ms/step - loss: 0.0066 - accuracy: 1.0000\n",
            "Epoch 301/500\n",
            "4/4 [==============================] - 0s 5ms/step - loss: 0.0115 - accuracy: 0.9905\n",
            "Epoch 302/500\n",
            "4/4 [==============================] - 0s 5ms/step - loss: 0.0142 - accuracy: 0.9905\n",
            "Epoch 303/500\n",
            "4/4 [==============================] - 0s 4ms/step - loss: 0.0032 - accuracy: 1.0000\n",
            "Epoch 304/500\n",
            "4/4 [==============================] - 0s 4ms/step - loss: 0.0149 - accuracy: 0.9905\n",
            "Epoch 305/500\n",
            "4/4 [==============================] - 0s 7ms/step - loss: 0.0054 - accuracy: 1.0000\n",
            "Epoch 306/500\n",
            "4/4 [==============================] - 0s 6ms/step - loss: 0.0018 - accuracy: 1.0000\n",
            "Epoch 307/500\n",
            "4/4 [==============================] - 0s 6ms/step - loss: 0.0095 - accuracy: 0.9905\n",
            "Epoch 308/500\n",
            "4/4 [==============================] - 0s 4ms/step - loss: 0.0356 - accuracy: 0.9905\n",
            "Epoch 309/500\n",
            "4/4 [==============================] - 0s 4ms/step - loss: 0.0068 - accuracy: 1.0000\n",
            "Epoch 310/500\n",
            "4/4 [==============================] - 0s 4ms/step - loss: 0.0169 - accuracy: 0.9905\n",
            "Epoch 311/500\n",
            "4/4 [==============================] - 0s 6ms/step - loss: 0.0215 - accuracy: 0.9905\n",
            "Epoch 312/500\n",
            "4/4 [==============================] - 0s 5ms/step - loss: 0.0046 - accuracy: 1.0000\n",
            "Epoch 313/500\n",
            "4/4 [==============================] - 0s 4ms/step - loss: 0.0054 - accuracy: 1.0000\n",
            "Epoch 314/500\n",
            "4/4 [==============================] - 0s 4ms/step - loss: 0.0065 - accuracy: 1.0000\n",
            "Epoch 315/500\n",
            "4/4 [==============================] - 0s 4ms/step - loss: 0.0054 - accuracy: 1.0000\n",
            "Epoch 316/500\n",
            "4/4 [==============================] - 0s 4ms/step - loss: 0.0020 - accuracy: 1.0000\n",
            "Epoch 317/500\n",
            "4/4 [==============================] - 0s 4ms/step - loss: 0.0026 - accuracy: 1.0000\n",
            "Epoch 318/500\n",
            "4/4 [==============================] - 0s 4ms/step - loss: 0.0022 - accuracy: 1.0000\n",
            "Epoch 319/500\n",
            "4/4 [==============================] - 0s 6ms/step - loss: 0.0047 - accuracy: 1.0000\n",
            "Epoch 320/500\n",
            "4/4 [==============================] - 0s 4ms/step - loss: 0.0064 - accuracy: 1.0000\n",
            "Epoch 321/500\n",
            "4/4 [==============================] - 0s 3ms/step - loss: 0.0021 - accuracy: 1.0000\n",
            "Epoch 322/500\n",
            "4/4 [==============================] - 0s 4ms/step - loss: 0.0068 - accuracy: 1.0000\n",
            "Epoch 323/500\n",
            "4/4 [==============================] - 0s 8ms/step - loss: 0.0203 - accuracy: 0.9905\n",
            "Epoch 324/500\n",
            "4/4 [==============================] - 0s 3ms/step - loss: 0.0049 - accuracy: 1.0000\n",
            "Epoch 325/500\n",
            "4/4 [==============================] - 0s 4ms/step - loss: 0.0129 - accuracy: 0.9905\n",
            "Epoch 326/500\n",
            "4/4 [==============================] - 0s 4ms/step - loss: 0.0087 - accuracy: 0.9905\n",
            "Epoch 327/500\n",
            "4/4 [==============================] - 0s 4ms/step - loss: 0.0067 - accuracy: 1.0000\n",
            "Epoch 328/500\n",
            "4/4 [==============================] - 0s 4ms/step - loss: 0.0025 - accuracy: 1.0000\n",
            "Epoch 329/500\n",
            "4/4 [==============================] - 0s 4ms/step - loss: 0.0033 - accuracy: 1.0000\n",
            "Epoch 330/500\n",
            "4/4 [==============================] - 0s 7ms/step - loss: 0.0051 - accuracy: 1.0000\n",
            "Epoch 331/500\n",
            "4/4 [==============================] - 0s 6ms/step - loss: 0.0022 - accuracy: 1.0000\n",
            "Epoch 332/500\n",
            "4/4 [==============================] - 0s 5ms/step - loss: 0.0027 - accuracy: 1.0000\n",
            "Epoch 333/500\n",
            "4/4 [==============================] - 0s 5ms/step - loss: 0.0013 - accuracy: 1.0000\n",
            "Epoch 334/500\n",
            "4/4 [==============================] - 0s 5ms/step - loss: 0.0067 - accuracy: 1.0000\n",
            "Epoch 335/500\n",
            "4/4 [==============================] - 0s 5ms/step - loss: 0.0062 - accuracy: 1.0000\n",
            "Epoch 336/500\n",
            "4/4 [==============================] - 0s 4ms/step - loss: 0.0020 - accuracy: 1.0000\n",
            "Epoch 337/500\n",
            "4/4 [==============================] - 0s 4ms/step - loss: 0.0047 - accuracy: 1.0000\n",
            "Epoch 338/500\n",
            "4/4 [==============================] - 0s 5ms/step - loss: 0.0038 - accuracy: 1.0000\n",
            "Epoch 339/500\n",
            "4/4 [==============================] - 0s 6ms/step - loss: 0.0051 - accuracy: 1.0000\n",
            "Epoch 340/500\n",
            "4/4 [==============================] - 0s 5ms/step - loss: 0.0088 - accuracy: 1.0000\n",
            "Epoch 341/500\n",
            "4/4 [==============================] - 0s 7ms/step - loss: 0.0026 - accuracy: 1.0000\n",
            "Epoch 342/500\n",
            "4/4 [==============================] - 0s 5ms/step - loss: 0.0088 - accuracy: 0.9905\n",
            "Epoch 343/500\n",
            "4/4 [==============================] - 0s 5ms/step - loss: 0.0024 - accuracy: 1.0000\n",
            "Epoch 344/500\n",
            "4/4 [==============================] - 0s 6ms/step - loss: 0.0058 - accuracy: 1.0000\n",
            "Epoch 345/500\n",
            "4/4 [==============================] - 0s 9ms/step - loss: 0.0022 - accuracy: 1.0000\n",
            "Epoch 346/500\n",
            "4/4 [==============================] - 0s 6ms/step - loss: 0.0014 - accuracy: 1.0000\n",
            "Epoch 347/500\n",
            "4/4 [==============================] - 0s 5ms/step - loss: 0.0037 - accuracy: 1.0000\n",
            "Epoch 348/500\n",
            "4/4 [==============================] - 0s 5ms/step - loss: 0.0050 - accuracy: 1.0000\n",
            "Epoch 349/500\n",
            "4/4 [==============================] - 0s 5ms/step - loss: 0.0023 - accuracy: 1.0000\n",
            "Epoch 350/500\n",
            "4/4 [==============================] - 0s 5ms/step - loss: 0.0060 - accuracy: 1.0000\n",
            "Epoch 351/500\n",
            "4/4 [==============================] - 0s 4ms/step - loss: 0.0028 - accuracy: 1.0000\n",
            "Epoch 352/500\n",
            "4/4 [==============================] - 0s 6ms/step - loss: 0.0182 - accuracy: 0.9905\n",
            "Epoch 353/500\n",
            "4/4 [==============================] - 0s 6ms/step - loss: 0.0062 - accuracy: 1.0000\n",
            "Epoch 354/500\n",
            "4/4 [==============================] - 0s 5ms/step - loss: 0.0057 - accuracy: 1.0000\n",
            "Epoch 355/500\n",
            "4/4 [==============================] - 0s 5ms/step - loss: 0.0059 - accuracy: 1.0000\n",
            "Epoch 356/500\n",
            "4/4 [==============================] - 0s 4ms/step - loss: 0.0093 - accuracy: 1.0000\n",
            "Epoch 357/500\n",
            "4/4 [==============================] - 0s 5ms/step - loss: 0.0069 - accuracy: 1.0000\n",
            "Epoch 358/500\n",
            "4/4 [==============================] - 0s 6ms/step - loss: 0.0031 - accuracy: 1.0000\n",
            "Epoch 359/500\n",
            "4/4 [==============================] - 0s 5ms/step - loss: 0.0024 - accuracy: 1.0000\n",
            "Epoch 360/500\n",
            "4/4 [==============================] - 0s 4ms/step - loss: 0.0086 - accuracy: 1.0000\n",
            "Epoch 361/500\n",
            "4/4 [==============================] - 0s 5ms/step - loss: 7.7389e-04 - accuracy: 1.0000\n",
            "Epoch 362/500\n",
            "4/4 [==============================] - 0s 9ms/step - loss: 0.0028 - accuracy: 1.0000\n",
            "Epoch 363/500\n",
            "4/4 [==============================] - 0s 5ms/step - loss: 0.0130 - accuracy: 1.0000\n",
            "Epoch 364/500\n",
            "4/4 [==============================] - 0s 4ms/step - loss: 0.0048 - accuracy: 1.0000\n",
            "Epoch 365/500\n",
            "4/4 [==============================] - 0s 6ms/step - loss: 0.0042 - accuracy: 1.0000\n",
            "Epoch 366/500\n",
            "4/4 [==============================] - 0s 6ms/step - loss: 0.0025 - accuracy: 1.0000\n",
            "Epoch 367/500\n",
            "4/4 [==============================] - 0s 4ms/step - loss: 0.0032 - accuracy: 1.0000\n",
            "Epoch 368/500\n",
            "4/4 [==============================] - 0s 5ms/step - loss: 7.2063e-04 - accuracy: 1.0000\n",
            "Epoch 369/500\n",
            "4/4 [==============================] - 0s 6ms/step - loss: 0.0080 - accuracy: 1.0000\n",
            "Epoch 370/500\n",
            "4/4 [==============================] - 0s 5ms/step - loss: 0.0032 - accuracy: 1.0000\n",
            "Epoch 371/500\n",
            "4/4 [==============================] - 0s 7ms/step - loss: 0.0048 - accuracy: 1.0000\n",
            "Epoch 372/500\n",
            "4/4 [==============================] - 0s 6ms/step - loss: 3.6681e-04 - accuracy: 1.0000\n",
            "Epoch 373/500\n",
            "4/4 [==============================] - 0s 4ms/step - loss: 0.0015 - accuracy: 1.0000\n",
            "Epoch 374/500\n",
            "4/4 [==============================] - 0s 6ms/step - loss: 0.0033 - accuracy: 1.0000\n",
            "Epoch 375/500\n",
            "4/4 [==============================] - 0s 6ms/step - loss: 0.0026 - accuracy: 1.0000\n",
            "Epoch 376/500\n",
            "4/4 [==============================] - 0s 4ms/step - loss: 0.0022 - accuracy: 1.0000\n",
            "Epoch 377/500\n",
            "4/4 [==============================] - 0s 3ms/step - loss: 0.0040 - accuracy: 1.0000\n",
            "Epoch 378/500\n",
            "4/4 [==============================] - 0s 5ms/step - loss: 0.0035 - accuracy: 1.0000\n",
            "Epoch 379/500\n",
            "4/4 [==============================] - 0s 4ms/step - loss: 0.0014 - accuracy: 1.0000\n",
            "Epoch 380/500\n",
            "4/4 [==============================] - 0s 4ms/step - loss: 0.0028 - accuracy: 1.0000\n",
            "Epoch 381/500\n",
            "4/4 [==============================] - 0s 3ms/step - loss: 0.0035 - accuracy: 1.0000\n",
            "Epoch 382/500\n",
            "4/4 [==============================] - 0s 4ms/step - loss: 0.0069 - accuracy: 1.0000\n",
            "Epoch 383/500\n",
            "4/4 [==============================] - 0s 4ms/step - loss: 6.3885e-04 - accuracy: 1.0000\n",
            "Epoch 384/500\n",
            "4/4 [==============================] - 0s 4ms/step - loss: 0.0115 - accuracy: 0.9905\n",
            "Epoch 385/500\n",
            "4/4 [==============================] - 0s 4ms/step - loss: 0.0063 - accuracy: 1.0000\n",
            "Epoch 386/500\n",
            "4/4 [==============================] - 0s 4ms/step - loss: 0.0035 - accuracy: 1.0000\n",
            "Epoch 387/500\n",
            "4/4 [==============================] - 0s 4ms/step - loss: 0.0030 - accuracy: 1.0000\n",
            "Epoch 388/500\n",
            "4/4 [==============================] - 0s 5ms/step - loss: 0.0027 - accuracy: 1.0000\n",
            "Epoch 389/500\n",
            "4/4 [==============================] - 0s 4ms/step - loss: 0.0021 - accuracy: 1.0000\n",
            "Epoch 390/500\n",
            "4/4 [==============================] - 0s 5ms/step - loss: 0.0039 - accuracy: 1.0000\n",
            "Epoch 391/500\n",
            "4/4 [==============================] - 0s 4ms/step - loss: 0.0052 - accuracy: 1.0000\n",
            "Epoch 392/500\n",
            "4/4 [==============================] - 0s 4ms/step - loss: 0.0024 - accuracy: 1.0000\n",
            "Epoch 393/500\n",
            "4/4 [==============================] - 0s 4ms/step - loss: 0.0012 - accuracy: 1.0000\n",
            "Epoch 394/500\n",
            "4/4 [==============================] - 0s 4ms/step - loss: 0.0029 - accuracy: 1.0000\n",
            "Epoch 395/500\n",
            "4/4 [==============================] - 0s 4ms/step - loss: 6.2239e-04 - accuracy: 1.0000\n",
            "Epoch 396/500\n",
            "4/4 [==============================] - 0s 4ms/step - loss: 0.0026 - accuracy: 1.0000\n",
            "Epoch 397/500\n",
            "4/4 [==============================] - 0s 6ms/step - loss: 0.0012 - accuracy: 1.0000\n",
            "Epoch 398/500\n",
            "4/4 [==============================] - 0s 5ms/step - loss: 0.0018 - accuracy: 1.0000\n",
            "Epoch 399/500\n",
            "4/4 [==============================] - 0s 6ms/step - loss: 0.0018 - accuracy: 1.0000\n",
            "Epoch 400/500\n",
            "4/4 [==============================] - 0s 5ms/step - loss: 6.1992e-04 - accuracy: 1.0000\n",
            "Epoch 401/500\n",
            "4/4 [==============================] - 0s 6ms/step - loss: 0.0014 - accuracy: 1.0000\n",
            "Epoch 402/500\n",
            "4/4 [==============================] - 0s 7ms/step - loss: 0.0029 - accuracy: 1.0000\n",
            "Epoch 403/500\n",
            "4/4 [==============================] - 0s 5ms/step - loss: 0.0038 - accuracy: 1.0000\n",
            "Epoch 404/500\n",
            "4/4 [==============================] - 0s 6ms/step - loss: 0.0014 - accuracy: 1.0000\n",
            "Epoch 405/500\n",
            "4/4 [==============================] - 0s 5ms/step - loss: 0.0019 - accuracy: 1.0000\n",
            "Epoch 406/500\n",
            "4/4 [==============================] - 0s 6ms/step - loss: 6.5306e-04 - accuracy: 1.0000\n",
            "Epoch 407/500\n",
            "4/4 [==============================] - 0s 4ms/step - loss: 0.0087 - accuracy: 1.0000\n",
            "Epoch 408/500\n",
            "4/4 [==============================] - 0s 5ms/step - loss: 0.0037 - accuracy: 1.0000\n",
            "Epoch 409/500\n",
            "4/4 [==============================] - 0s 5ms/step - loss: 0.0011 - accuracy: 1.0000\n",
            "Epoch 410/500\n",
            "4/4 [==============================] - 0s 5ms/step - loss: 0.0015 - accuracy: 1.0000\n",
            "Epoch 411/500\n",
            "4/4 [==============================] - 0s 6ms/step - loss: 0.0013 - accuracy: 1.0000\n",
            "Epoch 412/500\n",
            "4/4 [==============================] - 0s 5ms/step - loss: 0.0063 - accuracy: 1.0000\n",
            "Epoch 413/500\n",
            "4/4 [==============================] - 0s 5ms/step - loss: 0.0032 - accuracy: 1.0000\n",
            "Epoch 414/500\n",
            "4/4 [==============================] - 0s 8ms/step - loss: 4.9786e-04 - accuracy: 1.0000\n",
            "Epoch 415/500\n",
            "4/4 [==============================] - 0s 4ms/step - loss: 0.0041 - accuracy: 1.0000\n",
            "Epoch 416/500\n",
            "4/4 [==============================] - 0s 4ms/step - loss: 0.0021 - accuracy: 1.0000\n",
            "Epoch 417/500\n",
            "4/4 [==============================] - 0s 4ms/step - loss: 0.0022 - accuracy: 1.0000\n",
            "Epoch 418/500\n",
            "4/4 [==============================] - 0s 7ms/step - loss: 0.0013 - accuracy: 1.0000\n",
            "Epoch 419/500\n",
            "4/4 [==============================] - 0s 4ms/step - loss: 0.0022 - accuracy: 1.0000\n",
            "Epoch 420/500\n",
            "4/4 [==============================] - 0s 5ms/step - loss: 0.0049 - accuracy: 1.0000\n",
            "Epoch 421/500\n",
            "4/4 [==============================] - 0s 7ms/step - loss: 8.5921e-04 - accuracy: 1.0000\n",
            "Epoch 422/500\n",
            "4/4 [==============================] - 0s 5ms/step - loss: 0.0037 - accuracy: 1.0000\n",
            "Epoch 423/500\n",
            "4/4 [==============================] - 0s 4ms/step - loss: 0.0026 - accuracy: 1.0000\n",
            "Epoch 424/500\n",
            "4/4 [==============================] - 0s 6ms/step - loss: 0.0047 - accuracy: 1.0000\n",
            "Epoch 425/500\n",
            "4/4 [==============================] - 0s 7ms/step - loss: 0.0055 - accuracy: 1.0000\n",
            "Epoch 426/500\n",
            "4/4 [==============================] - 0s 4ms/step - loss: 0.0025 - accuracy: 1.0000\n",
            "Epoch 427/500\n",
            "4/4 [==============================] - 0s 4ms/step - loss: 0.0044 - accuracy: 1.0000\n",
            "Epoch 428/500\n",
            "4/4 [==============================] - 0s 6ms/step - loss: 5.5362e-04 - accuracy: 1.0000\n",
            "Epoch 429/500\n",
            "4/4 [==============================] - 0s 4ms/step - loss: 0.0120 - accuracy: 0.9905\n",
            "Epoch 430/500\n",
            "4/4 [==============================] - 0s 4ms/step - loss: 0.0073 - accuracy: 1.0000\n",
            "Epoch 431/500\n",
            "4/4 [==============================] - 0s 4ms/step - loss: 0.0015 - accuracy: 1.0000\n",
            "Epoch 432/500\n",
            "4/4 [==============================] - 0s 8ms/step - loss: 0.0026 - accuracy: 1.0000\n",
            "Epoch 433/500\n",
            "4/4 [==============================] - 0s 6ms/step - loss: 0.0014 - accuracy: 1.0000\n",
            "Epoch 434/500\n",
            "4/4 [==============================] - 0s 5ms/step - loss: 0.0042 - accuracy: 1.0000\n",
            "Epoch 435/500\n",
            "4/4 [==============================] - 0s 7ms/step - loss: 0.0011 - accuracy: 1.0000\n",
            "Epoch 436/500\n",
            "4/4 [==============================] - 0s 7ms/step - loss: 6.4725e-04 - accuracy: 1.0000\n",
            "Epoch 437/500\n",
            "4/4 [==============================] - 0s 7ms/step - loss: 0.0022 - accuracy: 1.0000\n",
            "Epoch 438/500\n",
            "4/4 [==============================] - 0s 5ms/step - loss: 0.0015 - accuracy: 1.0000\n",
            "Epoch 439/500\n",
            "4/4 [==============================] - 0s 7ms/step - loss: 4.2381e-04 - accuracy: 1.0000\n",
            "Epoch 440/500\n",
            "4/4 [==============================] - 0s 4ms/step - loss: 8.8560e-04 - accuracy: 1.0000\n",
            "Epoch 441/500\n",
            "4/4 [==============================] - 0s 4ms/step - loss: 0.0025 - accuracy: 1.0000\n",
            "Epoch 442/500\n",
            "4/4 [==============================] - 0s 4ms/step - loss: 0.0013 - accuracy: 1.0000\n",
            "Epoch 443/500\n",
            "4/4 [==============================] - 0s 4ms/step - loss: 6.9351e-04 - accuracy: 1.0000\n",
            "Epoch 444/500\n",
            "4/4 [==============================] - 0s 5ms/step - loss: 0.0012 - accuracy: 1.0000\n",
            "Epoch 445/500\n",
            "4/4 [==============================] - 0s 5ms/step - loss: 0.0013 - accuracy: 1.0000\n",
            "Epoch 446/500\n",
            "4/4 [==============================] - 0s 5ms/step - loss: 0.0012 - accuracy: 1.0000\n",
            "Epoch 447/500\n",
            "4/4 [==============================] - 0s 5ms/step - loss: 0.0016 - accuracy: 1.0000\n",
            "Epoch 448/500\n",
            "4/4 [==============================] - 0s 6ms/step - loss: 0.0044 - accuracy: 1.0000\n",
            "Epoch 449/500\n",
            "4/4 [==============================] - 0s 4ms/step - loss: 0.0013 - accuracy: 1.0000\n",
            "Epoch 450/500\n",
            "4/4 [==============================] - 0s 5ms/step - loss: 0.0037 - accuracy: 1.0000\n",
            "Epoch 451/500\n",
            "4/4 [==============================] - 0s 6ms/step - loss: 0.0031 - accuracy: 1.0000\n",
            "Epoch 452/500\n",
            "4/4 [==============================] - 0s 4ms/step - loss: 0.0061 - accuracy: 1.0000\n",
            "Epoch 453/500\n",
            "4/4 [==============================] - 0s 6ms/step - loss: 0.0035 - accuracy: 1.0000\n",
            "Epoch 454/500\n",
            "4/4 [==============================] - 0s 4ms/step - loss: 0.0014 - accuracy: 1.0000\n",
            "Epoch 455/500\n",
            "4/4 [==============================] - 0s 4ms/step - loss: 0.0094 - accuracy: 0.9905\n",
            "Epoch 456/500\n",
            "4/4 [==============================] - 0s 7ms/step - loss: 0.0014 - accuracy: 1.0000\n",
            "Epoch 457/500\n",
            "4/4 [==============================] - 0s 4ms/step - loss: 0.0032 - accuracy: 1.0000\n",
            "Epoch 458/500\n",
            "4/4 [==============================] - 0s 8ms/step - loss: 0.0080 - accuracy: 1.0000\n",
            "Epoch 459/500\n",
            "4/4 [==============================] - 0s 5ms/step - loss: 0.0029 - accuracy: 1.0000\n",
            "Epoch 460/500\n",
            "4/4 [==============================] - 0s 5ms/step - loss: 0.0073 - accuracy: 1.0000\n",
            "Epoch 461/500\n",
            "4/4 [==============================] - 0s 6ms/step - loss: 0.0019 - accuracy: 1.0000\n",
            "Epoch 462/500\n",
            "4/4 [==============================] - 0s 5ms/step - loss: 0.0042 - accuracy: 1.0000\n",
            "Epoch 463/500\n",
            "4/4 [==============================] - 0s 5ms/step - loss: 0.0135 - accuracy: 0.9905\n",
            "Epoch 464/500\n",
            "4/4 [==============================] - 0s 4ms/step - loss: 3.8826e-04 - accuracy: 1.0000\n",
            "Epoch 465/500\n",
            "4/4 [==============================] - 0s 4ms/step - loss: 0.0023 - accuracy: 1.0000\n",
            "Epoch 466/500\n",
            "4/4 [==============================] - 0s 5ms/step - loss: 0.0013 - accuracy: 1.0000\n",
            "Epoch 467/500\n",
            "4/4 [==============================] - 0s 6ms/step - loss: 9.5388e-04 - accuracy: 1.0000\n",
            "Epoch 468/500\n",
            "4/4 [==============================] - 0s 6ms/step - loss: 6.7256e-04 - accuracy: 1.0000\n",
            "Epoch 469/500\n",
            "4/4 [==============================] - 0s 9ms/step - loss: 0.0061 - accuracy: 1.0000\n",
            "Epoch 470/500\n",
            "4/4 [==============================] - 0s 5ms/step - loss: 0.0064 - accuracy: 1.0000\n",
            "Epoch 471/500\n",
            "4/4 [==============================] - 0s 4ms/step - loss: 0.0011 - accuracy: 1.0000\n",
            "Epoch 472/500\n",
            "4/4 [==============================] - 0s 4ms/step - loss: 0.0024 - accuracy: 1.0000\n",
            "Epoch 473/500\n",
            "4/4 [==============================] - 0s 7ms/step - loss: 6.9757e-04 - accuracy: 1.0000\n",
            "Epoch 474/500\n",
            "4/4 [==============================] - 0s 5ms/step - loss: 0.0018 - accuracy: 1.0000\n",
            "Epoch 475/500\n",
            "4/4 [==============================] - 0s 6ms/step - loss: 0.0011 - accuracy: 1.0000\n",
            "Epoch 476/500\n",
            "4/4 [==============================] - 0s 4ms/step - loss: 8.9889e-04 - accuracy: 1.0000\n",
            "Epoch 477/500\n",
            "4/4 [==============================] - 0s 5ms/step - loss: 0.0016 - accuracy: 1.0000\n",
            "Epoch 478/500\n",
            "4/4 [==============================] - 0s 3ms/step - loss: 6.4195e-04 - accuracy: 1.0000\n",
            "Epoch 479/500\n",
            "4/4 [==============================] - 0s 4ms/step - loss: 0.0020 - accuracy: 1.0000\n",
            "Epoch 480/500\n",
            "4/4 [==============================] - 0s 6ms/step - loss: 0.0017 - accuracy: 1.0000\n",
            "Epoch 481/500\n",
            "4/4 [==============================] - 0s 5ms/step - loss: 0.0027 - accuracy: 1.0000\n",
            "Epoch 482/500\n",
            "4/4 [==============================] - 0s 5ms/step - loss: 0.0035 - accuracy: 1.0000\n",
            "Epoch 483/500\n",
            "4/4 [==============================] - 0s 4ms/step - loss: 0.0017 - accuracy: 1.0000\n",
            "Epoch 484/500\n",
            "4/4 [==============================] - 0s 5ms/step - loss: 6.9377e-04 - accuracy: 1.0000\n",
            "Epoch 485/500\n",
            "4/4 [==============================] - 0s 4ms/step - loss: 8.3692e-04 - accuracy: 1.0000\n",
            "Epoch 486/500\n",
            "4/4 [==============================] - 0s 4ms/step - loss: 9.3344e-04 - accuracy: 1.0000\n",
            "Epoch 487/500\n",
            "4/4 [==============================] - 0s 4ms/step - loss: 0.0082 - accuracy: 0.9905\n",
            "Epoch 488/500\n",
            "4/4 [==============================] - 0s 6ms/step - loss: 0.0022 - accuracy: 1.0000\n",
            "Epoch 489/500\n",
            "4/4 [==============================] - 0s 4ms/step - loss: 0.0015 - accuracy: 1.0000\n",
            "Epoch 490/500\n",
            "4/4 [==============================] - 0s 4ms/step - loss: 0.0014 - accuracy: 1.0000\n",
            "Epoch 491/500\n",
            "4/4 [==============================] - 0s 4ms/step - loss: 0.0067 - accuracy: 1.0000\n",
            "Epoch 492/500\n",
            "4/4 [==============================] - 0s 5ms/step - loss: 0.0064 - accuracy: 1.0000\n",
            "Epoch 493/500\n",
            "4/4 [==============================] - 0s 5ms/step - loss: 0.0069 - accuracy: 1.0000\n",
            "Epoch 494/500\n",
            "4/4 [==============================] - 0s 4ms/step - loss: 7.0788e-04 - accuracy: 1.0000\n",
            "Epoch 495/500\n",
            "4/4 [==============================] - 0s 10ms/step - loss: 0.0024 - accuracy: 1.0000\n",
            "Epoch 496/500\n",
            "4/4 [==============================] - 0s 4ms/step - loss: 0.0021 - accuracy: 1.0000\n",
            "Epoch 497/500\n",
            "4/4 [==============================] - 0s 5ms/step - loss: 4.7470e-04 - accuracy: 1.0000\n",
            "Epoch 498/500\n",
            "4/4 [==============================] - 0s 4ms/step - loss: 8.6804e-04 - accuracy: 1.0000\n",
            "Epoch 499/500\n",
            "4/4 [==============================] - 0s 4ms/step - loss: 9.0374e-04 - accuracy: 1.0000\n",
            "Epoch 500/500\n",
            "4/4 [==============================] - 0s 4ms/step - loss: 6.0479e-04 - accuracy: 1.0000\n"
          ],
          "name": "stdout"
        },
        {
          "output_type": "execute_result",
          "data": {
            "text/plain": [
              "<tensorflow.python.keras.callbacks.History at 0x7f02242fc5d0>"
            ]
          },
          "metadata": {
            "tags": []
          },
          "execution_count": 98
        }
      ]
    },
    {
      "cell_type": "code",
      "metadata": {
        "id": "3-pdCs2gjwP-"
      },
      "source": [
        "pred_train = model.predict(X_train)"
      ],
      "execution_count": null,
      "outputs": []
    },
    {
      "cell_type": "code",
      "metadata": {
        "colab": {
          "base_uri": "https://localhost:8080/"
        },
        "id": "9xdHr29Uj2x3",
        "outputId": "1b39c86e-30da-43f8-e387-05cce99d48d6"
      },
      "source": [
        "pred_train"
      ],
      "execution_count": null,
      "outputs": [
        {
          "output_type": "execute_result",
          "data": {
            "text/plain": [
              "array([[7.11103962e-12, 1.22067036e-07, 9.99999881e-01],\n",
              "       [1.00000000e+00, 4.15040775e-22, 1.12535517e-31],\n",
              "       [1.00000000e+00, 2.69323247e-29, 8.19512704e-35],\n",
              "       [5.26608424e-10, 9.30796489e-07, 9.99999046e-01],\n",
              "       [1.00000000e+00, 2.04194200e-23, 0.00000000e+00],\n",
              "       [5.48161447e-11, 1.64814919e-05, 9.99983549e-01],\n",
              "       [4.38303204e-07, 9.99999285e-01, 2.47733226e-07],\n",
              "       [4.96244046e-16, 1.00000000e+00, 4.45777962e-32],\n",
              "       [1.58663755e-14, 2.48817911e-10, 1.00000000e+00],\n",
              "       [6.52103094e-11, 3.46944584e-09, 1.00000000e+00],\n",
              "       [7.73167642e-07, 9.99999285e-01, 2.94622573e-20],\n",
              "       [1.27792124e-24, 7.06513004e-19, 1.00000000e+00],\n",
              "       [1.00000000e+00, 2.21698061e-23, 0.00000000e+00],\n",
              "       [1.00000000e+00, 5.41407319e-25, 0.00000000e+00],\n",
              "       [7.85903406e-13, 1.00000000e+00, 1.54055329e-20],\n",
              "       [5.48161447e-11, 1.64814919e-05, 9.99983549e-01],\n",
              "       [6.98841193e-11, 8.89384410e-07, 9.99999166e-01],\n",
              "       [5.11968675e-18, 2.39178574e-14, 1.00000000e+00],\n",
              "       [4.24538616e-12, 1.00000000e+00, 1.10448808e-27],\n",
              "       [2.50252430e-10, 1.00000000e+00, 1.10034725e-17],\n",
              "       [3.53598375e-06, 9.99996066e-01, 3.33769208e-07],\n",
              "       [1.00000000e+00, 1.18662374e-30, 0.00000000e+00],\n",
              "       [2.55231316e-06, 9.99997020e-01, 4.82033215e-07],\n",
              "       [1.00000000e+00, 5.61861636e-23, 0.00000000e+00],\n",
              "       [1.00000000e+00, 3.68053973e-21, 0.00000000e+00],\n",
              "       [1.00000000e+00, 1.15089609e-08, 0.00000000e+00],\n",
              "       [1.80779645e-17, 2.80819584e-13, 1.00000000e+00],\n",
              "       [3.99000451e-12, 7.21183184e-08, 9.99999881e-01],\n",
              "       [1.00000000e+00, 8.60678597e-35, 0.00000000e+00],\n",
              "       [1.00000000e+00, 1.87356770e-25, 0.00000000e+00],\n",
              "       [1.15487346e-07, 1.01123005e-03, 9.98988688e-01],\n",
              "       [1.40303621e-06, 9.99998569e-01, 5.08356628e-08],\n",
              "       [1.00000000e+00, 9.61381827e-25, 0.00000000e+00],\n",
              "       [1.00000000e+00, 9.74308877e-37, 0.00000000e+00],\n",
              "       [5.93809535e-09, 1.00000000e+00, 8.86627502e-15],\n",
              "       [1.00000000e+00, 3.45379290e-27, 1.43500137e-34],\n",
              "       [8.34702695e-13, 6.22294938e-10, 1.00000000e+00],\n",
              "       [1.00000000e+00, 1.56438966e-20, 0.00000000e+00],\n",
              "       [4.60964111e-05, 9.99876142e-01, 7.76641755e-05],\n",
              "       [1.00000000e+00, 5.00505017e-29, 2.29620470e-36],\n",
              "       [1.62009542e-07, 9.99999881e-01, 2.23559561e-12],\n",
              "       [1.00000000e+00, 7.02498859e-24, 0.00000000e+00],\n",
              "       [2.48379715e-18, 1.13708826e-16, 1.00000000e+00],\n",
              "       [1.00000000e+00, 1.03948620e-23, 0.00000000e+00],\n",
              "       [1.02494134e-07, 9.99999881e-01, 7.13187981e-11],\n",
              "       [7.28380148e-15, 2.01551265e-09, 1.00000000e+00],\n",
              "       [1.00000000e+00, 1.91999648e-25, 0.00000000e+00],\n",
              "       [4.76103246e-08, 1.00000000e+00, 1.12702614e-09],\n",
              "       [2.32352793e-14, 1.00000000e+00, 9.76707052e-26],\n",
              "       [1.00000000e+00, 1.86160900e-22, 0.00000000e+00],\n",
              "       [2.00731359e-12, 8.25139432e-06, 9.99991775e-01],\n",
              "       [1.99639927e-15, 7.80379613e-13, 1.00000000e+00],\n",
              "       [1.00000000e+00, 9.42000849e-30, 0.00000000e+00],\n",
              "       [6.80515052e-13, 1.02369651e-08, 1.00000000e+00],\n",
              "       [3.06162988e-08, 7.49844871e-03, 9.92501497e-01],\n",
              "       [1.00000000e+00, 1.78250517e-27, 4.81613933e-36],\n",
              "       [2.48482570e-14, 1.31495070e-09, 1.00000000e+00],\n",
              "       [1.00000000e+00, 7.49863282e-23, 4.58956538e-36],\n",
              "       [4.19484326e-13, 1.01679838e-07, 9.99999881e-01],\n",
              "       [1.00000000e+00, 6.84219924e-26, 0.00000000e+00],\n",
              "       [2.87042812e-09, 3.23016569e-03, 9.96769905e-01],\n",
              "       [1.26497497e-07, 9.99999881e-01, 5.69696262e-22],\n",
              "       [7.67354049e-06, 9.99989867e-01, 2.47016192e-06],\n",
              "       [4.99395370e-09, 1.00000000e+00, 2.38266768e-16],\n",
              "       [7.44012667e-14, 1.43607043e-10, 1.00000000e+00],\n",
              "       [4.86319202e-16, 5.30805677e-11, 1.00000000e+00],\n",
              "       [3.65148298e-06, 9.99996185e-01, 1.16927595e-07],\n",
              "       [1.25347108e-10, 1.00000000e+00, 9.89747866e-19],\n",
              "       [1.05630730e-11, 1.00000000e+00, 9.80171310e-25],\n",
              "       [3.27342434e-07, 9.99999523e-01, 1.11438098e-07],\n",
              "       [1.43549403e-08, 1.00000000e+00, 3.51808644e-08],\n",
              "       [2.78295023e-08, 1.00000000e+00, 1.83664146e-19],\n",
              "       [1.00000000e+00, 1.89749151e-24, 0.00000000e+00],\n",
              "       [1.12401117e-18, 1.64282149e-13, 1.00000000e+00],\n",
              "       [1.00000000e+00, 3.91822592e-22, 0.00000000e+00],\n",
              "       [1.00000000e+00, 2.66643152e-27, 0.00000000e+00],\n",
              "       [2.73100231e-16, 5.69535174e-12, 1.00000000e+00],\n",
              "       [9.19734333e-09, 1.81458460e-03, 9.98185337e-01],\n",
              "       [8.02858438e-08, 9.99285638e-01, 7.14284601e-04],\n",
              "       [4.84761188e-07, 9.99997497e-01, 2.04760181e-06],\n",
              "       [1.00000000e+00, 2.92341029e-36, 0.00000000e+00],\n",
              "       [4.01510297e-10, 1.00000000e+00, 9.62898117e-09],\n",
              "       [1.00000000e+00, 9.35930267e-36, 1.56379668e-38],\n",
              "       [1.00000000e+00, 1.01339197e-20, 0.00000000e+00],\n",
              "       [1.00000000e+00, 2.54995329e-19, 0.00000000e+00],\n",
              "       [1.00000000e+00, 1.07006052e-29, 0.00000000e+00],\n",
              "       [2.30972255e-08, 1.00000000e+00, 1.23989645e-13],\n",
              "       [1.00000000e+00, 3.99681919e-21, 0.00000000e+00],\n",
              "       [2.41282461e-08, 1.00000000e+00, 1.66545293e-12],\n",
              "       [1.00000000e+00, 2.54451645e-23, 1.55851653e-35],\n",
              "       [1.00000000e+00, 3.21087712e-26, 1.26850918e-38],\n",
              "       [1.00000000e+00, 3.11893034e-21, 0.00000000e+00],\n",
              "       [1.49220086e-05, 9.99985099e-01, 1.98761103e-12],\n",
              "       [5.27731991e-08, 5.19701804e-04, 9.99480307e-01],\n",
              "       [3.49651840e-12, 1.00000000e+00, 4.10773631e-23],\n",
              "       [1.38905034e-06, 9.99998569e-01, 4.08269649e-08],\n",
              "       [1.00000000e+00, 3.65262376e-20, 0.00000000e+00],\n",
              "       [8.23295068e-08, 9.99999881e-01, 1.85090998e-10],\n",
              "       [1.48725496e-06, 9.47359622e-01, 5.26389442e-02],\n",
              "       [3.13483406e-11, 1.00000000e+00, 1.89651734e-21],\n",
              "       [4.19434127e-06, 9.99995828e-01, 2.64085177e-11],\n",
              "       [7.34281391e-09, 1.00000000e+00, 5.28015911e-14],\n",
              "       [3.38371393e-08, 1.51547007e-04, 9.99848366e-01],\n",
              "       [2.27316068e-05, 9.99977231e-01, 3.32464330e-12],\n",
              "       [2.31510639e-13, 4.33522374e-09, 1.00000000e+00]], dtype=float32)"
            ]
          },
          "metadata": {
            "tags": []
          },
          "execution_count": 100
        }
      ]
    },
    {
      "cell_type": "code",
      "metadata": {
        "colab": {
          "base_uri": "https://localhost:8080/",
          "height": 407
        },
        "id": "TVBn-LkEl-3H",
        "outputId": "1b8303ef-abf6-40d6-ca14-a7753899d4e0"
      },
      "source": [
        "Y_train"
      ],
      "execution_count": null,
      "outputs": [
        {
          "output_type": "execute_result",
          "data": {
            "text/html": [
              "<div>\n",
              "<style scoped>\n",
              "    .dataframe tbody tr th:only-of-type {\n",
              "        vertical-align: middle;\n",
              "    }\n",
              "\n",
              "    .dataframe tbody tr th {\n",
              "        vertical-align: top;\n",
              "    }\n",
              "\n",
              "    .dataframe thead th {\n",
              "        text-align: right;\n",
              "    }\n",
              "</style>\n",
              "<table border=\"1\" class=\"dataframe\">\n",
              "  <thead>\n",
              "    <tr style=\"text-align: right;\">\n",
              "      <th></th>\n",
              "      <th>Species_setosa</th>\n",
              "      <th>Species_versicolor</th>\n",
              "      <th>Species_virginica</th>\n",
              "    </tr>\n",
              "  </thead>\n",
              "  <tbody>\n",
              "    <tr>\n",
              "      <th>103</th>\n",
              "      <td>0</td>\n",
              "      <td>0</td>\n",
              "      <td>1</td>\n",
              "    </tr>\n",
              "    <tr>\n",
              "      <th>43</th>\n",
              "      <td>1</td>\n",
              "      <td>0</td>\n",
              "      <td>0</td>\n",
              "    </tr>\n",
              "    <tr>\n",
              "      <th>5</th>\n",
              "      <td>1</td>\n",
              "      <td>0</td>\n",
              "      <td>0</td>\n",
              "    </tr>\n",
              "    <tr>\n",
              "      <th>137</th>\n",
              "      <td>0</td>\n",
              "      <td>0</td>\n",
              "      <td>1</td>\n",
              "    </tr>\n",
              "    <tr>\n",
              "      <th>2</th>\n",
              "      <td>1</td>\n",
              "      <td>0</td>\n",
              "      <td>0</td>\n",
              "    </tr>\n",
              "    <tr>\n",
              "      <th>...</th>\n",
              "      <td>...</td>\n",
              "      <td>...</td>\n",
              "      <td>...</td>\n",
              "    </tr>\n",
              "    <tr>\n",
              "      <th>88</th>\n",
              "      <td>0</td>\n",
              "      <td>1</td>\n",
              "      <td>0</td>\n",
              "    </tr>\n",
              "    <tr>\n",
              "      <th>73</th>\n",
              "      <td>0</td>\n",
              "      <td>1</td>\n",
              "      <td>0</td>\n",
              "    </tr>\n",
              "    <tr>\n",
              "      <th>110</th>\n",
              "      <td>0</td>\n",
              "      <td>0</td>\n",
              "      <td>1</td>\n",
              "    </tr>\n",
              "    <tr>\n",
              "      <th>64</th>\n",
              "      <td>0</td>\n",
              "      <td>1</td>\n",
              "      <td>0</td>\n",
              "    </tr>\n",
              "    <tr>\n",
              "      <th>145</th>\n",
              "      <td>0</td>\n",
              "      <td>0</td>\n",
              "      <td>1</td>\n",
              "    </tr>\n",
              "  </tbody>\n",
              "</table>\n",
              "<p>105 rows × 3 columns</p>\n",
              "</div>"
            ],
            "text/plain": [
              "     Species_setosa  Species_versicolor  Species_virginica\n",
              "103               0                   0                  1\n",
              "43                1                   0                  0\n",
              "5                 1                   0                  0\n",
              "137               0                   0                  1\n",
              "2                 1                   0                  0\n",
              "..              ...                 ...                ...\n",
              "88                0                   1                  0\n",
              "73                0                   1                  0\n",
              "110               0                   0                  1\n",
              "64                0                   1                  0\n",
              "145               0                   0                  1\n",
              "\n",
              "[105 rows x 3 columns]"
            ]
          },
          "metadata": {
            "tags": []
          },
          "execution_count": 101
        }
      ]
    },
    {
      "cell_type": "code",
      "metadata": {
        "colab": {
          "base_uri": "https://localhost:8080/"
        },
        "id": "I-5HmQvuoI--",
        "outputId": "eabb129b-0dbf-4fd5-b439-809bf2e9df1f"
      },
      "source": [
        "np.argmax(pred_train[2])"
      ],
      "execution_count": null,
      "outputs": [
        {
          "output_type": "execute_result",
          "data": {
            "text/plain": [
              "0"
            ]
          },
          "metadata": {
            "tags": []
          },
          "execution_count": 102
        }
      ]
    },
    {
      "cell_type": "code",
      "metadata": {
        "id": "beZGmb6Fr5kG"
      },
      "source": [
        "pred_test = model.predict(X_test)"
      ],
      "execution_count": null,
      "outputs": []
    },
    {
      "cell_type": "code",
      "metadata": {
        "colab": {
          "base_uri": "https://localhost:8080/"
        },
        "id": "zhXo6KJxsAA8",
        "outputId": "29a193cf-d501-4857-dbe0-802a102c360d"
      },
      "source": [
        "pred_test"
      ],
      "execution_count": null,
      "outputs": [
        {
          "output_type": "execute_result",
          "data": {
            "text/plain": [
              "array([[2.28763482e-15, 1.65776117e-12, 1.00000000e+00],\n",
              "       [6.13358045e-11, 1.14035390e-06, 9.99998808e-01],\n",
              "       [1.00000000e+00, 6.24018721e-20, 2.06985857e-33],\n",
              "       [1.00000000e+00, 1.24293930e-24, 0.00000000e+00],\n",
              "       [1.00000000e+00, 6.77884270e-31, 2.37454074e-36],\n",
              "       [1.83371794e-16, 3.51184224e-13, 1.00000000e+00],\n",
              "       [1.90451431e-07, 9.99999762e-01, 7.15005521e-09],\n",
              "       [1.00000000e+00, 5.99215449e-30, 3.92844580e-38],\n",
              "       [1.59262425e-12, 1.00000000e+00, 8.73675784e-12],\n",
              "       [1.00000000e+00, 3.05761174e-22, 0.00000000e+00],\n",
              "       [1.00000000e+00, 6.97134640e-27, 0.00000000e+00],\n",
              "       [1.36159656e-06, 9.99998569e-01, 7.87966599e-08],\n",
              "       [5.11668867e-11, 1.00000000e+00, 4.29530159e-18],\n",
              "       [1.00000000e+00, 1.10658300e-29, 0.00000000e+00],\n",
              "       [1.78246612e-10, 1.00000000e+00, 1.94265765e-26],\n",
              "       [2.35931349e-17, 3.98598689e-13, 1.00000000e+00],\n",
              "       [6.70187572e-10, 4.63047081e-06, 9.99995351e-01],\n",
              "       [1.00000000e+00, 9.01295347e-28, 0.00000000e+00],\n",
              "       [2.69143197e-09, 1.00000000e+00, 3.54942147e-15],\n",
              "       [6.01501338e-14, 3.19980956e-12, 1.00000000e+00],\n",
              "       [1.80441547e-11, 7.52737517e-09, 1.00000000e+00],\n",
              "       [1.59095962e-13, 1.92259021e-11, 1.00000000e+00],\n",
              "       [2.38304310e-09, 8.23447863e-06, 9.99991775e-01],\n",
              "       [3.80845908e-13, 8.96566053e-06, 9.99991059e-01],\n",
              "       [1.00000000e+00, 1.23127690e-26, 0.00000000e+00],\n",
              "       [5.20143694e-12, 3.08265802e-10, 1.00000000e+00],\n",
              "       [3.76664495e-08, 9.99999642e-01, 3.47628429e-07],\n",
              "       [1.29816698e-07, 9.99962807e-01, 3.70133057e-05],\n",
              "       [3.97246191e-09, 9.99999881e-01, 7.63239498e-08],\n",
              "       [1.54489115e-08, 1.00000000e+00, 1.59966211e-13],\n",
              "       [1.15485512e-11, 1.42582008e-04, 9.99857426e-01],\n",
              "       [1.20008878e-10, 9.20927619e-07, 9.99999046e-01],\n",
              "       [4.96833627e-06, 4.67263162e-03, 9.95322406e-01],\n",
              "       [8.36037890e-13, 1.00000000e+00, 2.10093621e-13],\n",
              "       [7.66759974e-13, 1.00000000e+00, 1.75350693e-17],\n",
              "       [1.00000000e+00, 1.28044302e-18, 0.00000000e+00],\n",
              "       [1.00000000e+00, 2.33158891e-30, 0.00000000e+00],\n",
              "       [3.98256932e-04, 9.99497294e-01, 1.04428625e-04],\n",
              "       [1.42270972e-06, 1.17980083e-03, 9.98818696e-01],\n",
              "       [1.00000000e+00, 1.08999702e-28, 0.00000000e+00],\n",
              "       [1.00000000e+00, 4.51926043e-19, 0.00000000e+00],\n",
              "       [9.07465889e-16, 2.11066104e-12, 1.00000000e+00],\n",
              "       [4.70069539e-11, 2.02861315e-06, 9.99997973e-01],\n",
              "       [8.48219827e-07, 9.99997497e-01, 1.64110395e-06],\n",
              "       [1.45765133e-09, 1.00000000e+00, 2.91835427e-08]], dtype=float32)"
            ]
          },
          "metadata": {
            "tags": []
          },
          "execution_count": 104
        }
      ]
    },
    {
      "cell_type": "code",
      "metadata": {
        "colab": {
          "base_uri": "https://localhost:8080/",
          "height": 1000
        },
        "id": "rLAq3AjnsTCl",
        "outputId": "8314545f-dafc-4f97-f964-65b118b168ac"
      },
      "source": [
        "Y_test"
      ],
      "execution_count": null,
      "outputs": [
        {
          "output_type": "execute_result",
          "data": {
            "text/html": [
              "<div>\n",
              "<style scoped>\n",
              "    .dataframe tbody tr th:only-of-type {\n",
              "        vertical-align: middle;\n",
              "    }\n",
              "\n",
              "    .dataframe tbody tr th {\n",
              "        vertical-align: top;\n",
              "    }\n",
              "\n",
              "    .dataframe thead th {\n",
              "        text-align: right;\n",
              "    }\n",
              "</style>\n",
              "<table border=\"1\" class=\"dataframe\">\n",
              "  <thead>\n",
              "    <tr style=\"text-align: right;\">\n",
              "      <th></th>\n",
              "      <th>Species_setosa</th>\n",
              "      <th>Species_versicolor</th>\n",
              "      <th>Species_virginica</th>\n",
              "    </tr>\n",
              "  </thead>\n",
              "  <tbody>\n",
              "    <tr>\n",
              "      <th>143</th>\n",
              "      <td>0</td>\n",
              "      <td>0</td>\n",
              "      <td>1</td>\n",
              "    </tr>\n",
              "    <tr>\n",
              "      <th>139</th>\n",
              "      <td>0</td>\n",
              "      <td>0</td>\n",
              "      <td>1</td>\n",
              "    </tr>\n",
              "    <tr>\n",
              "      <th>23</th>\n",
              "      <td>1</td>\n",
              "      <td>0</td>\n",
              "      <td>0</td>\n",
              "    </tr>\n",
              "    <tr>\n",
              "      <th>20</th>\n",
              "      <td>1</td>\n",
              "      <td>0</td>\n",
              "      <td>0</td>\n",
              "    </tr>\n",
              "    <tr>\n",
              "      <th>16</th>\n",
              "      <td>1</td>\n",
              "      <td>0</td>\n",
              "      <td>0</td>\n",
              "    </tr>\n",
              "    <tr>\n",
              "      <th>104</th>\n",
              "      <td>0</td>\n",
              "      <td>0</td>\n",
              "      <td>1</td>\n",
              "    </tr>\n",
              "    <tr>\n",
              "      <th>63</th>\n",
              "      <td>0</td>\n",
              "      <td>1</td>\n",
              "      <td>0</td>\n",
              "    </tr>\n",
              "    <tr>\n",
              "      <th>19</th>\n",
              "      <td>1</td>\n",
              "      <td>0</td>\n",
              "      <td>0</td>\n",
              "    </tr>\n",
              "    <tr>\n",
              "      <th>119</th>\n",
              "      <td>0</td>\n",
              "      <td>0</td>\n",
              "      <td>1</td>\n",
              "    </tr>\n",
              "    <tr>\n",
              "      <th>9</th>\n",
              "      <td>1</td>\n",
              "      <td>0</td>\n",
              "      <td>0</td>\n",
              "    </tr>\n",
              "    <tr>\n",
              "      <th>27</th>\n",
              "      <td>1</td>\n",
              "      <td>0</td>\n",
              "      <td>0</td>\n",
              "    </tr>\n",
              "    <tr>\n",
              "      <th>91</th>\n",
              "      <td>0</td>\n",
              "      <td>1</td>\n",
              "      <td>0</td>\n",
              "    </tr>\n",
              "    <tr>\n",
              "      <th>89</th>\n",
              "      <td>0</td>\n",
              "      <td>1</td>\n",
              "      <td>0</td>\n",
              "    </tr>\n",
              "    <tr>\n",
              "      <th>10</th>\n",
              "      <td>1</td>\n",
              "      <td>0</td>\n",
              "      <td>0</td>\n",
              "    </tr>\n",
              "    <tr>\n",
              "      <th>57</th>\n",
              "      <td>0</td>\n",
              "      <td>1</td>\n",
              "      <td>0</td>\n",
              "    </tr>\n",
              "    <tr>\n",
              "      <th>132</th>\n",
              "      <td>0</td>\n",
              "      <td>0</td>\n",
              "      <td>1</td>\n",
              "    </tr>\n",
              "    <tr>\n",
              "      <th>125</th>\n",
              "      <td>0</td>\n",
              "      <td>0</td>\n",
              "      <td>1</td>\n",
              "    </tr>\n",
              "    <tr>\n",
              "      <th>36</th>\n",
              "      <td>1</td>\n",
              "      <td>0</td>\n",
              "      <td>0</td>\n",
              "    </tr>\n",
              "    <tr>\n",
              "      <th>94</th>\n",
              "      <td>0</td>\n",
              "      <td>1</td>\n",
              "      <td>0</td>\n",
              "    </tr>\n",
              "    <tr>\n",
              "      <th>136</th>\n",
              "      <td>0</td>\n",
              "      <td>0</td>\n",
              "      <td>1</td>\n",
              "    </tr>\n",
              "    <tr>\n",
              "      <th>124</th>\n",
              "      <td>0</td>\n",
              "      <td>0</td>\n",
              "      <td>1</td>\n",
              "    </tr>\n",
              "    <tr>\n",
              "      <th>109</th>\n",
              "      <td>0</td>\n",
              "      <td>0</td>\n",
              "      <td>1</td>\n",
              "    </tr>\n",
              "    <tr>\n",
              "      <th>149</th>\n",
              "      <td>0</td>\n",
              "      <td>0</td>\n",
              "      <td>1</td>\n",
              "    </tr>\n",
              "    <tr>\n",
              "      <th>108</th>\n",
              "      <td>0</td>\n",
              "      <td>0</td>\n",
              "      <td>1</td>\n",
              "    </tr>\n",
              "    <tr>\n",
              "      <th>40</th>\n",
              "      <td>1</td>\n",
              "      <td>0</td>\n",
              "      <td>0</td>\n",
              "    </tr>\n",
              "    <tr>\n",
              "      <th>148</th>\n",
              "      <td>0</td>\n",
              "      <td>0</td>\n",
              "      <td>1</td>\n",
              "    </tr>\n",
              "    <tr>\n",
              "      <th>54</th>\n",
              "      <td>0</td>\n",
              "      <td>1</td>\n",
              "      <td>0</td>\n",
              "    </tr>\n",
              "    <tr>\n",
              "      <th>133</th>\n",
              "      <td>0</td>\n",
              "      <td>0</td>\n",
              "      <td>1</td>\n",
              "    </tr>\n",
              "    <tr>\n",
              "      <th>106</th>\n",
              "      <td>0</td>\n",
              "      <td>0</td>\n",
              "      <td>1</td>\n",
              "    </tr>\n",
              "    <tr>\n",
              "      <th>55</th>\n",
              "      <td>0</td>\n",
              "      <td>1</td>\n",
              "      <td>0</td>\n",
              "    </tr>\n",
              "    <tr>\n",
              "      <th>146</th>\n",
              "      <td>0</td>\n",
              "      <td>0</td>\n",
              "      <td>1</td>\n",
              "    </tr>\n",
              "    <tr>\n",
              "      <th>116</th>\n",
              "      <td>0</td>\n",
              "      <td>0</td>\n",
              "      <td>1</td>\n",
              "    </tr>\n",
              "    <tr>\n",
              "      <th>70</th>\n",
              "      <td>0</td>\n",
              "      <td>1</td>\n",
              "      <td>0</td>\n",
              "    </tr>\n",
              "    <tr>\n",
              "      <th>68</th>\n",
              "      <td>0</td>\n",
              "      <td>1</td>\n",
              "      <td>0</td>\n",
              "    </tr>\n",
              "    <tr>\n",
              "      <th>87</th>\n",
              "      <td>0</td>\n",
              "      <td>1</td>\n",
              "      <td>0</td>\n",
              "    </tr>\n",
              "    <tr>\n",
              "      <th>8</th>\n",
              "      <td>1</td>\n",
              "      <td>0</td>\n",
              "      <td>0</td>\n",
              "    </tr>\n",
              "    <tr>\n",
              "      <th>22</th>\n",
              "      <td>1</td>\n",
              "      <td>0</td>\n",
              "      <td>0</td>\n",
              "    </tr>\n",
              "    <tr>\n",
              "      <th>85</th>\n",
              "      <td>0</td>\n",
              "      <td>1</td>\n",
              "      <td>0</td>\n",
              "    </tr>\n",
              "    <tr>\n",
              "      <th>131</th>\n",
              "      <td>0</td>\n",
              "      <td>0</td>\n",
              "      <td>1</td>\n",
              "    </tr>\n",
              "    <tr>\n",
              "      <th>4</th>\n",
              "      <td>1</td>\n",
              "      <td>0</td>\n",
              "      <td>0</td>\n",
              "    </tr>\n",
              "    <tr>\n",
              "      <th>45</th>\n",
              "      <td>1</td>\n",
              "      <td>0</td>\n",
              "      <td>0</td>\n",
              "    </tr>\n",
              "    <tr>\n",
              "      <th>140</th>\n",
              "      <td>0</td>\n",
              "      <td>0</td>\n",
              "      <td>1</td>\n",
              "    </tr>\n",
              "    <tr>\n",
              "      <th>141</th>\n",
              "      <td>0</td>\n",
              "      <td>0</td>\n",
              "      <td>1</td>\n",
              "    </tr>\n",
              "    <tr>\n",
              "      <th>86</th>\n",
              "      <td>0</td>\n",
              "      <td>1</td>\n",
              "      <td>0</td>\n",
              "    </tr>\n",
              "    <tr>\n",
              "      <th>134</th>\n",
              "      <td>0</td>\n",
              "      <td>0</td>\n",
              "      <td>1</td>\n",
              "    </tr>\n",
              "  </tbody>\n",
              "</table>\n",
              "</div>"
            ],
            "text/plain": [
              "     Species_setosa  Species_versicolor  Species_virginica\n",
              "143               0                   0                  1\n",
              "139               0                   0                  1\n",
              "23                1                   0                  0\n",
              "20                1                   0                  0\n",
              "16                1                   0                  0\n",
              "104               0                   0                  1\n",
              "63                0                   1                  0\n",
              "19                1                   0                  0\n",
              "119               0                   0                  1\n",
              "9                 1                   0                  0\n",
              "27                1                   0                  0\n",
              "91                0                   1                  0\n",
              "89                0                   1                  0\n",
              "10                1                   0                  0\n",
              "57                0                   1                  0\n",
              "132               0                   0                  1\n",
              "125               0                   0                  1\n",
              "36                1                   0                  0\n",
              "94                0                   1                  0\n",
              "136               0                   0                  1\n",
              "124               0                   0                  1\n",
              "109               0                   0                  1\n",
              "149               0                   0                  1\n",
              "108               0                   0                  1\n",
              "40                1                   0                  0\n",
              "148               0                   0                  1\n",
              "54                0                   1                  0\n",
              "133               0                   0                  1\n",
              "106               0                   0                  1\n",
              "55                0                   1                  0\n",
              "146               0                   0                  1\n",
              "116               0                   0                  1\n",
              "70                0                   1                  0\n",
              "68                0                   1                  0\n",
              "87                0                   1                  0\n",
              "8                 1                   0                  0\n",
              "22                1                   0                  0\n",
              "85                0                   1                  0\n",
              "131               0                   0                  1\n",
              "4                 1                   0                  0\n",
              "45                1                   0                  0\n",
              "140               0                   0                  1\n",
              "141               0                   0                  1\n",
              "86                0                   1                  0\n",
              "134               0                   0                  1"
            ]
          },
          "metadata": {
            "tags": []
          },
          "execution_count": 105
        }
      ]
    },
    {
      "cell_type": "code",
      "metadata": {
        "colab": {
          "base_uri": "https://localhost:8080/"
        },
        "id": "y6rIAQQzsD6m",
        "outputId": "a1915944-48cb-4af9-e896-a0a39f71877d"
      },
      "source": [
        "np.argmax(pred_test[2])"
      ],
      "execution_count": null,
      "outputs": [
        {
          "output_type": "execute_result",
          "data": {
            "text/plain": [
              "0"
            ]
          },
          "metadata": {
            "tags": []
          },
          "execution_count": 106
        }
      ]
    },
    {
      "cell_type": "code",
      "metadata": {
        "colab": {
          "base_uri": "https://localhost:8080/"
        },
        "id": "7eq14lbNt1dI",
        "outputId": "cce8169a-71f4-4cb2-9ccd-19a7461d6d47"
      },
      "source": [
        "pred_train.shape[0]"
      ],
      "execution_count": null,
      "outputs": [
        {
          "output_type": "execute_result",
          "data": {
            "text/plain": [
              "105"
            ]
          },
          "metadata": {
            "tags": []
          },
          "execution_count": 107
        }
      ]
    },
    {
      "cell_type": "code",
      "metadata": {
        "id": "4MWKlgPQ7q1F"
      },
      "source": [
        "clase_pred_train=np.zeros(pred_train.shape[0])\n",
        "for i in range(pred_train.shape[0]):\n",
        "  clase_pred_train[i]=np.argmax(pred_train[i])"
      ],
      "execution_count": null,
      "outputs": []
    },
    {
      "cell_type": "code",
      "metadata": {
        "colab": {
          "base_uri": "https://localhost:8080/"
        },
        "id": "U8EEVV-I8ADC",
        "outputId": "b5b64df5-706f-4cc7-abbb-26541245eab0"
      },
      "source": [
        "clase_pred_train"
      ],
      "execution_count": null,
      "outputs": [
        {
          "output_type": "execute_result",
          "data": {
            "text/plain": [
              "array([2., 0., 0., 2., 0., 2., 1., 1., 2., 2., 1., 2., 0., 0., 1., 2., 2.,\n",
              "       2., 1., 1., 1., 0., 1., 0., 0., 0., 2., 2., 0., 0., 2., 1., 0., 0.,\n",
              "       1., 0., 2., 0., 1., 0., 1., 0., 2., 0., 1., 2., 0., 1., 1., 0., 2.,\n",
              "       2., 0., 2., 2., 0., 2., 0., 2., 0., 2., 1., 1., 1., 2., 2., 1., 1.,\n",
              "       1., 1., 1., 1., 0., 2., 0., 0., 2., 2., 1., 1., 0., 1., 0., 0., 0.,\n",
              "       0., 1., 0., 1., 0., 0., 0., 1., 2., 1., 1., 0., 1., 1., 1., 1., 1.,\n",
              "       2., 1., 2.])"
            ]
          },
          "metadata": {
            "tags": []
          },
          "execution_count": 109
        }
      ]
    },
    {
      "cell_type": "code",
      "metadata": {
        "id": "JbtxPes-86v7"
      },
      "source": [
        "clase_train=Y_train[\"Species_versicolor\"]+2*Y_train[\"Species_virginica\"]"
      ],
      "execution_count": null,
      "outputs": []
    },
    {
      "cell_type": "code",
      "metadata": {
        "colab": {
          "base_uri": "https://localhost:8080/"
        },
        "id": "BiBKk1wQ9Sb9",
        "outputId": "04bbb52d-3e1c-40bd-b12a-8dfef751e0aa"
      },
      "source": [
        "clase_train"
      ],
      "execution_count": null,
      "outputs": [
        {
          "output_type": "execute_result",
          "data": {
            "text/plain": [
              "103    2\n",
              "43     0\n",
              "5      0\n",
              "137    2\n",
              "2      0\n",
              "      ..\n",
              "88     1\n",
              "73     1\n",
              "110    2\n",
              "64     1\n",
              "145    2\n",
              "Length: 105, dtype: uint8"
            ]
          },
          "metadata": {
            "tags": []
          },
          "execution_count": 111
        }
      ]
    },
    {
      "cell_type": "code",
      "metadata": {
        "colab": {
          "base_uri": "https://localhost:8080/"
        },
        "id": "OTU7xgE5-fTi",
        "outputId": "82e56060-ad61-4078-ea6a-ab71f65a81d6"
      },
      "source": [
        "error_train=clase_pred_train-clase_train\n",
        "error_train"
      ],
      "execution_count": null,
      "outputs": [
        {
          "output_type": "execute_result",
          "data": {
            "text/plain": [
              "103    0.0\n",
              "43     0.0\n",
              "5      0.0\n",
              "137    0.0\n",
              "2      0.0\n",
              "      ... \n",
              "88     0.0\n",
              "73     0.0\n",
              "110    0.0\n",
              "64     0.0\n",
              "145    0.0\n",
              "Length: 105, dtype: float64"
            ]
          },
          "metadata": {
            "tags": []
          },
          "execution_count": 112
        }
      ]
    },
    {
      "cell_type": "code",
      "metadata": {
        "id": "uxbQYia1-lJm"
      },
      "source": [
        "clase_pred_test=np.zeros(pred_test.shape[0])\n",
        "for i in range(clase_pred_test.shape[0]):\n",
        "  clase_pred_test[i]=np.argmax(pred_test[i])"
      ],
      "execution_count": null,
      "outputs": []
    },
    {
      "cell_type": "code",
      "metadata": {
        "colab": {
          "base_uri": "https://localhost:8080/"
        },
        "id": "ps-eBpZj_Wjy",
        "outputId": "6eba16b8-0e65-4d89-db40-3f5432305aca"
      },
      "source": [
        "clase_pred_test"
      ],
      "execution_count": null,
      "outputs": [
        {
          "output_type": "execute_result",
          "data": {
            "text/plain": [
              "array([2., 2., 0., 0., 0., 2., 1., 0., 1., 0., 0., 1., 1., 0., 1., 2., 2.,\n",
              "       0., 1., 2., 2., 2., 2., 2., 0., 2., 1., 1., 1., 1., 2., 2., 2., 1.,\n",
              "       1., 0., 0., 1., 2., 0., 0., 2., 2., 1., 1.])"
            ]
          },
          "metadata": {
            "tags": []
          },
          "execution_count": 114
        }
      ]
    },
    {
      "cell_type": "code",
      "metadata": {
        "id": "ytXnwkYz_auz"
      },
      "source": [
        "clase_test=Y_test[\"Species_versicolor\"]+2*Y_test[\"Species_virginica\"]"
      ],
      "execution_count": null,
      "outputs": []
    },
    {
      "cell_type": "code",
      "metadata": {
        "colab": {
          "base_uri": "https://localhost:8080/"
        },
        "id": "Exrw0wkH_h0X",
        "outputId": "88e9cb9c-5c86-4422-ba90-f1df330b7afe"
      },
      "source": [
        "clase_test"
      ],
      "execution_count": null,
      "outputs": [
        {
          "output_type": "execute_result",
          "data": {
            "text/plain": [
              "143    2\n",
              "139    2\n",
              "23     0\n",
              "20     0\n",
              "16     0\n",
              "104    2\n",
              "63     1\n",
              "19     0\n",
              "119    2\n",
              "9      0\n",
              "27     0\n",
              "91     1\n",
              "89     1\n",
              "10     0\n",
              "57     1\n",
              "132    2\n",
              "125    2\n",
              "36     0\n",
              "94     1\n",
              "136    2\n",
              "124    2\n",
              "109    2\n",
              "149    2\n",
              "108    2\n",
              "40     0\n",
              "148    2\n",
              "54     1\n",
              "133    2\n",
              "106    2\n",
              "55     1\n",
              "146    2\n",
              "116    2\n",
              "70     1\n",
              "68     1\n",
              "87     1\n",
              "8      0\n",
              "22     0\n",
              "85     1\n",
              "131    2\n",
              "4      0\n",
              "45     0\n",
              "140    2\n",
              "141    2\n",
              "86     1\n",
              "134    2\n",
              "dtype: uint8"
            ]
          },
          "metadata": {
            "tags": []
          },
          "execution_count": 116
        }
      ]
    },
    {
      "cell_type": "code",
      "metadata": {
        "colab": {
          "base_uri": "https://localhost:8080/"
        },
        "id": "Uo3vAZHn_lai",
        "outputId": "8c87db4f-553e-4703-982a-c807015eed5e"
      },
      "source": [
        "error_test=clase_pred_test-clase_test\n",
        "error_test"
      ],
      "execution_count": null,
      "outputs": [
        {
          "output_type": "execute_result",
          "data": {
            "text/plain": [
              "143    0.0\n",
              "139    0.0\n",
              "23     0.0\n",
              "20     0.0\n",
              "16     0.0\n",
              "104    0.0\n",
              "63     0.0\n",
              "19     0.0\n",
              "119   -1.0\n",
              "9      0.0\n",
              "27     0.0\n",
              "91     0.0\n",
              "89     0.0\n",
              "10     0.0\n",
              "57     0.0\n",
              "132    0.0\n",
              "125    0.0\n",
              "36     0.0\n",
              "94     0.0\n",
              "136    0.0\n",
              "124    0.0\n",
              "109    0.0\n",
              "149    0.0\n",
              "108    0.0\n",
              "40     0.0\n",
              "148    0.0\n",
              "54     0.0\n",
              "133   -1.0\n",
              "106   -1.0\n",
              "55     0.0\n",
              "146    0.0\n",
              "116    0.0\n",
              "70     1.0\n",
              "68     0.0\n",
              "87     0.0\n",
              "8      0.0\n",
              "22     0.0\n",
              "85     0.0\n",
              "131    0.0\n",
              "4      0.0\n",
              "45     0.0\n",
              "140    0.0\n",
              "141    0.0\n",
              "86     0.0\n",
              "134   -1.0\n",
              "dtype: float64"
            ]
          },
          "metadata": {
            "tags": []
          },
          "execution_count": 117
        }
      ]
    },
    {
      "cell_type": "markdown",
      "metadata": {
        "id": "tcRZLxjSJV--"
      },
      "source": [
        "Cálculo de las Matrices de confusión"
      ]
    },
    {
      "cell_type": "code",
      "metadata": {
        "id": "f0IvS6hS_yGM",
        "colab": {
          "base_uri": "https://localhost:8080/"
        },
        "outputId": "656b7ac5-7c59-4196-8c10-ee57e60fe45f"
      },
      "source": [
        "from sklearn.metrics import confusion_matrix\n",
        "confusion_matrix(clase_train,clase_pred_train)\n"
      ],
      "execution_count": null,
      "outputs": [
        {
          "output_type": "execute_result",
          "data": {
            "text/plain": [
              "array([[37,  0,  0],\n",
              "       [ 0, 38,  0],\n",
              "       [ 0,  0, 30]])"
            ]
          },
          "metadata": {
            "tags": []
          },
          "execution_count": 118
        }
      ]
    },
    {
      "cell_type": "code",
      "metadata": {
        "colab": {
          "base_uri": "https://localhost:8080/"
        },
        "id": "4EaTUwWMIqDv",
        "outputId": "ca6324a2-0f2f-4572-f581-1b4faf2a64c6"
      },
      "source": [
        "confusion_matrix(clase_test, clase_pred_test)"
      ],
      "execution_count": null,
      "outputs": [
        {
          "output_type": "execute_result",
          "data": {
            "text/plain": [
              "array([[13,  0,  0],\n",
              "       [ 0, 11,  1],\n",
              "       [ 0,  4, 16]])"
            ]
          },
          "metadata": {
            "tags": []
          },
          "execution_count": 119
        }
      ]
    }
  ]
}